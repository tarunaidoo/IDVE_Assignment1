{
 "cells": [
  {
   "cell_type": "markdown",
   "id": "690c5548-87d5-461c-8640-4fe7b8ec5b9b",
   "metadata": {},
   "source": [
    "### COMS4060A/7056A: Assignment #1\n",
    "**University of the Witwatersrand**  \n",
    "**Lecturer:** Muhammad Nasir (<muhammad.nasir@wits.ac.za>)  \n",
    "**Date:** August 2025\n",
    "\n",
    "---\n",
    "\n",
    "**Group Name:** *Visionaries*\n",
    "\n",
    "**Members**\n",
    "- Karabo Mohapeloa\n",
    "- Taruna Naidoo\n",
    "- Humani Nenzhelele - *1602841@students.wits.ac.za*\n",
    "- Daniel Ngobe\n"
   ]
  },
  {
   "cell_type": "markdown",
   "id": "2c51d2a0-fb89-4d2a-b659-5581b4f8b66c",
   "metadata": {},
   "source": [
    "## 1. Data Cleaning\n",
    "\n",
    "This dataset relies heavily on user input from around the world. Expect issues such as:\n",
    "- **`date fueled`** sometimes containing free-text descriptions instead of dates.\n",
    "- **Numeric fields** (e.g., `gallons`, `miles`, `odometer`) written with thousands separators (e.g., `1,523.50`) that must be cleaned before conversion.\n",
    "- **Cost fields** (`cost per gallon`, `total spent`) that include currency symbols (e.g., `R500`, `$500`) across many currencies.\n",
    "\n",
    "### 1.1 Date Fields\n",
    "1. Identify the **percentage of `date fueled` entries that are not valid dates**. **[1]**  \n",
    "2. Where `date fueled` is invalid but **`date captured` is valid**, **fill** `date fueled` with `date captured` as a proxy. **[1]**  \n",
    "3. **Convert** `date fueled` to a date type; set any invalid entries to **NaT**. **[2]**  \n",
    "4. **Remove dates** that are in the **future** or **earlier than 2005**. **[1]**  \n",
    "5. **Plot the distribution** of fueling dates and **comment** on the results. **[2]**\n",
    "\n"
   ]
  },
  {
   "cell_type": "code",
   "execution_count": 3,
   "id": "fc9db48b-4e87-4b0a-a853-fc1cbdee6b89",
   "metadata": {},
   "outputs": [
    {
     "name": "stdout",
     "output_type": "stream",
     "text": [
      "Collecting ydata_profiling\n",
      "  Downloading ydata_profiling-4.16.1-py2.py3-none-any.whl.metadata (22 kB)\n",
      "Requirement already satisfied: scipy<1.16,>=1.4.1 in c:\\users\\humaninenzhelele\\anaconda3\\lib\\site-packages (from ydata_profiling) (1.13.1)\n",
      "Requirement already satisfied: pandas!=1.4.0,<3.0,>1.1 in c:\\users\\humaninenzhelele\\anaconda3\\lib\\site-packages (from ydata_profiling) (2.2.2)\n",
      "Requirement already satisfied: matplotlib<=3.10,>=3.5 in c:\\users\\humaninenzhelele\\anaconda3\\lib\\site-packages (from ydata_profiling) (3.9.2)\n",
      "Requirement already satisfied: pydantic>=2 in c:\\users\\humaninenzhelele\\anaconda3\\lib\\site-packages (from ydata_profiling) (2.8.2)\n",
      "Requirement already satisfied: PyYAML<6.1,>=5.0.0 in c:\\users\\humaninenzhelele\\anaconda3\\lib\\site-packages (from ydata_profiling) (6.0.1)\n",
      "Requirement already satisfied: jinja2<3.2,>=2.11.1 in c:\\users\\humaninenzhelele\\anaconda3\\lib\\site-packages (from ydata_profiling) (3.1.4)\n",
      "Collecting visions<0.8.2,>=0.7.5 (from visions[type_image_path]<0.8.2,>=0.7.5->ydata_profiling)\n",
      "  Downloading visions-0.8.1-py3-none-any.whl.metadata (11 kB)\n",
      "Requirement already satisfied: numpy<2.2,>=1.16.0 in c:\\users\\humaninenzhelele\\anaconda3\\lib\\site-packages (from ydata_profiling) (1.26.4)\n",
      "Collecting htmlmin==0.1.12 (from ydata_profiling)\n",
      "  Downloading htmlmin-0.1.12.tar.gz (19 kB)\n",
      "  Preparing metadata (setup.py): started\n",
      "  Preparing metadata (setup.py): finished with status 'done'\n",
      "Collecting phik<0.13,>=0.11.1 (from ydata_profiling)\n",
      "  Downloading phik-0.12.5-cp312-cp312-win_amd64.whl.metadata (5.6 kB)\n",
      "Requirement already satisfied: requests<3,>=2.24.0 in c:\\users\\humaninenzhelele\\anaconda3\\lib\\site-packages (from ydata_profiling) (2.32.3)\n",
      "Requirement already satisfied: tqdm<5,>=4.48.2 in c:\\users\\humaninenzhelele\\anaconda3\\lib\\site-packages (from ydata_profiling) (4.66.5)\n",
      "Requirement already satisfied: seaborn<0.14,>=0.10.1 in c:\\users\\humaninenzhelele\\anaconda3\\lib\\site-packages (from ydata_profiling) (0.13.2)\n",
      "Collecting multimethod<2,>=1.4 (from ydata_profiling)\n",
      "  Downloading multimethod-1.12-py3-none-any.whl.metadata (9.6 kB)\n",
      "Requirement already satisfied: statsmodels<1,>=0.13.2 in c:\\users\\humaninenzhelele\\anaconda3\\lib\\site-packages (from ydata_profiling) (0.14.2)\n",
      "Collecting typeguard<5,>=3 (from ydata_profiling)\n",
      "  Downloading typeguard-4.4.4-py3-none-any.whl.metadata (3.3 kB)\n",
      "Collecting imagehash==4.3.1 (from ydata_profiling)\n",
      "  Downloading ImageHash-4.3.1-py2.py3-none-any.whl.metadata (8.0 kB)\n",
      "Collecting wordcloud>=1.9.3 (from ydata_profiling)\n",
      "  Downloading wordcloud-1.9.4-cp312-cp312-win_amd64.whl.metadata (3.5 kB)\n",
      "Collecting dacite>=1.8 (from ydata_profiling)\n",
      "  Downloading dacite-1.9.2-py3-none-any.whl.metadata (17 kB)\n",
      "Requirement already satisfied: numba<=0.61,>=0.56.0 in c:\\users\\humaninenzhelele\\anaconda3\\lib\\site-packages (from ydata_profiling) (0.60.0)\n",
      "Requirement already satisfied: PyWavelets in c:\\users\\humaninenzhelele\\anaconda3\\lib\\site-packages (from imagehash==4.3.1->ydata_profiling) (1.7.0)\n",
      "Requirement already satisfied: pillow in c:\\users\\humaninenzhelele\\anaconda3\\lib\\site-packages (from imagehash==4.3.1->ydata_profiling) (10.4.0)\n",
      "Requirement already satisfied: MarkupSafe>=2.0 in c:\\users\\humaninenzhelele\\anaconda3\\lib\\site-packages (from jinja2<3.2,>=2.11.1->ydata_profiling) (2.1.3)\n",
      "Requirement already satisfied: contourpy>=1.0.1 in c:\\users\\humaninenzhelele\\anaconda3\\lib\\site-packages (from matplotlib<=3.10,>=3.5->ydata_profiling) (1.2.0)\n",
      "Requirement already satisfied: cycler>=0.10 in c:\\users\\humaninenzhelele\\anaconda3\\lib\\site-packages (from matplotlib<=3.10,>=3.5->ydata_profiling) (0.11.0)\n",
      "Requirement already satisfied: fonttools>=4.22.0 in c:\\users\\humaninenzhelele\\anaconda3\\lib\\site-packages (from matplotlib<=3.10,>=3.5->ydata_profiling) (4.51.0)\n",
      "Requirement already satisfied: kiwisolver>=1.3.1 in c:\\users\\humaninenzhelele\\anaconda3\\lib\\site-packages (from matplotlib<=3.10,>=3.5->ydata_profiling) (1.4.4)\n",
      "Requirement already satisfied: packaging>=20.0 in c:\\users\\humaninenzhelele\\anaconda3\\lib\\site-packages (from matplotlib<=3.10,>=3.5->ydata_profiling) (24.1)\n",
      "Requirement already satisfied: pyparsing>=2.3.1 in c:\\users\\humaninenzhelele\\anaconda3\\lib\\site-packages (from matplotlib<=3.10,>=3.5->ydata_profiling) (3.1.2)\n",
      "Requirement already satisfied: python-dateutil>=2.7 in c:\\users\\humaninenzhelele\\anaconda3\\lib\\site-packages (from matplotlib<=3.10,>=3.5->ydata_profiling) (2.9.0.post0)\n",
      "Requirement already satisfied: llvmlite<0.44,>=0.43.0dev0 in c:\\users\\humaninenzhelele\\anaconda3\\lib\\site-packages (from numba<=0.61,>=0.56.0->ydata_profiling) (0.43.0)\n",
      "Requirement already satisfied: pytz>=2020.1 in c:\\users\\humaninenzhelele\\anaconda3\\lib\\site-packages (from pandas!=1.4.0,<3.0,>1.1->ydata_profiling) (2024.1)\n",
      "Requirement already satisfied: tzdata>=2022.7 in c:\\users\\humaninenzhelele\\anaconda3\\lib\\site-packages (from pandas!=1.4.0,<3.0,>1.1->ydata_profiling) (2023.3)\n",
      "Requirement already satisfied: joblib>=0.14.1 in c:\\users\\humaninenzhelele\\anaconda3\\lib\\site-packages (from phik<0.13,>=0.11.1->ydata_profiling) (1.4.2)\n",
      "Requirement already satisfied: annotated-types>=0.4.0 in c:\\users\\humaninenzhelele\\anaconda3\\lib\\site-packages (from pydantic>=2->ydata_profiling) (0.6.0)\n",
      "Requirement already satisfied: pydantic-core==2.20.1 in c:\\users\\humaninenzhelele\\anaconda3\\lib\\site-packages (from pydantic>=2->ydata_profiling) (2.20.1)\n",
      "Requirement already satisfied: typing-extensions>=4.6.1 in c:\\users\\humaninenzhelele\\anaconda3\\lib\\site-packages (from pydantic>=2->ydata_profiling) (4.11.0)\n",
      "Requirement already satisfied: charset-normalizer<4,>=2 in c:\\users\\humaninenzhelele\\anaconda3\\lib\\site-packages (from requests<3,>=2.24.0->ydata_profiling) (3.3.2)\n",
      "Requirement already satisfied: idna<4,>=2.5 in c:\\users\\humaninenzhelele\\anaconda3\\lib\\site-packages (from requests<3,>=2.24.0->ydata_profiling) (3.7)\n",
      "Requirement already satisfied: urllib3<3,>=1.21.1 in c:\\users\\humaninenzhelele\\anaconda3\\lib\\site-packages (from requests<3,>=2.24.0->ydata_profiling) (2.2.3)\n",
      "Requirement already satisfied: certifi>=2017.4.17 in c:\\users\\humaninenzhelele\\anaconda3\\lib\\site-packages (from requests<3,>=2.24.0->ydata_profiling) (2025.8.3)\n",
      "Requirement already satisfied: patsy>=0.5.6 in c:\\users\\humaninenzhelele\\anaconda3\\lib\\site-packages (from statsmodels<1,>=0.13.2->ydata_profiling) (0.5.6)\n",
      "Requirement already satisfied: colorama in c:\\users\\humaninenzhelele\\anaconda3\\lib\\site-packages (from tqdm<5,>=4.48.2->ydata_profiling) (0.4.6)\n",
      "Collecting typing-extensions>=4.6.1 (from pydantic>=2->ydata_profiling)\n",
      "  Downloading typing_extensions-4.15.0-py3-none-any.whl.metadata (3.3 kB)\n",
      "Requirement already satisfied: attrs>=19.3.0 in c:\\users\\humaninenzhelele\\anaconda3\\lib\\site-packages (from visions<0.8.2,>=0.7.5->visions[type_image_path]<0.8.2,>=0.7.5->ydata_profiling) (23.1.0)\n",
      "Requirement already satisfied: networkx>=2.4 in c:\\users\\humaninenzhelele\\anaconda3\\lib\\site-packages (from visions<0.8.2,>=0.7.5->visions[type_image_path]<0.8.2,>=0.7.5->ydata_profiling) (3.3)\n",
      "Collecting puremagic (from visions<0.8.2,>=0.7.5->visions[type_image_path]<0.8.2,>=0.7.5->ydata_profiling)\n",
      "  Downloading puremagic-1.30-py3-none-any.whl.metadata (5.8 kB)\n",
      "Requirement already satisfied: six in c:\\users\\humaninenzhelele\\anaconda3\\lib\\site-packages (from patsy>=0.5.6->statsmodels<1,>=0.13.2->ydata_profiling) (1.16.0)\n",
      "Downloading ydata_profiling-4.16.1-py2.py3-none-any.whl (400 kB)\n",
      "Downloading ImageHash-4.3.1-py2.py3-none-any.whl (296 kB)\n",
      "Downloading dacite-1.9.2-py3-none-any.whl (16 kB)\n",
      "Downloading multimethod-1.12-py3-none-any.whl (10 kB)\n",
      "Downloading phik-0.12.5-cp312-cp312-win_amd64.whl (676 kB)\n",
      "   ---------------------------------------- 0.0/676.2 kB ? eta -:--:--\n",
      "   --------------- ------------------------ 262.1/676.2 kB ? eta -:--:--\n",
      "   ---------------------------------------- 676.2/676.2 kB 2.4 MB/s eta 0:00:00\n",
      "Downloading typeguard-4.4.4-py3-none-any.whl (34 kB)\n",
      "Downloading visions-0.8.1-py3-none-any.whl (105 kB)\n",
      "Downloading wordcloud-1.9.4-cp312-cp312-win_amd64.whl (301 kB)\n",
      "Downloading typing_extensions-4.15.0-py3-none-any.whl (44 kB)\n",
      "Downloading puremagic-1.30-py3-none-any.whl (43 kB)\n",
      "Building wheels for collected packages: htmlmin\n",
      "  Building wheel for htmlmin (setup.py): started\n",
      "  Building wheel for htmlmin (setup.py): finished with status 'done'\n",
      "  Created wheel for htmlmin: filename=htmlmin-0.1.12-py3-none-any.whl size=27091 sha256=c53ec690aac679b61b30a952da6ce22180e719bc5d1892a18a52557668d8ad6a\n",
      "  Stored in directory: c:\\users\\humaninenzhelele\\appdata\\local\\pip\\cache\\wheels\\5f\\d4\\d7\\4189b07b5902ee9f3ce0dbb14909fbe8037c39d6c63ffd49c9\n",
      "Successfully built htmlmin\n",
      "Installing collected packages: puremagic, htmlmin, typing-extensions, multimethod, dacite, typeguard, imagehash, wordcloud, visions, phik, ydata_profiling\n",
      "  Attempting uninstall: typing-extensions\n",
      "    Found existing installation: typing_extensions 4.11.0\n",
      "    Uninstalling typing_extensions-4.11.0:\n",
      "      Successfully uninstalled typing_extensions-4.11.0\n",
      "Successfully installed dacite-1.9.2 htmlmin-0.1.12 imagehash-4.3.1 multimethod-1.12 phik-0.12.5 puremagic-1.30 typeguard-4.4.4 typing-extensions-4.15.0 visions-0.8.1 wordcloud-1.9.4 ydata_profiling-4.16.1\n",
      "Note: you may need to restart the kernel to use updated packages.\n"
     ]
    }
   ],
   "source": [
    "pip install ydata_profiling"
   ]
  },
  {
   "cell_type": "code",
   "execution_count": 4,
   "id": "74e4dace-cbd7-43ab-a59a-65ace23980a8",
   "metadata": {},
   "outputs": [],
   "source": [
    "import pandas as pd\n",
    "import re\n",
    "import numpy as np\n",
    "import matplotlib.pyplot as plt\n",
    "%matplotlib inline\n",
    "\n",
    "import missingno"
   ]
  },
  {
   "cell_type": "code",
   "execution_count": 5,
   "id": "1a3b8977-2db8-4a38-8ac5-cb65493c5589",
   "metadata": {},
   "outputs": [
    {
     "data": {
      "text/html": [
       "\n",
       "            <div>\n",
       "                <ins><a href=\"https://ydata.ai/register\">Upgrade to ydata-sdk</a></ins>\n",
       "                <p>\n",
       "                    Improve your data and profiling with ydata-sdk, featuring data quality scoring, redundancy detection, outlier identification, text validation, and synthetic data generation.\n",
       "                </p>\n",
       "            </div>\n",
       "            "
      ],
      "text/plain": [
       "<IPython.core.display.HTML object>"
      ]
     },
     "metadata": {},
     "output_type": "display_data"
    }
   ],
   "source": [
    "from ydata_profiling import ProfileReport"
   ]
  },
  {
   "cell_type": "code",
   "execution_count": 6,
   "id": "e6f3beed-13eb-44e9-8efb-190e7953554c",
   "metadata": {},
   "outputs": [
    {
     "data": {
      "text/plain": [
       "(1174870, 9)"
      ]
     },
     "execution_count": 6,
     "metadata": {},
     "output_type": "execute_result"
    }
   ],
   "source": [
    "import pandas as pd\n",
    "import re\n",
    "\n",
    "df = pd.read_csv(\n",
    "    \"logbook_assignment1.csv\",\n",
    "    low_memory=False  # avoids the warning, but doesn't fix dirty values\n",
    ")\n",
    "\n",
    "df.shape"
   ]
  },
  {
   "cell_type": "code",
   "execution_count": null,
   "id": "f73c0e84-3a10-461e-811e-a1231b9830c9",
   "metadata": {},
   "outputs": [
    {
     "data": {
      "application/vnd.jupyter.widget-view+json": {
       "model_id": "9b68a00dee08464ea82590ae1714e268",
       "version_major": 2,
       "version_minor": 0
      },
      "text/plain": [
       "Summarize dataset:   0%|          | 0/5 [00:00<?, ?it/s]"
      ]
     },
     "metadata": {},
     "output_type": "display_data"
    },
    {
     "name": "stderr",
     "output_type": "stream",
     "text": [
      "\n",
      "  0%|                                                                                            | 0/9 [00:00<?, ?it/s]\u001b[A\n",
      " 11%|█████████▎                                                                          | 1/9 [00:35<04:44, 35.57s/it]\u001b[A\n",
      "100%|████████████████████████████████████████████████████████████████████████████████████| 9/9 [05:22<00:00, 35.88s/it]\u001b[A\n"
     ]
    }
   ],
   "source": [
    "profile = ProfileReport(df)\n",
    "profile "
   ]
  },
  {
   "cell_type": "markdown",
   "id": "6d0153ab-fd68-4457-aacb-b8d405cf44de",
   "metadata": {},
   "source": [
    "## 1.1 Date Fields\n",
    "\n",
    "1. Identify what percentage of `date_fueled` entries are not proper dates. **[1]**"
   ]
  },
  {
   "cell_type": "code",
   "execution_count": 64,
   "id": "0a07cb23-3e2f-44da-a300-009640a56938",
   "metadata": {},
   "outputs": [
    {
     "data": {
      "text/html": [
       "<div>\n",
       "<style scoped>\n",
       "    .dataframe tbody tr th:only-of-type {\n",
       "        vertical-align: middle;\n",
       "    }\n",
       "\n",
       "    .dataframe tbody tr th {\n",
       "        vertical-align: top;\n",
       "    }\n",
       "\n",
       "    .dataframe thead th {\n",
       "        text-align: right;\n",
       "    }\n",
       "</style>\n",
       "<table border=\"1\" class=\"dataframe\">\n",
       "  <thead>\n",
       "    <tr style=\"text-align: right;\">\n",
       "      <th></th>\n",
       "      <th>date_fueled</th>\n",
       "      <th>date_captured</th>\n",
       "      <th>odometer</th>\n",
       "      <th>gallons</th>\n",
       "      <th>cost_per_gallon</th>\n",
       "      <th>total_spent</th>\n",
       "      <th>mpg</th>\n",
       "      <th>miles</th>\n",
       "      <th>user_url</th>\n",
       "      <th>date_fueled_parsed</th>\n",
       "      <th>date_fueled_clean</th>\n",
       "      <th>date_format_type</th>\n",
       "      <th>is_valid_date</th>\n",
       "      <th>date_captured_parsed</th>\n",
       "      <th>date_fueled_final</th>\n",
       "      <th>used_proxy</th>\n",
       "      <th>date_fueled_cleaned</th>\n",
       "    </tr>\n",
       "  </thead>\n",
       "  <tbody>\n",
       "    <tr>\n",
       "      <th>0</th>\n",
       "      <td>Cooling System, Heating System, Lights, Spark ...</td>\n",
       "      <td>Apr 7 2022</td>\n",
       "      <td>73370.0</td>\n",
       "      <td>NaN</td>\n",
       "      <td>NaN</td>\n",
       "      <td>NaN</td>\n",
       "      <td>NaN</td>\n",
       "      <td>NaN</td>\n",
       "      <td>https://www.somewebsite.com/suzuki/swift/2015/...</td>\n",
       "      <td>NaT</td>\n",
       "      <td>Cooling System, Heating System, Lights, Spark ...</td>\n",
       "      <td>Other</td>\n",
       "      <td>False</td>\n",
       "      <td>2022-04-07</td>\n",
       "      <td>2022-04-07</td>\n",
       "      <td>True</td>\n",
       "      <td>NaT</td>\n",
       "    </tr>\n",
       "    <tr>\n",
       "      <th>1</th>\n",
       "      <td>Nov 7 2012</td>\n",
       "      <td>Aug 30 2016</td>\n",
       "      <td>11983.0</td>\n",
       "      <td>12.120</td>\n",
       "      <td>$5.599</td>\n",
       "      <td>$67.86</td>\n",
       "      <td>31.6</td>\n",
       "      <td>382.9920</td>\n",
       "      <td>https://www.somewebsite.com/bmw/x3/2009/461150</td>\n",
       "      <td>2012-11-07</td>\n",
       "      <td>Nov 7 2012</td>\n",
       "      <td>Mon_DD_YYYY</td>\n",
       "      <td>True</td>\n",
       "      <td>2016-08-30</td>\n",
       "      <td>2012-11-07</td>\n",
       "      <td>False</td>\n",
       "      <td>2012-11-07</td>\n",
       "    </tr>\n",
       "    <tr>\n",
       "      <th>2</th>\n",
       "      <td>Sep 22 2012</td>\n",
       "      <td>Sep 28 2012</td>\n",
       "      <td>98233.0</td>\n",
       "      <td>7.991</td>\n",
       "      <td>£5.45</td>\n",
       "      <td>£43.53</td>\n",
       "      <td>28.5</td>\n",
       "      <td>227.7435</td>\n",
       "      <td>https://www.somewebsite.com/mercedes-benz/e300...</td>\n",
       "      <td>2012-09-22</td>\n",
       "      <td>Sep 22 2012</td>\n",
       "      <td>Mon_DD_YYYY</td>\n",
       "      <td>True</td>\n",
       "      <td>2012-09-28</td>\n",
       "      <td>2012-09-22</td>\n",
       "      <td>False</td>\n",
       "      <td>2012-09-22</td>\n",
       "    </tr>\n",
       "    <tr>\n",
       "      <th>3</th>\n",
       "      <td>May 4 2019</td>\n",
       "      <td>May 4 2019</td>\n",
       "      <td>163802.0</td>\n",
       "      <td>10.575</td>\n",
       "      <td>£5.11</td>\n",
       "      <td>£54.00</td>\n",
       "      <td>46.8</td>\n",
       "      <td>494.9100</td>\n",
       "      <td>https://www.somewebsite.com/bmw/320d/2010/247233</td>\n",
       "      <td>2019-05-04</td>\n",
       "      <td>May 4 2019</td>\n",
       "      <td>Mon_DD_YYYY</td>\n",
       "      <td>True</td>\n",
       "      <td>2019-05-04</td>\n",
       "      <td>2019-05-04</td>\n",
       "      <td>False</td>\n",
       "      <td>2019-05-04</td>\n",
       "    </tr>\n",
       "    <tr>\n",
       "      <th>4</th>\n",
       "      <td>Feb 15 2022</td>\n",
       "      <td>Feb 15 2022</td>\n",
       "      <td>NaN</td>\n",
       "      <td>11.651</td>\n",
       "      <td>$3.029</td>\n",
       "      <td>$35.29</td>\n",
       "      <td>21.0</td>\n",
       "      <td>244.4000</td>\n",
       "      <td>https://www.somewebsite.com/honda/passport/201...</td>\n",
       "      <td>2022-02-15</td>\n",
       "      <td>Feb 15 2022</td>\n",
       "      <td>Mon_DD_YYYY</td>\n",
       "      <td>True</td>\n",
       "      <td>2022-02-15</td>\n",
       "      <td>2022-02-15</td>\n",
       "      <td>False</td>\n",
       "      <td>2022-02-15</td>\n",
       "    </tr>\n",
       "  </tbody>\n",
       "</table>\n",
       "</div>"
      ],
      "text/plain": [
       "                                         date_fueled date_captured  odometer  \\\n",
       "0  Cooling System, Heating System, Lights, Spark ...    Apr 7 2022   73370.0   \n",
       "1                                         Nov 7 2012   Aug 30 2016   11983.0   \n",
       "2                                        Sep 22 2012   Sep 28 2012   98233.0   \n",
       "3                                         May 4 2019    May 4 2019  163802.0   \n",
       "4                                        Feb 15 2022   Feb 15 2022       NaN   \n",
       "\n",
       "   gallons cost_per_gallon total_spent   mpg     miles  \\\n",
       "0      NaN             NaN         NaN   NaN       NaN   \n",
       "1   12.120          $5.599      $67.86  31.6  382.9920   \n",
       "2    7.991           £5.45      £43.53  28.5  227.7435   \n",
       "3   10.575           £5.11      £54.00  46.8  494.9100   \n",
       "4   11.651          $3.029      $35.29  21.0  244.4000   \n",
       "\n",
       "                                            user_url date_fueled_parsed  \\\n",
       "0  https://www.somewebsite.com/suzuki/swift/2015/...                NaT   \n",
       "1     https://www.somewebsite.com/bmw/x3/2009/461150         2012-11-07   \n",
       "2  https://www.somewebsite.com/mercedes-benz/e300...         2012-09-22   \n",
       "3   https://www.somewebsite.com/bmw/320d/2010/247233         2019-05-04   \n",
       "4  https://www.somewebsite.com/honda/passport/201...         2022-02-15   \n",
       "\n",
       "                                   date_fueled_clean date_format_type  \\\n",
       "0  Cooling System, Heating System, Lights, Spark ...            Other   \n",
       "1                                         Nov 7 2012      Mon_DD_YYYY   \n",
       "2                                        Sep 22 2012      Mon_DD_YYYY   \n",
       "3                                         May 4 2019      Mon_DD_YYYY   \n",
       "4                                        Feb 15 2022      Mon_DD_YYYY   \n",
       "\n",
       "   is_valid_date date_captured_parsed date_fueled_final  used_proxy  \\\n",
       "0          False           2022-04-07        2022-04-07        True   \n",
       "1           True           2016-08-30        2012-11-07       False   \n",
       "2           True           2012-09-28        2012-09-22       False   \n",
       "3           True           2019-05-04        2019-05-04       False   \n",
       "4           True           2022-02-15        2022-02-15       False   \n",
       "\n",
       "  date_fueled_cleaned  \n",
       "0                 NaT  \n",
       "1          2012-11-07  \n",
       "2          2012-09-22  \n",
       "3          2019-05-04  \n",
       "4          2022-02-15  "
      ]
     },
     "execution_count": 64,
     "metadata": {},
     "output_type": "execute_result"
    }
   ],
   "source": [
    "df.head()"
   ]
  },
  {
   "cell_type": "code",
   "execution_count": 68,
   "id": "3434c73b-6c94-459d-a91a-3cdb8f47df63",
   "metadata": {},
   "outputs": [
    {
     "data": {
      "text/html": [
       "<div>\n",
       "<style scoped>\n",
       "    .dataframe tbody tr th:only-of-type {\n",
       "        vertical-align: middle;\n",
       "    }\n",
       "\n",
       "    .dataframe tbody tr th {\n",
       "        vertical-align: top;\n",
       "    }\n",
       "\n",
       "    .dataframe thead th {\n",
       "        text-align: right;\n",
       "    }\n",
       "</style>\n",
       "<table border=\"1\" class=\"dataframe\">\n",
       "  <thead>\n",
       "    <tr style=\"text-align: right;\">\n",
       "      <th></th>\n",
       "      <th>count</th>\n",
       "    </tr>\n",
       "    <tr>\n",
       "      <th>date_fueled</th>\n",
       "      <th></th>\n",
       "    </tr>\n",
       "  </thead>\n",
       "  <tbody>\n",
       "    <tr>\n",
       "      <th>Shell 87 Octane - Debit - Vernon</th>\n",
       "      <td>1</td>\n",
       "    </tr>\n",
       "    <tr>\n",
       "      <th>Parts Source\\n\\nLR Rotor\\nLR Wheel Hub\\nBrake Pads</th>\n",
       "      <td>1</td>\n",
       "    </tr>\n",
       "    <tr>\n",
       "      <th>Costco i-10 bunker hill</th>\n",
       "      <td>1</td>\n",
       "    </tr>\n",
       "    <tr>\n",
       "      <th>Differential Fluid, Engine Antifreeze, Spark Plugs, Transmission Fluid</th>\n",
       "      <td>1</td>\n",
       "    </tr>\n",
       "    <tr>\n",
       "      <th>Tires wearing good</th>\n",
       "      <td>1</td>\n",
       "    </tr>\n",
       "    <tr>\n",
       "      <th>EVIC 11.1\\r\\nOkahandja Windhoek</th>\n",
       "      <td>1</td>\n",
       "    </tr>\n",
       "    <tr>\n",
       "      <th>ZX Premium 95 octane.</th>\n",
       "      <td>1</td>\n",
       "    </tr>\n",
       "    <tr>\n",
       "      <th>Caltex. Rietfontein Road. Boksburg</th>\n",
       "      <td>1</td>\n",
       "    </tr>\n",
       "    <tr>\n",
       "      <th>New Compressor, Filter Drier, Serpentine Belt</th>\n",
       "      <td>1</td>\n",
       "    </tr>\n",
       "    <tr>\n",
       "      <th>Pilnas ekipažas ir bagažinė, kelionė į pajūrį ir malimasis ten</th>\n",
       "      <td>1</td>\n",
       "    </tr>\n",
       "    <tr>\n",
       "      <th>121930</th>\n",
       "      <td>1</td>\n",
       "    </tr>\n",
       "    <tr>\n",
       "      <th>Shell  P98  4c off</th>\n",
       "      <td>1</td>\n",
       "    </tr>\n",
       "    <tr>\n",
       "      <th>3 γεμισματα</th>\n",
       "      <td>1</td>\n",
       "    </tr>\n",
       "    <tr>\n",
       "      <th>Back to petronas again after kte work n hiway to bangi</th>\n",
       "      <td>1</td>\n",
       "    </tr>\n",
       "    <tr>\n",
       "      <th>Driver rear parking light \\nPassenger front parking light\\nPassenger front side marker light</th>\n",
       "      <td>1</td>\n",
       "    </tr>\n",
       "    <tr>\n",
       "      <th>4.6 l/100 km  63.3 km/h</th>\n",
       "      <td>1</td>\n",
       "    </tr>\n",
       "    <tr>\n",
       "      <th>£10 Asda Park Royal. Central Mddx H.</th>\n",
       "      <td>1</td>\n",
       "    </tr>\n",
       "    <tr>\n",
       "      <th>Includes weekend at Pueblo and five gallons from can.</th>\n",
       "      <td>1</td>\n",
       "    </tr>\n",
       "    <tr>\n",
       "      <th>Changed oil\\r\\nNew rear brakes\\r\\nNew air filter\\r\\nNew front tires\\r\\n\\r\\nFirst fill up on way to NC</th>\n",
       "      <td>1</td>\n",
       "    </tr>\n",
       "    <tr>\n",
       "      <th>Valve Cover Gaskets\\nSpark Plug Tubes\\nSensor Seals\\nOil Pressure Switch\\nTiming Chain Cover Gaskets\\nVacuum Pump Seal\\n\\n</th>\n",
       "      <td>1</td>\n",
       "    </tr>\n",
       "    <tr>\n",
       "      <th>Compra de grelha usada (R$80) e braço traseiro do limpador do vidro traseiro (R$30)</th>\n",
       "      <td>1</td>\n",
       "    </tr>\n",
       "    <tr>\n",
       "      <th>Front low headlights. 12 month guarantee. Return if not satisfied. Bought from auto zone.</th>\n",
       "      <td>1</td>\n",
       "    </tr>\n",
       "    <tr>\n",
       "      <th>Some A/C use.</th>\n",
       "      <td>1</td>\n",
       "    </tr>\n",
       "    <tr>\n",
       "      <th>Check air\\nAll set for 36 psi\\nDF.  36\\nDR. 36\\nPF.  37\\nPR. 37</th>\n",
       "      <td>1</td>\n",
       "    </tr>\n",
       "    <tr>\n",
       "      <th>27.9</th>\n",
       "      <td>1</td>\n",
       "    </tr>\n",
       "    <tr>\n",
       "      <th>Replaced transmission pan gasket and filter.  6 qts Mercian V.  Still leaking.  Turned out to be the dipstick filler tube.</th>\n",
       "      <td>1</td>\n",
       "    </tr>\n",
       "    <tr>\n",
       "      <th>Added Chevron Techron to this tank and last tank.</th>\n",
       "      <td>1</td>\n",
       "    </tr>\n",
       "    <tr>\n",
       "      <th>109,792km Spark Plugs and Wires.\\r\\nNGK Laser Platinum 7968 $16.49 each NAPA\\r\\nWire Set 06A905409N $114.55 NAPA\\r\\nIntake Gasket 06A129717 $5.88 NAPA\\r\\nTotal $196.00</th>\n",
       "      <td>1</td>\n",
       "    </tr>\n",
       "    <tr>\n",
       "      <th>Changed oil and increased tire pressure on a few tires that were low</th>\n",
       "      <td>1</td>\n",
       "    </tr>\n",
       "    <tr>\n",
       "      <th>Ignition Coilpack</th>\n",
       "      <td>1</td>\n",
       "    </tr>\n",
       "    <tr>\n",
       "      <th>Sam's Club - logged as \"regular\" manager Kevin</th>\n",
       "      <td>1</td>\n",
       "    </tr>\n",
       "    <tr>\n",
       "      <th>Inaccurate because tank not quite full.</th>\n",
       "      <td>1</td>\n",
       "    </tr>\n",
       "    <tr>\n",
       "      <th>Brakes, Front, Exhaust System, Inspection</th>\n",
       "      <td>1</td>\n",
       "    </tr>\n",
       "    <tr>\n",
       "      <th>Lismore to mudjimba</th>\n",
       "      <td>1</td>\n",
       "    </tr>\n",
       "    <tr>\n",
       "      <th>10,689.5</th>\n",
       "      <td>1</td>\n",
       "    </tr>\n",
       "    <tr>\n",
       "      <th>Engine Oil, Fuel Filter, Brake Fluid</th>\n",
       "      <td>1</td>\n",
       "    </tr>\n",
       "    <tr>\n",
       "      <th>MegaSquirt 3, 450cc Denso yellow-body primary injectors, 650cc Bosch EV14 secondaries.  GM CLT and MAT sensors, Ford TPS.</th>\n",
       "      <td>1</td>\n",
       "    </tr>\n",
       "    <tr>\n",
       "      <th>Redline 75W90 $190x4\\nLeft CV shaft $800\\nEngine oil 10-60 $650\\nLabour $700</th>\n",
       "      <td>1</td>\n",
       "    </tr>\n",
       "    <tr>\n",
       "      <th>Vacuum Switchover Valve</th>\n",
       "      <td>1</td>\n",
       "    </tr>\n",
       "    <tr>\n",
       "      <th>Jun 29 2005</th>\n",
       "      <td>1</td>\n",
       "    </tr>\n",
       "    <tr>\n",
       "      <th>refill 95 Shell</th>\n",
       "      <td>1</td>\n",
       "    </tr>\n",
       "    <tr>\n",
       "      <th>Had an accident.  And had lots of idle</th>\n",
       "      <td>1</td>\n",
       "    </tr>\n",
       "    <tr>\n",
       "      <th>Replaced dead battery</th>\n",
       "      <td>1</td>\n",
       "    </tr>\n",
       "    <tr>\n",
       "      <th>- ulei motor, filtre = 400\\n- schimb lichid frâna = 300\\n- schimb antigel x2 = 140\\n- curățare egr, conducte, înlocuire valva pcv, etc = 500\\n- schimb bujii = 256\\n- verificare compresor, înlocuire freon, ulei AC = 150\\n- verificare pompa apa, baterie 12v, plăcute frâna\\n\\n- PTM hybrid garage, Eduard Radu\\n</th>\n",
       "      <td>1</td>\n",
       "    </tr>\n",
       "    <tr>\n",
       "      <th>4 tires replaced\\nPower steering pump and fluid replaced \\nBrakes checked</th>\n",
       "      <td>1</td>\n",
       "    </tr>\n",
       "    <tr>\n",
       "      <th>33.2mpg computer ; 38mph avg spd</th>\n",
       "      <td>1</td>\n",
       "    </tr>\n",
       "    <tr>\n",
       "      <th>10,000km service including termostat</th>\n",
       "      <td>1</td>\n",
       "    </tr>\n",
       "    <tr>\n",
       "      <th>Headlights: Sylvania Silverstar H1</th>\n",
       "      <td>1</td>\n",
       "    </tr>\n",
       "    <tr>\n",
       "      <th>Allignment - rm25\\nBalancing - rm20\\nAdjust chamber - rm50 (front)</th>\n",
       "      <td>1</td>\n",
       "    </tr>\n",
       "    <tr>\n",
       "      <th>QuikTrip #00206</th>\n",
       "      <td>1</td>\n",
       "    </tr>\n",
       "  </tbody>\n",
       "</table>\n",
       "</div>"
      ],
      "text/plain": [
       "                                                    count\n",
       "date_fueled                                              \n",
       "Shell 87 Octane - Debit - Vernon                        1\n",
       "Parts Source\\n\\nLR Rotor\\nLR Wheel Hub\\nBrake P...      1\n",
       "Costco i-10 bunker hill                                 1\n",
       "Differential Fluid, Engine Antifreeze, Spark Pl...      1\n",
       "Tires wearing good                                      1\n",
       "EVIC 11.1\\r\\nOkahandja Windhoek                         1\n",
       "ZX Premium 95 octane.                                   1\n",
       "Caltex. Rietfontein Road. Boksburg                      1\n",
       "New Compressor, Filter Drier, Serpentine Belt           1\n",
       "Pilnas ekipažas ir bagažinė, kelionė į pajūrį i...      1\n",
       "121930                                                  1\n",
       "Shell  P98  4c off                                      1\n",
       "3 γεμισματα                                             1\n",
       "Back to petronas again after kte work n hiway t...      1\n",
       "Driver rear parking light \\nPassenger front par...      1\n",
       "4.6 l/100 km  63.3 km/h                                 1\n",
       "£10 Asda Park Royal. Central Mddx H.                    1\n",
       "Includes weekend at Pueblo and five gallons fro...      1\n",
       "Changed oil\\r\\nNew rear brakes\\r\\nNew air filte...      1\n",
       "Valve Cover Gaskets\\nSpark Plug Tubes\\nSensor S...      1\n",
       "Compra de grelha usada (R$80) e braço traseiro ...      1\n",
       "Front low headlights. 12 month guarantee. Retur...      1\n",
       "Some A/C use.                                           1\n",
       "Check air\\nAll set for 36 psi\\nDF.  36\\nDR. 36\\...      1\n",
       "27.9                                                    1\n",
       "Replaced transmission pan gasket and filter.  6...      1\n",
       "Added Chevron Techron to this tank and last tank.       1\n",
       "109,792km Spark Plugs and Wires.\\r\\nNGK Laser P...      1\n",
       "Changed oil and increased tire pressure on a fe...      1\n",
       "Ignition Coilpack                                       1\n",
       "Sam's Club - logged as \"regular\" manager Kevin          1\n",
       "Inaccurate because tank not quite full.                 1\n",
       "Brakes, Front, Exhaust System, Inspection               1\n",
       "Lismore to mudjimba                                     1\n",
       "10,689.5                                                1\n",
       "Engine Oil, Fuel Filter, Brake Fluid                    1\n",
       "MegaSquirt 3, 450cc Denso yellow-body primary i...      1\n",
       "Redline 75W90 $190x4\\nLeft CV shaft $800\\nEngin...      1\n",
       "Vacuum Switchover Valve                                 1\n",
       "Jun 29 2005                                             1\n",
       "refill 95 Shell                                         1\n",
       "Had an accident.  And had lots of idle                  1\n",
       "Replaced dead battery                                   1\n",
       "- ulei motor, filtre = 400\\n- schimb lichid frâ...      1\n",
       "4 tires replaced\\nPower steering pump and fluid...      1\n",
       "33.2mpg computer ; 38mph avg spd                        1\n",
       "10,000km service including termostat                    1\n",
       "Headlights: Sylvania Silverstar H1                      1\n",
       "Allignment - rm25\\nBalancing - rm20\\nAdjust cha...      1\n",
       "QuikTrip #00206                                         1"
      ]
     },
     "execution_count": 68,
     "metadata": {},
     "output_type": "execute_result"
    }
   ],
   "source": [
    "pd.DataFrame(df['date_fueled'].value_counts()).tail(50)"
   ]
  },
  {
   "cell_type": "code",
   "execution_count": 24,
   "id": "a8c28edc-cfe0-4668-b652-707c4e6b43f9",
   "metadata": {},
   "outputs": [],
   "source": [
    "# Make sure it's string and strip spaces\n",
    "df['date_fueled_clean'] = df['date_fueled'].astype(str).str.strip()\n"
   ]
  },
  {
   "cell_type": "code",
   "execution_count": 29,
   "id": "36c9ced2-2b48-4b39-b512-923539c4b113",
   "metadata": {},
   "outputs": [
    {
     "name": "stdout",
     "output_type": "stream",
     "text": [
      "Invalid entries: 137208\n",
      "Total entries: 1174870\n",
      "Percentage invalid: 11.68%\n"
     ]
    }
   ],
   "source": [
    "import pandas as pd\n",
    "import re\n",
    "\n",
    "# 1. Clean text\n",
    "df['date_fueled_clean'] = df['date_fueled'].astype(str).str.strip()\n",
    "\n",
    "# 2. Detect format type\n",
    "def detect_format(val):\n",
    "    if re.match(r'^[A-Za-z]{3} \\d{1,2} \\d{4}$', val):   # \"Nov 15 2020\"\n",
    "        return \"Mon_DD_YYYY\"\n",
    "    elif re.match(r'^\\d{1,2}/\\d{1,2}/\\d{4}$', val):     # \"15/11/2020\" or \"11/15/2020\"\n",
    "        return \"Slash_Date\"\n",
    "    else:\n",
    "        return \"Other\"\n",
    "\n",
    "df['date_format_type'] = df['date_fueled_clean'].apply(detect_format)\n",
    "\n",
    "# 3. Parse dates\n",
    "df['date_fueled_parsed'] = pd.NaT\n",
    "df.loc[df['date_format_type']==\"Mon_DD_YYYY\", 'date_fueled_parsed'] = pd.to_datetime(\n",
    "    df.loc[df['date_format_type']==\"Mon_DD_YYYY\", 'date_fueled_clean'],\n",
    "    format=\"%b %d %Y\", errors=\"coerce\"\n",
    ")\n",
    "df.loc[df['date_format_type']==\"Slash_Date\", 'date_fueled_parsed'] = pd.to_datetime(\n",
    "    df.loc[df['date_format_type']==\"Slash_Date\", 'date_fueled_clean'],\n",
    "    dayfirst=True, errors=\"coerce\"   # change to False if US-style\n",
    ")\n",
    "\n",
    "# 4. Flag valid vs invalid\n",
    "df['is_valid_date'] = df['date_fueled_parsed'].notna()\n",
    "\n",
    "# 5. Summary\n",
    "invalid_count = (~df['is_valid_date']).sum()\n",
    "total_count = len(df)\n",
    "percentage_invalid = (invalid_count / total_count) * 100\n",
    "\n",
    "print(f\"Invalid entries: {invalid_count}\")\n",
    "print(f\"Total entries: {total_count}\")\n",
    "print(f\"Percentage invalid: {percentage_invalid:.2f}%\")\n"
   ]
  },
  {
   "cell_type": "markdown",
   "id": "279ee0ef-11de-45ec-925e-cd1c99635e2c",
   "metadata": {},
   "source": [
    "2. If `date_fueled` is not entered correctly (or is not a date), and the `date_captured` is a valid date, then fill in this value as a proxy. **[1]**"
   ]
  },
  {
   "cell_type": "code",
   "execution_count": 33,
   "id": "d51cc567-4ab5-40ad-9025-c083b44b713f",
   "metadata": {},
   "outputs": [],
   "source": [
    "import pandas as pd\n",
    "import numpy as np\n",
    "\n",
    "# Step 1: Clean\n",
    "df['date_fueled_clean'] = df['date_fueled'].astype(str).str.strip()\n",
    "\n",
    "# Step 2: Remove obvious junk (numbers with decimals or 'H')\n",
    "mask_junk = df['date_fueled_clean'].str.contains(r'\\d+\\.\\d+|H', na=False)\n",
    "df.loc[mask_junk, 'date_fueled_clean'] = np.nan\n",
    "\n",
    "# Step 3: First pass (Mon DD YYYY, e.g. \"Nov 15 2020\")\n",
    "fueled1 = pd.to_datetime(\n",
    "    df['date_fueled_clean'],\n",
    "    format=\"%b %d %Y\",\n",
    "    errors=\"coerce\"\n",
    ")\n",
    "\n",
    "# Step 4: Second pass only for unparsed rows, with strict slash format\n",
    "mask_fueled = fueled1.isna()\n",
    "fueled2 = pd.to_datetime(\n",
    "    df.loc[mask_fueled, 'date_fueled_clean'],\n",
    "    format=\"%d/%m/%Y\",    # adjust if your data is US-style\n",
    "    errors=\"coerce\"\n",
    ")\n",
    "\n",
    "# Combine\n",
    "fueled1.loc[mask_fueled] = fueled2\n",
    "df['date_fueled_parsed'] = fueled1\n"
   ]
  },
  {
   "cell_type": "code",
   "execution_count": 34,
   "id": "1f70db2d-8531-4c9d-badd-01c80ee3f2b1",
   "metadata": {},
   "outputs": [],
   "source": [
    "# Parse date_captured safely (assuming Mon DD YYYY)\n",
    "df['date_captured_parsed'] = pd.to_datetime(\n",
    "    df['date_captured'], \n",
    "    format=\"%b %d %Y\", \n",
    "    errors=\"coerce\"\n",
    ")\n",
    "\n",
    "# Fill missing date_fueled with date_captured\n",
    "df['date_fueled_final'] = df['date_fueled_parsed'].fillna(df['date_captured_parsed'])\n",
    "\n",
    "# Flag rows where proxy was used\n",
    "df['used_proxy'] = df['date_fueled_parsed'].isna() & df['date_captured_parsed'].notna()\n"
   ]
  },
  {
   "cell_type": "code",
   "execution_count": 36,
   "id": "70229fa5-c61f-4fb5-9f7b-e8f07a94411b",
   "metadata": {},
   "outputs": [
    {
     "name": "stdout",
     "output_type": "stream",
     "text": [
      "DATE CLEANING REPORT\n",
      "Total records: 1174870\n",
      "Valid from date_fueled: 1037662 (88.32%)\n",
      "Filled with proxy (date_captured): 137208 (11.68%)\n",
      "Still invalid: 0 (0.00%)\n"
     ]
    }
   ],
   "source": [
    "# Report\n",
    "total = len(df)\n",
    "valid_direct = df['date_fueled_parsed'].notna().sum()\n",
    "filled_proxy = df['used_proxy'].sum()\n",
    "still_invalid = df['date_fueled_final'].isna().sum()\n",
    "\n",
    "pct_valid_direct = (valid_direct / total) * 100\n",
    "pct_filled_proxy = (filled_proxy / total) * 100\n",
    "pct_still_invalid = (still_invalid / total) * 100\n",
    "\n",
    "print(\"DATE CLEANING REPORT\")\n",
    "print(f\"Total records: {total}\")\n",
    "print(f\"Valid from date_fueled: {valid_direct} ({pct_valid_direct:.2f}%)\")\n",
    "print(f\"Filled with proxy (date_captured): {filled_proxy} ({pct_filled_proxy:.2f}%)\")\n",
    "print(f\"Still invalid: {still_invalid} ({pct_still_invalid:.2f}%)\")"
   ]
  },
  {
   "cell_type": "markdown",
   "id": "c84b595a-442b-46f2-8d8d-bf12444c50a2",
   "metadata": {},
   "source": [
    "3. Convert the column to a date format, setting any invalid `date_fueled` entries to `NaT`. **[2]**\n"
   ]
  },
  {
   "cell_type": "code",
   "execution_count": 38,
   "id": "aa1e807b-f557-40fc-823c-3a5b2598a473",
   "metadata": {},
   "outputs": [],
   "source": [
    "import pandas as pd\n",
    "import numpy as np\n",
    "\n",
    "# Clean raw text\n",
    "df['date_fueled_clean'] = df['date_fueled'].astype(str).str.strip()\n",
    "\n",
    "# 1st pass: Mon DD YYYY (e.g., \"Nov 15 2020\")\n",
    "parsed1 = pd.to_datetime(\n",
    "    df['date_fueled_clean'],\n",
    "    format=\"%b %d %Y\",   # strict format\n",
    "    errors=\"coerce\"\n",
    ")\n",
    "\n",
    "# 2nd pass: DD/MM/YYYY (adjust to %m/%d/%Y if US-style)\n",
    "mask = parsed1.isna()\n",
    "parsed2 = pd.to_datetime(\n",
    "    df.loc[mask, 'date_fueled_clean'],\n",
    "    format=\"%d/%m/%Y\",\n",
    "    errors=\"coerce\"\n",
    ")\n",
    "\n",
    "# Combine\n",
    "parsed1.loc[mask] = parsed2\n",
    "\n",
    "# Final cleaned column\n",
    "df['date_fueled_parsed'] = parsed1\n"
   ]
  },
  {
   "cell_type": "code",
   "execution_count": 41,
   "id": "1bfbaf7c-362b-493e-b105-9fdd2fa2cb49",
   "metadata": {},
   "outputs": [
    {
     "name": "stdout",
     "output_type": "stream",
     "text": [
      "Convert date_fueled to datetime (invalid → NaT)\n",
      "Invalid entries: 137208 out of 1174870 (11.68%) were set to NaT.\n",
      "\n",
      "Sample of converted values:\n",
      "0          NaT\n",
      "1   2012-11-07\n",
      "2   2012-09-22\n",
      "3   2019-05-04\n",
      "4   2022-02-15\n",
      "5   2021-10-23\n",
      "6   2021-11-20\n",
      "7   2022-01-20\n",
      "8          NaT\n",
      "9          NaT\n",
      "Name: date_fueled_parsed, dtype: datetime64[ns]\n"
     ]
    }
   ],
   "source": [
    "invalid_count = df['date_fueled_parsed'].isna().sum()\n",
    "total_count = len(df)\n",
    "pct_invalid = (invalid_count / total_count) * 100\n",
    "\n",
    "print(\"Convert date_fueled to datetime (invalid → NaT)\")\n",
    "print(f\"Invalid entries: {invalid_count} out of {total_count} \"\n",
    "      f\"({pct_invalid:.2f}%) were set to NaT.\\n\")\n",
    "\n",
    "print(\"Sample of converted values:\")\n",
    "print(df['date_fueled_parsed'].head(10))\n"
   ]
  },
  {
   "cell_type": "markdown",
   "id": "dc50ef22-52cd-4af3-8814-ebe186ebd3e6",
   "metadata": {},
   "source": [
    "4. Remove dates that are in the future, or dates that are earlier than 2005. **[1]**\n"
   ]
  },
  {
   "cell_type": "code",
   "execution_count": 62,
   "id": "684b692c-a590-42c6-9090-14d42be38c45",
   "metadata": {},
   "outputs": [],
   "source": [
    "import pandas as pd\n",
    "\n",
    "# Define cutoffs\n",
    "min_date = pd.Timestamp(\"2005-01-01\")\n",
    "max_date = pd.Timestamp.today().normalize()  # today at 00:00\n",
    "\n",
    "# Filter: keep only dates between 2005 and today\n",
    "df['date_fueled_cleaned'] = df['date_fueled_parsed'].where(\n",
    "    (df['date_fueled_parsed'] >= min_date) & \n",
    "    (df['date_fueled_parsed'] <= max_date)\n",
    ")\n"
   ]
  },
  {
   "cell_type": "code",
   "execution_count": 63,
   "id": "d45edffb-f80c-4a16-99cb-629c97fefe9c",
   "metadata": {},
   "outputs": [
    {
     "name": "stdout",
     "output_type": "stream",
     "text": [
      "Remove out-of-range dates (before 2005 or in the future)\n",
      "Removed invalid dates: 570\n",
      "Remaining valid dates: 1037092\n"
     ]
    }
   ],
   "source": [
    "removed = df['date_fueled_parsed'].notna().sum() - df['date_fueled_cleaned'].notna().sum()\n",
    "remaining = df['date_fueled_cleaned'].notna().sum()\n",
    "\n",
    "print(\"Remove out-of-range dates (before 2005 or in the future)\")\n",
    "print(f\"Removed invalid dates: {removed}\")\n",
    "print(f\"Remaining valid dates: {remaining}\")\n"
   ]
  },
  {
   "cell_type": "markdown",
   "id": "02473f74-eba3-444e-9169-68dd08700ccd",
   "metadata": {},
   "source": [
    "5. Plot the distribution of fueling dates and comment on the results. **[2]**\n"
   ]
  },
  {
   "cell_type": "code",
   "execution_count": 47,
   "id": "6ba787ef-3f9f-47d9-b32d-19e1ba0a5b8e",
   "metadata": {},
   "outputs": [
    {
     "data": {
      "image/png": "[encoded data removed]",
      "text/plain": [
       "<Figure size 1000x600 with 1 Axes>"
      ]
     },
     "metadata": {},
     "output_type": "display_data"
    }
   ],
   "source": [
    "import matplotlib.pyplot as plt\n",
    "\n",
    "# Drop missing values\n",
    "valid_dates = df['date_fueled_cleaned'].dropna()\n",
    "\n",
    "plt.figure(figsize=(10,6))\n",
    "valid_dates.dt.year.value_counts().sort_index().plot(kind='bar')\n",
    "\n",
    "plt.title(\"Distribution of Fueling Dates\")\n",
    "plt.xlabel(\"Year\")\n",
    "plt.ylabel(\"Number of Records\")\n",
    "plt.show()\n"
   ]
  },
  {
   "cell_type": "code",
   "execution_count": 48,
   "id": "14d766da-0afb-4ae7-be14-186b09403698",
   "metadata": {},
   "outputs": [
    {
     "data": {
      "image/png": "[encoded data removed]",
      "text/plain": [
       "<Figure size 1000x600 with 1 Axes>"
      ]
     },
     "metadata": {},
     "output_type": "display_data"
    }
   ],
   "source": [
    "valid_dates.dt.to_period(\"M\").value_counts().sort_index().plot(figsize=(10,6))\n",
    "\n",
    "plt.title(\"Monthly Distribution of Fueling Dates\")\n",
    "plt.xlabel(\"Month\")\n",
    "plt.ylabel(\"Number of Records\")\n",
    "plt.show()\n"
   ]
  },
  {
   "cell_type": "markdown",
   "id": "2ec6c94d-6748-4502-8462-b896687c01ce",
   "metadata": {},
   "source": [
    "\n",
    "### 1.2 Numeric Fields\n",
    "1. Identify the **percentage missing** for **`gallons`**, **`miles`**, and **`odometer`**. **[3]**  \n",
    "2. Use the interdependence among **`miles`**, **`gallons`**, and **`mpg`** to **impute a missing value** when the other two are present. **[3]**  \n",
    "3. **Convert** `miles`, `gallons`, `odometer`, etc., from strings/objects to **floats**, handling commas and other formatting. **[5]**  \n",
    "4. **Plot distributions** for these numeric fields and **comment** on their shapes and any anomalies. **[3]**  \n",
    "5. Compute and interpret a **statistical summary** (mean, standard deviation, min, max, most frequent value, quartiles). **Assess whether the results make sense.** **[3]**"
   ]
  },
  {
   "cell_type": "code",
   "execution_count": 50,
   "id": "89e4c877-8387-4b6f-82d7-a36c40720936",
   "metadata": {},
   "outputs": [
    {
     "name": "stdout",
     "output_type": "stream",
     "text": [
      "Q1.2.1 Missing Percentages:\n",
      "gallons      6.32\n",
      "miles       87.55\n",
      "odometer    12.70\n",
      "dtype: float64\n"
     ]
    }
   ],
   "source": [
    "numeric_cols = ['gallons', 'miles', 'odometer']\n",
    "\n",
    "missing_report = df[numeric_cols].isna().mean() * 100  # percentage\n",
    "missing_report = missing_report.round(2)  # round to 2 decimals\n",
    "\n",
    "print(\"Q1.2.1 Missing Percentages:\")\n",
    "print(missing_report)\n"
   ]
  },
  {
   "cell_type": "code",
   "execution_count": 52,
   "id": "e05ee290-9aa2-44ac-9d47-4f3861d0d22e",
   "metadata": {},
   "outputs": [],
   "source": [
    "# Convert to numeric (force errors to NaN)\n",
    "for col in ['miles', 'gallons', 'mpg']:\n",
    "    df[col] = pd.to_numeric(df[col], errors='coerce')\n"
   ]
  },
  {
   "cell_type": "code",
   "execution_count": 53,
   "id": "65e7f3f1-db6a-42e5-bedf-124ae268c005",
   "metadata": {},
   "outputs": [],
   "source": [
    "# Impute mpg\n",
    "mask = df['mpg'].isna() & df['miles'].notna() & df['gallons'].notna()\n",
    "df.loc[mask, 'mpg'] = df.loc[mask, 'miles'] / df.loc[mask, 'gallons']\n",
    "\n",
    "# Impute miles\n",
    "mask = df['miles'].isna() & df['mpg'].notna() & df['gallons'].notna()\n",
    "df.loc[mask, 'miles'] = df.loc[mask, 'mpg'] * df.loc[mask, 'gallons']\n",
    "\n",
    "# Impute gallons\n",
    "mask = df['gallons'].isna() & df['miles'].notna() & df['mpg'].notna()\n",
    "df.loc[mask, 'gallons'] = df.loc[mask, 'miles'] / df.loc[mask, 'mpg']\n"
   ]
  },
  {
   "cell_type": "code",
   "execution_count": 54,
   "id": "6b707ad0-8f3c-41fe-adaa-ead9f3612f87",
   "metadata": {},
   "outputs": [
    {
     "name": "stdout",
     "output_type": "stream",
     "text": [
      "Remaining missing values after imputation:\n",
      "miles      74276\n",
      "gallons    74273\n",
      "mpg        74213\n",
      "dtype: int64\n"
     ]
    }
   ],
   "source": [
    "print(\"Remaining missing values after imputation:\")\n",
    "print(df[['miles', 'gallons', 'mpg']].isna().sum())\n"
   ]
  },
  {
   "cell_type": "markdown",
   "id": "de069cef-aa3e-4531-9f97-4e22293fca02",
   "metadata": {},
   "source": [
    "3. **Convert** `miles`, `gallons`, `odometer`, etc., from strings/objects to **floats**, handling commas and other formatting. **[5]**  \n"
   ]
  },
  {
   "cell_type": "code",
   "execution_count": 55,
   "id": "af9b8c65-9966-4022-b57d-3f7bf93d915a",
   "metadata": {},
   "outputs": [],
   "source": [
    "# Columns to clean\n",
    "num_cols = ['miles', 'gallons', 'odometer']\n",
    "\n",
    "for col in num_cols:\n",
    "    # Remove commas, spaces, and any stray characters\n",
    "    df[col] = (\n",
    "        df[col]\n",
    "        .astype(str)                      # ensure string for cleaning\n",
    "        .str.replace(',', '', regex=True) # remove commas\n",
    "        .str.replace(r'[^0-9.\\-]', '', regex=True) # keep only digits, dot, minus\n",
    "    )\n",
    "    \n",
    "    # Convert to float (invalid entries → NaN)\n",
    "    df[col] = pd.to_numeric(df[col], errors='coerce')\n"
   ]
  },
  {
   "cell_type": "code",
   "execution_count": 56,
   "id": "7df37795-aef1-4890-90d2-8c0790949652",
   "metadata": {},
   "outputs": [
    {
     "name": "stdout",
     "output_type": "stream",
     "text": [
      "miles       float64\n",
      "gallons     float64\n",
      "odometer    float64\n",
      "dtype: object\n",
      "      miles  gallons  odometer\n",
      "0       NaN      NaN   73370.0\n",
      "1  382.9920   12.120   11983.0\n",
      "2  227.7435    7.991   98233.0\n",
      "3  494.9100   10.575  163802.0\n",
      "4  244.4000   11.651       NaN\n"
     ]
    }
   ],
   "source": [
    "print(df[num_cols].dtypes)  # should all be float64\n",
    "print(df[num_cols].head())\n"
   ]
  },
  {
   "cell_type": "markdown",
   "id": "cfe874fe-334e-4beb-bae6-ebeb921816b0",
   "metadata": {},
   "source": [
    "4. **Plot distributions** for these numeric fields and **comment** on their shapes and any anomalies. **[3]**  \n"
   ]
  },
  {
   "cell_type": "code",
   "execution_count": 57,
   "id": "1c2a394e-5e6e-4d9e-b329-d7371a7f22f3",
   "metadata": {},
   "outputs": [
    {
     "data": {
      "image/png": "[encoded data removed]",
      "text/plain": [
       "<Figure size 1400x400 with 3 Axes>"
      ]
     },
     "metadata": {},
     "output_type": "display_data"
    }
   ],
   "source": [
    "import matplotlib.pyplot as plt\n",
    "\n",
    "num_cols = ['miles', 'gallons', 'odometer']\n",
    "\n",
    "plt.figure(figsize=(14, 4))\n",
    "\n",
    "for i, col in enumerate(num_cols, 1):\n",
    "    plt.subplot(1, 3, i)\n",
    "    df[col].dropna().hist(bins=50, edgecolor='black')\n",
    "    plt.title(f\"Distribution of {col}\")\n",
    "    plt.xlabel(col)\n",
    "    plt.ylabel(\"Frequency\")\n",
    "\n",
    "plt.tight_layout()\n",
    "plt.show()\n"
   ]
  },
  {
   "cell_type": "code",
   "execution_count": 58,
   "id": "17e36b5b-0c21-4650-8e1e-6eb62024418a",
   "metadata": {},
   "outputs": [
    {
     "data": {
      "image/png": "[encoded data removed]",
      "text/plain": [
       "<Figure size 1000x600 with 1 Axes>"
      ]
     },
     "metadata": {},
     "output_type": "display_data"
    }
   ],
   "source": [
    "plt.figure(figsize=(10,6))\n",
    "df[num_cols].boxplot()\n",
    "plt.title(\"Boxplots of Numeric Fields\")\n",
    "plt.show()\n"
   ]
  },
  {
   "cell_type": "markdown",
   "id": "0995e1dc-9239-4df8-be58-5bb3725639fd",
   "metadata": {},
   "source": [
    "5. Compute and interpret a **statistical summary** (mean, standard deviation, min, max, most frequent value, quartiles). **Assess whether the results make sense.** **[3]**"
   ]
  },
  {
   "cell_type": "code",
   "execution_count": 59,
   "id": "02feb257-fb04-42a8-a225-ba0ba35b481c",
   "metadata": {},
   "outputs": [
    {
     "name": "stdout",
     "output_type": "stream",
     "text": [
      "              count           mean            std  min          25%  \\\n",
      "miles     1100594.0     264.561438     191.091120  0.0    181.36515   \n",
      "gallons   1100597.0      12.385295       6.818451  0.0      8.99000   \n",
      "odometer  1025716.0  103996.001856  340525.205257  0.0  45920.00000   \n",
      "\n",
      "                 50%         75%           max    mode  \n",
      "miles       267.0304     342.722  2.323840e+04   0.000  \n",
      "gallons      11.9540      14.938  9.847100e+02  10.567  \n",
      "odometer  91882.0000  146922.000  2.543621e+08   1.000  \n"
     ]
    }
   ],
   "source": [
    "# Standard statistical summary\n",
    "summary = df[['miles', 'gallons', 'odometer']].describe().T\n",
    "\n",
    "# Add mode (most frequent value)\n",
    "summary['mode'] = df[['miles', 'gallons', 'odometer']].mode().iloc[0]\n",
    "\n",
    "print(summary)\n"
   ]
  },
  {
   "cell_type": "markdown",
   "id": "ce11712b-5271-4546-9ca3-8be8520fd8d5",
   "metadata": {},
   "source": [
    "interpretation"
   ]
  },
  {
   "cell_type": "code",
   "execution_count": null,
   "id": "a05b2be4-bbf9-4269-9f63-454b7a9097d1",
   "metadata": {},
   "outputs": [],
   "source": []
  }
 ],
 "metadata": {
  "kernelspec": {
   "display_name": "Python 3 (ipykernel)",
   "language": "python",
   "name": "python3"
  },
  "language_info": {
   "codemirror_mode": {
    "name": "ipython",
    "version": 3
   },
   "file_extension": ".py",
   "mimetype": "text/x-python",
   "name": "python",
   "nbconvert_exporter": "python",
   "pygments_lexer": "ipython3",
   "version": "3.12.7"
  }
 },
 "nbformat": 4,
 "nbformat_minor": 5
}
