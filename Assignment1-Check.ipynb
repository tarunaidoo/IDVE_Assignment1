{
 "cells": [
  {
   "cell_type": "markdown",
   "id": "b830b7f6",
   "metadata": {},
   "source": [
    "### 1. Data Cleaning"
   ]
  },
  {
   "cell_type": "markdown",
   "id": "39866e6a",
   "metadata": {},
   "source": [
    "#### 1.1 Date fields"
   ]
  },
  {
   "cell_type": "code",
   "execution_count": 89,
   "id": "e075d6fb",
   "metadata": {},
   "outputs": [],
   "source": [
    "import pandas as pd\n",
    "import numpy as np\n",
    "import matplotlib.pyplot as plt\n",
    "import seaborn as sns\n",
    "import datetime as datetime\n",
    "import math\n",
    "import scipy.stats as stats\n",
    "import warnings \n",
    "import matplotlib\n",
    "import matplotlib.cm as cm\n",
    "sns.set(rc={'figure.figsize':(12,6)})\n",
    "warnings.simplefilter(action='ignore', category= FutureWarning)\n",
    "from pandas.errors import SettingWithCopyWarning\n",
    "warnings.simplefilter(action=\"ignore\", category=SettingWithCopyWarning)"
   ]
  },
  {
   "cell_type": "code",
   "execution_count": 90,
   "id": "3d218b9f",
   "metadata": {},
   "outputs": [
    {
     "name": "stderr",
     "output_type": "stream",
     "text": [
      "/tmp/ipykernel_987/247795474.py:2: DtypeWarning: Columns (3,6) have mixed types. Specify dtype option on import or set low_memory=False.\n",
      "  df = pd.read_csv('logbook_assignment1.csv')\n"
     ]
    },
    {
     "data": {
      "text/html": [
       "<div>\n",
       "<style scoped>\n",
       "    .dataframe tbody tr th:only-of-type {\n",
       "        vertical-align: middle;\n",
       "    }\n",
       "\n",
       "    .dataframe tbody tr th {\n",
       "        vertical-align: top;\n",
       "    }\n",
       "\n",
       "    .dataframe thead th {\n",
       "        text-align: right;\n",
       "    }\n",
       "</style>\n",
       "<table border=\"1\" class=\"dataframe\">\n",
       "  <thead>\n",
       "    <tr style=\"text-align: right;\">\n",
       "      <th></th>\n",
       "      <th>date_fueled</th>\n",
       "      <th>date_captured</th>\n",
       "      <th>odometer</th>\n",
       "      <th>gallons</th>\n",
       "      <th>cost_per_gallon</th>\n",
       "      <th>total_spent</th>\n",
       "      <th>mpg</th>\n",
       "      <th>miles</th>\n",
       "      <th>user_url</th>\n",
       "    </tr>\n",
       "  </thead>\n",
       "  <tbody>\n",
       "    <tr>\n",
       "      <th>0</th>\n",
       "      <td>Cooling System, Heating System, Lights, Spark ...</td>\n",
       "      <td>Apr 7 2022</td>\n",
       "      <td>73,370</td>\n",
       "      <td>NaN</td>\n",
       "      <td>NaN</td>\n",
       "      <td>NaN</td>\n",
       "      <td>NaN</td>\n",
       "      <td>NaN</td>\n",
       "      <td>https://www.somewebsite.com/suzuki/swift/2015/...</td>\n",
       "    </tr>\n",
       "    <tr>\n",
       "      <th>1</th>\n",
       "      <td>Nov 7 2012</td>\n",
       "      <td>Aug 30 2016</td>\n",
       "      <td>11,983</td>\n",
       "      <td>12.120</td>\n",
       "      <td>$5.599</td>\n",
       "      <td>$67.86</td>\n",
       "      <td>31.6</td>\n",
       "      <td>NaN</td>\n",
       "      <td>https://www.somewebsite.com/bmw/x3/2009/461150</td>\n",
       "    </tr>\n",
       "    <tr>\n",
       "      <th>2</th>\n",
       "      <td>Sep 22 2012</td>\n",
       "      <td>Sep 28 2012</td>\n",
       "      <td>98,233</td>\n",
       "      <td>7.991</td>\n",
       "      <td>£5.45</td>\n",
       "      <td>£43.53</td>\n",
       "      <td>28.5</td>\n",
       "      <td>NaN</td>\n",
       "      <td>https://www.somewebsite.com/mercedes-benz/e300...</td>\n",
       "    </tr>\n",
       "    <tr>\n",
       "      <th>3</th>\n",
       "      <td>May 4 2019</td>\n",
       "      <td>May 4 2019</td>\n",
       "      <td>163,802</td>\n",
       "      <td>10.575</td>\n",
       "      <td>£5.11</td>\n",
       "      <td>£54.00</td>\n",
       "      <td>46.8</td>\n",
       "      <td>NaN</td>\n",
       "      <td>https://www.somewebsite.com/bmw/320d/2010/247233</td>\n",
       "    </tr>\n",
       "    <tr>\n",
       "      <th>4</th>\n",
       "      <td>Feb 15 2022</td>\n",
       "      <td>Feb 15 2022</td>\n",
       "      <td>NaN</td>\n",
       "      <td>11.651</td>\n",
       "      <td>$3.029</td>\n",
       "      <td>$35.29</td>\n",
       "      <td>21.0</td>\n",
       "      <td>244.4</td>\n",
       "      <td>https://www.somewebsite.com/honda/passport/201...</td>\n",
       "    </tr>\n",
       "  </tbody>\n",
       "</table>\n",
       "</div>"
      ],
      "text/plain": [
       "                                         date_fueled date_captured  odometer  \\\n",
       "0  Cooling System, Heating System, Lights, Spark ...    Apr 7 2022   73,370    \n",
       "1                                         Nov 7 2012   Aug 30 2016   11,983    \n",
       "2                                        Sep 22 2012   Sep 28 2012   98,233    \n",
       "3                                         May 4 2019    May 4 2019  163,802    \n",
       "4                                        Feb 15 2022   Feb 15 2022       NaN   \n",
       "\n",
       "  gallons cost_per_gallon total_spent   mpg    miles  \\\n",
       "0     NaN             NaN         NaN   NaN      NaN   \n",
       "1  12.120          $5.599      $67.86  31.6      NaN   \n",
       "2   7.991           £5.45      £43.53  28.5      NaN   \n",
       "3  10.575           £5.11      £54.00  46.8      NaN   \n",
       "4  11.651          $3.029      $35.29  21.0   244.4    \n",
       "\n",
       "                                            user_url  \n",
       "0  https://www.somewebsite.com/suzuki/swift/2015/...  \n",
       "1     https://www.somewebsite.com/bmw/x3/2009/461150  \n",
       "2  https://www.somewebsite.com/mercedes-benz/e300...  \n",
       "3   https://www.somewebsite.com/bmw/320d/2010/247233  \n",
       "4  https://www.somewebsite.com/honda/passport/201...  "
      ]
     },
     "execution_count": 90,
     "metadata": {},
     "output_type": "execute_result"
    }
   ],
   "source": [
    "# reading the csv file\n",
    "df = pd.read_csv('logbook_assignment1.csv')\n",
    "df.head()"
   ]
  },
  {
   "cell_type": "code",
   "execution_count": 91,
   "id": "662e0050",
   "metadata": {},
   "outputs": [
    {
     "data": {
      "text/plain": [
       "date_fueled        object\n",
       "date_captured      object\n",
       "odometer           object\n",
       "gallons            object\n",
       "cost_per_gallon    object\n",
       "total_spent        object\n",
       "mpg                object\n",
       "miles              object\n",
       "user_url           object\n",
       "dtype: object"
      ]
     },
     "execution_count": 91,
     "metadata": {},
     "output_type": "execute_result"
    }
   ],
   "source": [
    "df.dtypes"
   ]
  },
  {
   "cell_type": "code",
   "execution_count": 92,
   "id": "52b0516c",
   "metadata": {},
   "outputs": [
    {
     "name": "stdout",
     "output_type": "stream",
     "text": [
      "<class 'pandas.core.frame.DataFrame'>\n",
      "RangeIndex: 1174870 entries, 0 to 1174869\n",
      "Data columns (total 9 columns):\n",
      " #   Column           Non-Null Count    Dtype \n",
      "---  ------           --------------    ----- \n",
      " 0   date_fueled      1125665 non-null  object\n",
      " 1   date_captured    1174870 non-null  object\n",
      " 2   odometer         1025716 non-null  object\n",
      " 3   gallons          1100660 non-null  object\n",
      " 4   cost_per_gallon  1094110 non-null  object\n",
      " 5   total_spent      1100660 non-null  object\n",
      " 6   mpg              1100660 non-null  object\n",
      " 7   miles            146274 non-null   object\n",
      " 8   user_url         1174870 non-null  object\n",
      "dtypes: object(9)\n",
      "memory usage: 80.7+ MB\n"
     ]
    }
   ],
   "source": [
    "df.info()"
   ]
  },
  {
   "cell_type": "markdown",
   "id": "cffda17a",
   "metadata": {},
   "source": [
    "1. Identify what percentage of date fueled entries that are not proper dates.\n",
    "[1]"
   ]
  },
  {
   "cell_type": "code",
   "execution_count": 93,
   "id": "f5af6667",
   "metadata": {},
   "outputs": [
    {
     "name": "stdout",
     "output_type": "stream",
     "text": [
      "Percentage of date_fueled entries not proper dates: 11.678738924306518 %\n"
     ]
    }
   ],
   "source": [
    "valid_dates = pd.to_datetime(df['date_fueled'], format='%b %d %Y', errors='coerce').notna()\n",
    "perc_invalid_dates = sum(valid_dates == False)/len(df)*100\n",
    "print('Percentage of date_fueled entries not proper dates:', perc_invalid_dates, '%')"
   ]
  },
  {
   "cell_type": "markdown",
   "id": "6cf3acb8",
   "metadata": {},
   "source": [
    "2. If date fueled is not entered correctly (or is not a date), and the date\n",
    "captured is a valid date, then fill in this value as a proxy. [1]"
   ]
  },
  {
   "cell_type": "code",
   "execution_count": 94,
   "id": "5d7da07d",
   "metadata": {},
   "outputs": [
    {
     "name": "stdout",
     "output_type": "stream",
     "text": [
      "Percent of valid dates in date_captured: 100.0\n"
     ]
    }
   ],
   "source": [
    "valid_ = pd.to_datetime(df['date_captured'], format='%b %d %Y', errors='coerce').notna()\n",
    "val_cap = sum(valid_ == True)/len(df)*100\n",
    "print('Percent of valid dates in date_captured:', val_cap)"
   ]
  },
  {
   "cell_type": "code",
   "execution_count": 95,
   "id": "4842a40b",
   "metadata": {},
   "outputs": [
    {
     "data": {
      "text/plain": [
       "0           Apr 7 2022\n",
       "1           Nov 7 2012\n",
       "2          Sep 22 2012\n",
       "3           May 4 2019\n",
       "4          Feb 15 2022\n",
       "              ...     \n",
       "1174865    Feb 19 2020\n",
       "1174866     Dec 6 2019\n",
       "1174867     Oct 4 2021\n",
       "1174868    Jul 26 2021\n",
       "1174869    Mar 12 2019\n",
       "Name: date_fueled, Length: 1174870, dtype: object"
      ]
     },
     "execution_count": 95,
     "metadata": {},
     "output_type": "execute_result"
    }
   ],
   "source": [
    "df['date_fueled'] = np.where((pd.to_datetime(df['date_fueled'], format='%b %d %Y', errors='coerce').notna() == False),df['date_captured'],df['date_fueled'])\n",
    "df['date_fueled']"
   ]
  },
  {
   "cell_type": "markdown",
   "id": "bbb078af",
   "metadata": {},
   "source": [
    "3. Convert the column to a date format, setting any invalid date fueled entries\n",
    "to NaT. [2]"
   ]
  },
  {
   "cell_type": "code",
   "execution_count": 96,
   "id": "ccea6577",
   "metadata": {},
   "outputs": [
    {
     "data": {
      "text/plain": [
       "date_fueled        datetime64[ns]\n",
       "date_captured      datetime64[ns]\n",
       "odometer                   object\n",
       "gallons                    object\n",
       "cost_per_gallon            object\n",
       "total_spent                object\n",
       "mpg                        object\n",
       "miles                      object\n",
       "user_url                   object\n",
       "dtype: object"
      ]
     },
     "execution_count": 96,
     "metadata": {},
     "output_type": "execute_result"
    }
   ],
   "source": [
    "df['date_fueled'] = pd.to_datetime(df['date_fueled'], format='%b %d %Y', errors='coerce')\n",
    "\n",
    "df['date_captured'] = pd.to_datetime(df['date_captured'], format='%b %d %Y', errors='coerce')\n",
    "\n",
    "df.dtypes"
   ]
  },
  {
   "cell_type": "code",
   "execution_count": 97,
   "id": "4040c6b6",
   "metadata": {},
   "outputs": [
    {
     "data": {
      "text/html": [
       "<div>\n",
       "<style scoped>\n",
       "    .dataframe tbody tr th:only-of-type {\n",
       "        vertical-align: middle;\n",
       "    }\n",
       "\n",
       "    .dataframe tbody tr th {\n",
       "        vertical-align: top;\n",
       "    }\n",
       "\n",
       "    .dataframe thead th {\n",
       "        text-align: right;\n",
       "    }\n",
       "</style>\n",
       "<table border=\"1\" class=\"dataframe\">\n",
       "  <thead>\n",
       "    <tr style=\"text-align: right;\">\n",
       "      <th></th>\n",
       "      <th>date_fueled</th>\n",
       "      <th>date_captured</th>\n",
       "      <th>odometer</th>\n",
       "      <th>gallons</th>\n",
       "      <th>cost_per_gallon</th>\n",
       "      <th>total_spent</th>\n",
       "      <th>mpg</th>\n",
       "      <th>miles</th>\n",
       "      <th>user_url</th>\n",
       "    </tr>\n",
       "  </thead>\n",
       "  <tbody>\n",
       "    <tr>\n",
       "      <th>700784</th>\n",
       "      <td>2010-10-28</td>\n",
       "      <td>2010-10-29</td>\n",
       "      <td>34,374</td>\n",
       "      <td>19.020</td>\n",
       "      <td>€5.64</td>\n",
       "      <td>€107.20</td>\n",
       "      <td>13.0</td>\n",
       "      <td>NaN</td>\n",
       "      <td>https://www.somewebsite.com/volkswagen/transpo...</td>\n",
       "    </tr>\n",
       "    <tr>\n",
       "      <th>718778</th>\n",
       "      <td>2019-06-22</td>\n",
       "      <td>2019-06-22</td>\n",
       "      <td>246,007</td>\n",
       "      <td>10.742</td>\n",
       "      <td>$2.999</td>\n",
       "      <td>$32.22</td>\n",
       "      <td>22.0</td>\n",
       "      <td>NaN</td>\n",
       "      <td>https://www.somewebsite.com/lexus/ls400/1996/8...</td>\n",
       "    </tr>\n",
       "    <tr>\n",
       "      <th>837864</th>\n",
       "      <td>2019-10-05</td>\n",
       "      <td>2019-10-15</td>\n",
       "      <td>78,837</td>\n",
       "      <td>12.950</td>\n",
       "      <td>€5.41</td>\n",
       "      <td>€70.05</td>\n",
       "      <td>22.7</td>\n",
       "      <td>NaN</td>\n",
       "      <td>https://www.somewebsite.com/mercedes-benz/a/20...</td>\n",
       "    </tr>\n",
       "    <tr>\n",
       "      <th>474061</th>\n",
       "      <td>2019-11-10</td>\n",
       "      <td>2019-12-30</td>\n",
       "      <td>86,965</td>\n",
       "      <td>20.550</td>\n",
       "      <td>CA$5.83</td>\n",
       "      <td>CA$119.72</td>\n",
       "      <td>14.1</td>\n",
       "      <td>NaN</td>\n",
       "      <td>https://www.somewebsite.com/bmw/x5/2007/917927</td>\n",
       "    </tr>\n",
       "    <tr>\n",
       "      <th>407613</th>\n",
       "      <td>2019-01-03</td>\n",
       "      <td>2019-01-03</td>\n",
       "      <td>NaN</td>\n",
       "      <td>27.056</td>\n",
       "      <td>R51.67</td>\n",
       "      <td>R1,398.01</td>\n",
       "      <td>25.7</td>\n",
       "      <td>694.7</td>\n",
       "      <td>https://www.somewebsite.com/isuzu/250d/1998/84...</td>\n",
       "    </tr>\n",
       "    <tr>\n",
       "      <th>873943</th>\n",
       "      <td>2022-02-18</td>\n",
       "      <td>2022-02-18</td>\n",
       "      <td>74,024</td>\n",
       "      <td>4.484</td>\n",
       "      <td>$4.449</td>\n",
       "      <td>$19.95</td>\n",
       "      <td>0.0</td>\n",
       "      <td>NaN</td>\n",
       "      <td>https://www.somewebsite.com/bmw/325i/2004/882438</td>\n",
       "    </tr>\n",
       "    <tr>\n",
       "      <th>325548</th>\n",
       "      <td>2022-04-10</td>\n",
       "      <td>2022-04-10</td>\n",
       "      <td>59,058</td>\n",
       "      <td>11.115</td>\n",
       "      <td>$4.839</td>\n",
       "      <td>$53.79</td>\n",
       "      <td>30.0</td>\n",
       "      <td>NaN</td>\n",
       "      <td>https://www.somewebsite.com/mini/cooper/2019/9...</td>\n",
       "    </tr>\n",
       "    <tr>\n",
       "      <th>203002</th>\n",
       "      <td>2014-01-05</td>\n",
       "      <td>2014-01-05</td>\n",
       "      <td>NaN</td>\n",
       "      <td>13.000</td>\n",
       "      <td>$3.310</td>\n",
       "      <td>$43.03</td>\n",
       "      <td>7.2</td>\n",
       "      <td>93.6</td>\n",
       "      <td>https://www.somewebsite.com/ford/customline/19...</td>\n",
       "    </tr>\n",
       "    <tr>\n",
       "      <th>591376</th>\n",
       "      <td>2021-03-31</td>\n",
       "      <td>2021-03-31</td>\n",
       "      <td>67,485</td>\n",
       "      <td>13.707</td>\n",
       "      <td>$2.740</td>\n",
       "      <td>$37.56</td>\n",
       "      <td>31.5</td>\n",
       "      <td>NaN</td>\n",
       "      <td>https://www.somewebsite.com/bmw/328d_xdrive/20...</td>\n",
       "    </tr>\n",
       "    <tr>\n",
       "      <th>550941</th>\n",
       "      <td>2020-05-20</td>\n",
       "      <td>2020-05-20</td>\n",
       "      <td>163,495</td>\n",
       "      <td>NaN</td>\n",
       "      <td>NaN</td>\n",
       "      <td>NaN</td>\n",
       "      <td>NaN</td>\n",
       "      <td>NaN</td>\n",
       "      <td>https://www.somewebsite.com/lexus/lx470/2002/9...</td>\n",
       "    </tr>\n",
       "    <tr>\n",
       "      <th>61285</th>\n",
       "      <td>2021-07-30</td>\n",
       "      <td>2021-07-30</td>\n",
       "      <td>75,585</td>\n",
       "      <td>10.655</td>\n",
       "      <td>$3.519</td>\n",
       "      <td>$37.49</td>\n",
       "      <td>0.0</td>\n",
       "      <td>NaN</td>\n",
       "      <td>https://www.somewebsite.com/toyota/corolla/201...</td>\n",
       "    </tr>\n",
       "    <tr>\n",
       "      <th>902632</th>\n",
       "      <td>2021-04-05</td>\n",
       "      <td>2021-04-05</td>\n",
       "      <td>61,083</td>\n",
       "      <td>14.041</td>\n",
       "      <td>$2.679</td>\n",
       "      <td>$37.62</td>\n",
       "      <td>20.3</td>\n",
       "      <td>NaN</td>\n",
       "      <td>https://www.somewebsite.com/ford/edge/2016/911689</td>\n",
       "    </tr>\n",
       "    <tr>\n",
       "      <th>1110069</th>\n",
       "      <td>2018-06-17</td>\n",
       "      <td>2018-09-30</td>\n",
       "      <td>68,573</td>\n",
       "      <td>4.923</td>\n",
       "      <td>$20.820</td>\n",
       "      <td>$102.50</td>\n",
       "      <td>15.5</td>\n",
       "      <td>NaN</td>\n",
       "      <td>https://www.somewebsite.com/fiat/131/1979/602152</td>\n",
       "    </tr>\n",
       "    <tr>\n",
       "      <th>820981</th>\n",
       "      <td>2013-03-02</td>\n",
       "      <td>2013-03-01</td>\n",
       "      <td>NaN</td>\n",
       "      <td>12.427</td>\n",
       "      <td>CA$5.16</td>\n",
       "      <td>CA$64.16</td>\n",
       "      <td>20.4</td>\n",
       "      <td>253.1</td>\n",
       "      <td>https://www.somewebsite.com/bmw/335xi/2007/132363</td>\n",
       "    </tr>\n",
       "    <tr>\n",
       "      <th>1015315</th>\n",
       "      <td>2013-04-18</td>\n",
       "      <td>2016-09-30</td>\n",
       "      <td>131,782</td>\n",
       "      <td>11.294</td>\n",
       "      <td>$3.679</td>\n",
       "      <td>$41.55</td>\n",
       "      <td>19.2</td>\n",
       "      <td>NaN</td>\n",
       "      <td>https://www.somewebsite.com/mercedes-benz/c320...</td>\n",
       "    </tr>\n",
       "  </tbody>\n",
       "</table>\n",
       "</div>"
      ],
      "text/plain": [
       "        date_fueled date_captured  odometer gallons cost_per_gallon  \\\n",
       "700784   2010-10-28    2010-10-29   34,374   19.020           €5.64   \n",
       "718778   2019-06-22    2019-06-22  246,007   10.742          $2.999   \n",
       "837864   2019-10-05    2019-10-15   78,837   12.950           €5.41   \n",
       "474061   2019-11-10    2019-12-30   86,965   20.550         CA$5.83   \n",
       "407613   2019-01-03    2019-01-03       NaN  27.056          R51.67   \n",
       "873943   2022-02-18    2022-02-18   74,024    4.484          $4.449   \n",
       "325548   2022-04-10    2022-04-10   59,058   11.115          $4.839   \n",
       "203002   2014-01-05    2014-01-05       NaN  13.000          $3.310   \n",
       "591376   2021-03-31    2021-03-31   67,485   13.707          $2.740   \n",
       "550941   2020-05-20    2020-05-20  163,495      NaN             NaN   \n",
       "61285    2021-07-30    2021-07-30   75,585   10.655          $3.519   \n",
       "902632   2021-04-05    2021-04-05   61,083   14.041          $2.679   \n",
       "1110069  2018-06-17    2018-09-30   68,573    4.923         $20.820   \n",
       "820981   2013-03-02    2013-03-01       NaN  12.427         CA$5.16   \n",
       "1015315  2013-04-18    2016-09-30  131,782   11.294          $3.679   \n",
       "\n",
       "        total_spent  mpg    miles  \\\n",
       "700784      €107.20 13.0      NaN   \n",
       "718778       $32.22 22.0      NaN   \n",
       "837864       €70.05 22.7      NaN   \n",
       "474061    CA$119.72 14.1      NaN   \n",
       "407613    R1,398.01 25.7   694.7    \n",
       "873943       $19.95  0.0      NaN   \n",
       "325548       $53.79 30.0      NaN   \n",
       "203002       $43.03  7.2    93.6    \n",
       "591376       $37.56 31.5      NaN   \n",
       "550941          NaN  NaN      NaN   \n",
       "61285        $37.49  0.0      NaN   \n",
       "902632       $37.62 20.3      NaN   \n",
       "1110069     $102.50 15.5      NaN   \n",
       "820981     CA$64.16 20.4   253.1    \n",
       "1015315      $41.55 19.2      NaN   \n",
       "\n",
       "                                                  user_url  \n",
       "700784   https://www.somewebsite.com/volkswagen/transpo...  \n",
       "718778   https://www.somewebsite.com/lexus/ls400/1996/8...  \n",
       "837864   https://www.somewebsite.com/mercedes-benz/a/20...  \n",
       "474061      https://www.somewebsite.com/bmw/x5/2007/917927  \n",
       "407613   https://www.somewebsite.com/isuzu/250d/1998/84...  \n",
       "873943    https://www.somewebsite.com/bmw/325i/2004/882438  \n",
       "325548   https://www.somewebsite.com/mini/cooper/2019/9...  \n",
       "203002   https://www.somewebsite.com/ford/customline/19...  \n",
       "591376   https://www.somewebsite.com/bmw/328d_xdrive/20...  \n",
       "550941   https://www.somewebsite.com/lexus/lx470/2002/9...  \n",
       "61285    https://www.somewebsite.com/toyota/corolla/201...  \n",
       "902632   https://www.somewebsite.com/ford/edge/2016/911689  \n",
       "1110069   https://www.somewebsite.com/fiat/131/1979/602152  \n",
       "820981   https://www.somewebsite.com/bmw/335xi/2007/132363  \n",
       "1015315  https://www.somewebsite.com/mercedes-benz/c320...  "
      ]
     },
     "execution_count": 97,
     "metadata": {},
     "output_type": "execute_result"
    }
   ],
   "source": [
    "df.sample(15)"
   ]
  },
  {
   "cell_type": "markdown",
   "id": "0618da09",
   "metadata": {},
   "source": [
    "4. Remove dates that are in the future, or dates that are earlier than 2005.\n",
    "[1]\n"
   ]
  },
  {
   "cell_type": "code",
   "execution_count": 98,
   "id": "e8a372ae",
   "metadata": {},
   "outputs": [
    {
     "name": "stdout",
     "output_type": "stream",
     "text": [
      "Before removing invalid dates, the shape of the dataframe is: (1174870, 9)\n",
      "After removing invalid dates, the shape of the dataframe is: (1174300, 9)\n"
     ]
    }
   ],
   "source": [
    "print(\"Before removing invalid dates, the shape of the dataframe is:\", df.shape)\n",
    "\n",
    "df = df.loc[(df['date_fueled'] >= '2005-01-01') & (df['date_fueled'] <= datetime.datetime.now())]\n",
    "\n",
    "print(\"After removing invalid dates, the shape of the dataframe is:\", df.shape)"
   ]
  },
  {
   "cell_type": "code",
   "execution_count": 99,
   "id": "3d7d6d21",
   "metadata": {},
   "outputs": [
    {
     "name": "stdout",
     "output_type": "stream",
     "text": [
      "Min Date:  2005-01-02 00:00:00\n",
      "Max Date:  2025-08-09 00:00:00\n"
     ]
    },
    {
     "data": {
      "text/plain": [
       "(1174300, 9)"
      ]
     },
     "execution_count": 99,
     "metadata": {},
     "output_type": "execute_result"
    }
   ],
   "source": [
    "print(\"Min Date: \", min(df['date_fueled']))\n",
    "\n",
    "print(\"Max Date: \", max(df['date_fueled']))\n",
    "\n",
    "df.shape"
   ]
  },
  {
   "cell_type": "markdown",
   "id": "e73cea21",
   "metadata": {},
   "source": [
    "5. Plot the distribution of fueling dates and comment on the results. [2]"
   ]
  },
  {
   "cell_type": "code",
   "execution_count": 100,
   "id": "da673d61",
   "metadata": {},
   "outputs": [
    {
     "data": {
      "image/png": "[encoded data removed]",
      "text/plain": [
       "<Figure size 500x500 with 1 Axes>"
      ]
     },
     "metadata": {},
     "output_type": "display_data"
    }
   ],
   "source": [
    "sns.displot(df, x=\"date_fueled\")\n",
    "plt.title(\"Distribution of date_fueled\")\n",
    "plt.show()"
   ]
  },
  {
   "cell_type": "markdown",
   "id": "99c5fe2f",
   "metadata": {},
   "source": [
    "#### 1.2 Numeric Fields"
   ]
  },
  {
   "cell_type": "markdown",
   "id": "6d0d2df1",
   "metadata": {},
   "source": [
    "1. Identify what percentage of gallons, miles, and odometer entries are\n",
    "missing. [3]"
   ]
  },
  {
   "cell_type": "code",
   "execution_count": 101,
   "id": "ea23def9",
   "metadata": {},
   "outputs": [
    {
     "data": {
      "text/plain": [
       "gallons     6.316188367538107\n",
       "miles       87.55369156092992\n",
       "odometer   12.691560929915694\n",
       "mpg         6.316188367538107\n",
       "dtype: float64"
      ]
     },
     "execution_count": 101,
     "metadata": {},
     "output_type": "execute_result"
    }
   ],
   "source": [
    "(df[['gallons', 'miles', 'odometer', 'mpg']].isna().sum()/len(df))*100"
   ]
  },
  {
   "cell_type": "markdown",
   "id": "bcef75e8",
   "metadata": {},
   "source": [
    "2. The miles, gallons and mpg columns are interdependent. If one is miss-\n",
    "ing, the other two can be used to calculate it. [3]"
   ]
  },
  {
   "cell_type": "code",
   "execution_count": 102,
   "id": "5edb046e",
   "metadata": {},
   "outputs": [
    {
     "data": {
      "text/plain": [
       "date_fueled        datetime64[ns]\n",
       "date_captured      datetime64[ns]\n",
       "odometer                   object\n",
       "gallons                    object\n",
       "cost_per_gallon            object\n",
       "total_spent                object\n",
       "mpg                        object\n",
       "miles                      object\n",
       "user_url                   object\n",
       "dtype: object"
      ]
     },
     "execution_count": 102,
     "metadata": {},
     "output_type": "execute_result"
    }
   ],
   "source": [
    "df.dtypes"
   ]
  },
  {
   "cell_type": "code",
   "execution_count": 104,
   "id": "516d2318",
   "metadata": {},
   "outputs": [
    {
     "data": {
      "text/plain": [
       "gallons     6.316188367538107\n",
       "miles       87.55369156092992\n",
       "odometer   12.691560929915694\n",
       "mpg         6.316188367538107\n",
       "dtype: float64"
      ]
     },
     "execution_count": 104,
     "metadata": {},
     "output_type": "execute_result"
    }
   ],
   "source": [
    "df[['gallons', 'miles', 'odometer', 'mpg']].isna().sum()/len(df)*100\n"
   ]
  },
  {
   "cell_type": "code",
   "execution_count": 105,
   "id": "bd0fad47",
   "metadata": {},
   "outputs": [
    {
     "data": {
      "text/plain": [
       "date_fueled        datetime64[ns]\n",
       "date_captured      datetime64[ns]\n",
       "odometer                  float64\n",
       "gallons                   float64\n",
       "cost_per_gallon            object\n",
       "total_spent                object\n",
       "mpg                       float64\n",
       "miles                     float64\n",
       "user_url                   object\n",
       "dtype: object"
      ]
     },
     "execution_count": 105,
     "metadata": {},
     "output_type": "execute_result"
    }
   ],
   "source": [
    "df['miles'] = df['miles'].replace(',', '', regex=True)\n",
    "df['miles'] = df['miles'].astype(float)\n",
    "df['odometer'] = df['odometer'].replace(',', '', regex=True)\n",
    "df['odometer'] = df['odometer'].astype(float)\n",
    "df['gallons'] = df['gallons'].replace(',', '', regex=True)\n",
    "df['gallons'] = df['gallons'].astype(float)\n",
    "df['mpg'] = df['mpg'].replace(',', '', regex=True)\n",
    "df['mpg'] = df['mpg'].astype(float)\n",
    "\n",
    "df.dtypes"
   ]
  },
  {
   "cell_type": "code",
   "execution_count": 106,
   "id": "725a52ea",
   "metadata": {},
   "outputs": [
    {
     "data": {
      "text/plain": [
       "gallons   6.316188367538107\n",
       "miles     6.316188367538107\n",
       "mpg       6.316188367538107\n",
       "dtype: float64"
      ]
     },
     "execution_count": 106,
     "metadata": {},
     "output_type": "execute_result"
    }
   ],
   "source": [
    "#The formula to calculate mpg: Miles driven ÷ gallons used to refill the tank\n",
    "df['mpg'] = df['mpg'].fillna(df['miles']/df['gallons'])\n",
    "\n",
    "#Formula for Miles: mpg*gallons\n",
    "df['miles'] = df['miles'].fillna(df['mpg']*df['gallons'])\n",
    "\n",
    "#Formula for gallons: miles/mpg\n",
    "df['gallons'] = df['gallons'].fillna(df['miles']/df['mpg'])\n",
    "\n",
    "df[['gallons', 'miles', 'mpg']].isna().sum()/len(df)*100"
   ]
  },
  {
   "cell_type": "markdown",
   "id": "2828cc90",
   "metadata": {},
   "source": [
    "3. The values will be read in as objects (or strings) by Pandas. Convert these\n",
    "values to float (note the point above about commas in the value). [5]"
   ]
  },
  {
   "cell_type": "code",
   "execution_count": 107,
   "id": "f738e9a1",
   "metadata": {},
   "outputs": [
    {
     "data": {
      "text/plain": [
       "date_fueled        datetime64[ns]\n",
       "date_captured      datetime64[ns]\n",
       "odometer                  float64\n",
       "gallons                   float64\n",
       "cost_per_gallon            object\n",
       "total_spent                object\n",
       "mpg                       float64\n",
       "miles                     float64\n",
       "user_url                   object\n",
       "dtype: object"
      ]
     },
     "execution_count": 107,
     "metadata": {},
     "output_type": "execute_result"
    }
   ],
   "source": [
    "df['miles'] = df['miles'].replace(',', '', regex=True)\n",
    "df['miles'] = df['miles'].astype(float)\n",
    "df['odometer'] = df['odometer'].replace(',', '', regex=True)\n",
    "df['odometer'] = df['odometer'].astype(float)\n",
    "df['gallons'] = df['gallons'].replace(',', '', regex=True)\n",
    "df['gallons'] = df['gallons'].astype(float)\n",
    "df['mpg'] = df['mpg'].replace(',', '', regex=True)\n",
    "df['mpg'] = df['mpg'].astype(float)\n",
    "\n",
    "df.dtypes"
   ]
  },
  {
   "cell_type": "markdown",
   "id": "39fc9001",
   "metadata": {},
   "source": [
    "4. Plot the distributions and comment on the distributions. [3]"
   ]
  },
  {
   "cell_type": "code",
   "execution_count": 108,
   "id": "8288d522",
   "metadata": {},
   "outputs": [
    {
     "data": {
      "image/png": "[encoded data removed]",
      "text/plain": [
       "<Figure size 1200x600 with 3 Axes>"
      ]
     },
     "metadata": {},
     "output_type": "display_data"
    }
   ],
   "source": [
    "data_m_g_mpg = df[['gallons', 'miles', 'mpg']]\n",
    "fig, axs = plt.subplots(ncols=3, nrows=1)\n",
    "index = 0\n",
    "axs = axs.flatten()\n",
    "for k,v in data_m_g_mpg.items():\n",
    "    sns.boxplot(y=k, data=data_m_g_mpg, ax=axs[index])\n",
    "    index += 1\n",
    "plt.tight_layout(pad=0.4, w_pad=0.5, h_pad=5.0)"
   ]
  },
  {
   "cell_type": "markdown",
   "id": "ee81e352",
   "metadata": {},
   "source": [
    "5. Compute the statistical description of the columns: mean, standard de-\n",
    "viation, max, min, most frequent, and quartiles. Do these results make\n",
    "sense? [3]"
   ]
  },
  {
   "cell_type": "code",
   "execution_count": 111,
   "id": "c416aa27",
   "metadata": {},
   "outputs": [
    {
     "data": {
      "text/html": [
       "<div>\n",
       "<style scoped>\n",
       "    .dataframe tbody tr th:only-of-type {\n",
       "        vertical-align: middle;\n",
       "    }\n",
       "\n",
       "    .dataframe tbody tr th {\n",
       "        vertical-align: top;\n",
       "    }\n",
       "\n",
       "    .dataframe thead th {\n",
       "        text-align: right;\n",
       "    }\n",
       "</style>\n",
       "<table border=\"1\" class=\"dataframe\">\n",
       "  <thead>\n",
       "    <tr style=\"text-align: right;\">\n",
       "      <th></th>\n",
       "      <th>miles</th>\n",
       "      <th>gallons</th>\n",
       "      <th>mpg</th>\n",
       "    </tr>\n",
       "  </thead>\n",
       "  <tbody>\n",
       "    <tr>\n",
       "      <th>count</th>\n",
       "      <td>1100129.0</td>\n",
       "      <td>1100129.0</td>\n",
       "      <td>1100129.0</td>\n",
       "    </tr>\n",
       "    <tr>\n",
       "      <th>mean</th>\n",
       "      <td>269.4538013011202</td>\n",
       "      <td>12.797430474971572</td>\n",
       "      <td>22.163024699830657</td>\n",
       "    </tr>\n",
       "    <tr>\n",
       "      <th>std</th>\n",
       "      <td>725.7634370035393</td>\n",
       "      <td>74.48279111437778</td>\n",
       "      <td>15.744350144205045</td>\n",
       "    </tr>\n",
       "    <tr>\n",
       "      <th>min</th>\n",
       "      <td>0.0</td>\n",
       "      <td>0.0</td>\n",
       "      <td>0.0</td>\n",
       "    </tr>\n",
       "    <tr>\n",
       "      <th>25%</th>\n",
       "      <td>181.4</td>\n",
       "      <td>8.99</td>\n",
       "      <td>15.6</td>\n",
       "    </tr>\n",
       "    <tr>\n",
       "      <th>50%</th>\n",
       "      <td>267.0486</td>\n",
       "      <td>11.954</td>\n",
       "      <td>21.8</td>\n",
       "    </tr>\n",
       "    <tr>\n",
       "      <th>75%</th>\n",
       "      <td>342.7641</td>\n",
       "      <td>14.939</td>\n",
       "      <td>28.5</td>\n",
       "    </tr>\n",
       "    <tr>\n",
       "      <th>max</th>\n",
       "      <td>195321.2</td>\n",
       "      <td>28380.0</td>\n",
       "      <td>1214.3</td>\n",
       "    </tr>\n",
       "  </tbody>\n",
       "</table>\n",
       "</div>"
      ],
      "text/plain": [
       "                  miles            gallons                mpg\n",
       "count         1100129.0          1100129.0          1100129.0\n",
       "mean  269.4538013011202 12.797430474971572 22.163024699830657\n",
       "std   725.7634370035393  74.48279111437778 15.744350144205045\n",
       "min                 0.0                0.0                0.0\n",
       "25%               181.4               8.99               15.6\n",
       "50%            267.0486             11.954               21.8\n",
       "75%            342.7641             14.939               28.5\n",
       "max            195321.2            28380.0             1214.3"
      ]
     },
     "execution_count": 111,
     "metadata": {},
     "output_type": "execute_result"
    }
   ],
   "source": [
    "# suppressing scientific notation when printing float values\n",
    "pd.options.display.float_format = '{}'.format\n",
    "\n",
    "df[['miles', 'gallons', 'mpg']].describe()"
   ]
  },
  {
   "cell_type": "markdown",
   "id": "372c9ea4",
   "metadata": {},
   "source": [
    "These descriptions show that the mean for gallons is approximately 13 which makes sense, as I have mentioned that an average sized tank can hold between 12 to 18 gallons of fuel. There are clearly some extremes which do not make sense in this column. As we can see the maximum gallons is 28380, which seems highly unlikely for a car to be filled with that many gallons of fuel.\n",
    "\n",
    "For mpg, the values make sense in relation to the values of miles and gallons. In reality, an average car (based in USA) gets an average of 25mpg. The average mpg here is 22 which is very close to 25, thus it makes sense in this aspect as well.\n",
    "\n",
    "For miles, the average is 269 miles. This makes sense in relation to the average of 22mpg. If a car rides 269 miles based on 22mpg, on average they would consume 12-13 gallons of fuel. The maximum miles driven is 195321 miles. In relation to the extreme max value of gallons, this makes sense."
   ]
  },
  {
   "cell_type": "markdown",
   "id": "07e99a8b",
   "metadata": {},
   "source": [
    "### 2 Feature engineering"
   ]
  },
  {
   "cell_type": "markdown",
   "id": "ec242dec",
   "metadata": {},
   "source": [
    "1. Create a new column with the currency. (Something to keep in mind is\n",
    "that the Swiss Franc has a period in the abbreviation). [2]\n"
   ]
  },
  {
   "cell_type": "code",
   "execution_count": 112,
   "id": "52b21285",
   "metadata": {},
   "outputs": [],
   "source": [
    "df['Currency'] = df['total_spent'].astype(str).str.extract(r'([^\\d.,]+)')"
   ]
  },
  {
   "cell_type": "code",
   "execution_count": 113,
   "id": "4c0e7312",
   "metadata": {},
   "outputs": [
    {
     "data": {
      "text/plain": [
       "Currency\n",
       "$      741953\n",
       "£       87587\n",
       "nan     74171\n",
       "€       59273\n",
       "CA$     46848\n",
       "        ...  \n",
       "TMT        11\n",
       "CV$        11\n",
       "KGS         9\n",
       "L$          9\n",
       "IQD         8\n",
       "Name: count, Length: 121, dtype: int64"
      ]
     },
     "execution_count": 113,
     "metadata": {},
     "output_type": "execute_result"
    }
   ],
   "source": [
    "df['Currency'].value_counts()\n"
   ]
  },
  {
   "cell_type": "code",
   "execution_count": 114,
   "id": "5b804cae",
   "metadata": {},
   "outputs": [
    {
     "data": {
      "text/html": [
       "<div>\n",
       "<style scoped>\n",
       "    .dataframe tbody tr th:only-of-type {\n",
       "        vertical-align: middle;\n",
       "    }\n",
       "\n",
       "    .dataframe tbody tr th {\n",
       "        vertical-align: top;\n",
       "    }\n",
       "\n",
       "    .dataframe thead th {\n",
       "        text-align: right;\n",
       "    }\n",
       "</style>\n",
       "<table border=\"1\" class=\"dataframe\">\n",
       "  <thead>\n",
       "    <tr style=\"text-align: right;\">\n",
       "      <th></th>\n",
       "      <th>date_fueled</th>\n",
       "      <th>date_captured</th>\n",
       "      <th>odometer</th>\n",
       "      <th>gallons</th>\n",
       "      <th>cost_per_gallon</th>\n",
       "      <th>total_spent</th>\n",
       "      <th>mpg</th>\n",
       "      <th>miles</th>\n",
       "      <th>user_url</th>\n",
       "      <th>Currency</th>\n",
       "    </tr>\n",
       "  </thead>\n",
       "  <tbody>\n",
       "    <tr>\n",
       "      <th>0</th>\n",
       "      <td>2022-04-07</td>\n",
       "      <td>2022-04-07</td>\n",
       "      <td>73370.0</td>\n",
       "      <td>NaN</td>\n",
       "      <td>NaN</td>\n",
       "      <td>NaN</td>\n",
       "      <td>NaN</td>\n",
       "      <td>NaN</td>\n",
       "      <td>https://www.somewebsite.com/suzuki/swift/2015/...</td>\n",
       "      <td>nan</td>\n",
       "    </tr>\n",
       "    <tr>\n",
       "      <th>1</th>\n",
       "      <td>2012-11-07</td>\n",
       "      <td>2016-08-30</td>\n",
       "      <td>11983.0</td>\n",
       "      <td>12.12</td>\n",
       "      <td>$5.599</td>\n",
       "      <td>$67.86</td>\n",
       "      <td>31.6</td>\n",
       "      <td>382.992</td>\n",
       "      <td>https://www.somewebsite.com/bmw/x3/2009/461150</td>\n",
       "      <td>$</td>\n",
       "    </tr>\n",
       "    <tr>\n",
       "      <th>2</th>\n",
       "      <td>2012-09-22</td>\n",
       "      <td>2012-09-28</td>\n",
       "      <td>98233.0</td>\n",
       "      <td>7.991</td>\n",
       "      <td>£5.45</td>\n",
       "      <td>£43.53</td>\n",
       "      <td>28.5</td>\n",
       "      <td>227.74349999999998</td>\n",
       "      <td>https://www.somewebsite.com/mercedes-benz/e300...</td>\n",
       "      <td>£</td>\n",
       "    </tr>\n",
       "    <tr>\n",
       "      <th>3</th>\n",
       "      <td>2019-05-04</td>\n",
       "      <td>2019-05-04</td>\n",
       "      <td>163802.0</td>\n",
       "      <td>10.575</td>\n",
       "      <td>£5.11</td>\n",
       "      <td>£54.00</td>\n",
       "      <td>46.8</td>\n",
       "      <td>494.9099999999999</td>\n",
       "      <td>https://www.somewebsite.com/bmw/320d/2010/247233</td>\n",
       "      <td>£</td>\n",
       "    </tr>\n",
       "    <tr>\n",
       "      <th>4</th>\n",
       "      <td>2022-02-15</td>\n",
       "      <td>2022-02-15</td>\n",
       "      <td>NaN</td>\n",
       "      <td>11.651</td>\n",
       "      <td>$3.029</td>\n",
       "      <td>$35.29</td>\n",
       "      <td>21.0</td>\n",
       "      <td>244.4</td>\n",
       "      <td>https://www.somewebsite.com/honda/passport/201...</td>\n",
       "      <td>$</td>\n",
       "    </tr>\n",
       "  </tbody>\n",
       "</table>\n",
       "</div>"
      ],
      "text/plain": [
       "  date_fueled date_captured  odometer  gallons cost_per_gallon total_spent  \\\n",
       "0  2022-04-07    2022-04-07   73370.0      NaN             NaN         NaN   \n",
       "1  2012-11-07    2016-08-30   11983.0    12.12          $5.599      $67.86   \n",
       "2  2012-09-22    2012-09-28   98233.0    7.991           £5.45      £43.53   \n",
       "3  2019-05-04    2019-05-04  163802.0   10.575           £5.11      £54.00   \n",
       "4  2022-02-15    2022-02-15       NaN   11.651          $3.029      $35.29   \n",
       "\n",
       "   mpg              miles                                           user_url  \\\n",
       "0  NaN                NaN  https://www.somewebsite.com/suzuki/swift/2015/...   \n",
       "1 31.6            382.992     https://www.somewebsite.com/bmw/x3/2009/461150   \n",
       "2 28.5 227.74349999999998  https://www.somewebsite.com/mercedes-benz/e300...   \n",
       "3 46.8  494.9099999999999   https://www.somewebsite.com/bmw/320d/2010/247233   \n",
       "4 21.0              244.4  https://www.somewebsite.com/honda/passport/201...   \n",
       "\n",
       "  Currency  \n",
       "0      nan  \n",
       "1        $  \n",
       "2        £  \n",
       "3        £  \n",
       "4        $  "
      ]
     },
     "execution_count": 114,
     "metadata": {},
     "output_type": "execute_result"
    }
   ],
   "source": [
    "df.head()"
   ]
  },
  {
   "cell_type": "markdown",
   "id": "d779ff17",
   "metadata": {},
   "source": [
    "2. Create a new column containing the float value of the total spend and the\n",
    "cost per gallon. (Swiss Franc comment as above). [2]\n"
   ]
  },
  {
   "cell_type": "code",
   "execution_count": 115,
   "id": "a3028037",
   "metadata": {},
   "outputs": [
    {
     "data": {
      "text/html": [
       "<div>\n",
       "<style scoped>\n",
       "    .dataframe tbody tr th:only-of-type {\n",
       "        vertical-align: middle;\n",
       "    }\n",
       "\n",
       "    .dataframe tbody tr th {\n",
       "        vertical-align: top;\n",
       "    }\n",
       "\n",
       "    .dataframe thead th {\n",
       "        text-align: right;\n",
       "    }\n",
       "</style>\n",
       "<table border=\"1\" class=\"dataframe\">\n",
       "  <thead>\n",
       "    <tr style=\"text-align: right;\">\n",
       "      <th></th>\n",
       "      <th>date_fueled</th>\n",
       "      <th>date_captured</th>\n",
       "      <th>odometer</th>\n",
       "      <th>gallons</th>\n",
       "      <th>cost_per_gallon</th>\n",
       "      <th>total_spent</th>\n",
       "      <th>mpg</th>\n",
       "      <th>miles</th>\n",
       "      <th>user_url</th>\n",
       "      <th>Currency</th>\n",
       "      <th>float_tot_spent</th>\n",
       "    </tr>\n",
       "  </thead>\n",
       "  <tbody>\n",
       "    <tr>\n",
       "      <th>0</th>\n",
       "      <td>2022-04-07</td>\n",
       "      <td>2022-04-07</td>\n",
       "      <td>73370.0</td>\n",
       "      <td>NaN</td>\n",
       "      <td>NaN</td>\n",
       "      <td>NaN</td>\n",
       "      <td>NaN</td>\n",
       "      <td>NaN</td>\n",
       "      <td>https://www.somewebsite.com/suzuki/swift/2015/...</td>\n",
       "      <td>nan</td>\n",
       "      <td>NaN</td>\n",
       "    </tr>\n",
       "    <tr>\n",
       "      <th>1</th>\n",
       "      <td>2012-11-07</td>\n",
       "      <td>2016-08-30</td>\n",
       "      <td>11983.0</td>\n",
       "      <td>12.12</td>\n",
       "      <td>$5.599</td>\n",
       "      <td>$67.86</td>\n",
       "      <td>31.6</td>\n",
       "      <td>382.992</td>\n",
       "      <td>https://www.somewebsite.com/bmw/x3/2009/461150</td>\n",
       "      <td>$</td>\n",
       "      <td>67.86</td>\n",
       "    </tr>\n",
       "    <tr>\n",
       "      <th>2</th>\n",
       "      <td>2012-09-22</td>\n",
       "      <td>2012-09-28</td>\n",
       "      <td>98233.0</td>\n",
       "      <td>7.991</td>\n",
       "      <td>£5.45</td>\n",
       "      <td>£43.53</td>\n",
       "      <td>28.5</td>\n",
       "      <td>227.74349999999998</td>\n",
       "      <td>https://www.somewebsite.com/mercedes-benz/e300...</td>\n",
       "      <td>£</td>\n",
       "      <td>43.53</td>\n",
       "    </tr>\n",
       "    <tr>\n",
       "      <th>3</th>\n",
       "      <td>2019-05-04</td>\n",
       "      <td>2019-05-04</td>\n",
       "      <td>163802.0</td>\n",
       "      <td>10.575</td>\n",
       "      <td>£5.11</td>\n",
       "      <td>£54.00</td>\n",
       "      <td>46.8</td>\n",
       "      <td>494.9099999999999</td>\n",
       "      <td>https://www.somewebsite.com/bmw/320d/2010/247233</td>\n",
       "      <td>£</td>\n",
       "      <td>54.00</td>\n",
       "    </tr>\n",
       "    <tr>\n",
       "      <th>4</th>\n",
       "      <td>2022-02-15</td>\n",
       "      <td>2022-02-15</td>\n",
       "      <td>NaN</td>\n",
       "      <td>11.651</td>\n",
       "      <td>$3.029</td>\n",
       "      <td>$35.29</td>\n",
       "      <td>21.0</td>\n",
       "      <td>244.4</td>\n",
       "      <td>https://www.somewebsite.com/honda/passport/201...</td>\n",
       "      <td>$</td>\n",
       "      <td>35.29</td>\n",
       "    </tr>\n",
       "  </tbody>\n",
       "</table>\n",
       "</div>"
      ],
      "text/plain": [
       "  date_fueled date_captured  odometer  gallons cost_per_gallon total_spent  \\\n",
       "0  2022-04-07    2022-04-07   73370.0      NaN             NaN         NaN   \n",
       "1  2012-11-07    2016-08-30   11983.0    12.12          $5.599      $67.86   \n",
       "2  2012-09-22    2012-09-28   98233.0    7.991           £5.45      £43.53   \n",
       "3  2019-05-04    2019-05-04  163802.0   10.575           £5.11      £54.00   \n",
       "4  2022-02-15    2022-02-15       NaN   11.651          $3.029      $35.29   \n",
       "\n",
       "   mpg              miles                                           user_url  \\\n",
       "0  NaN                NaN  https://www.somewebsite.com/suzuki/swift/2015/...   \n",
       "1 31.6            382.992     https://www.somewebsite.com/bmw/x3/2009/461150   \n",
       "2 28.5 227.74349999999998  https://www.somewebsite.com/mercedes-benz/e300...   \n",
       "3 46.8  494.9099999999999   https://www.somewebsite.com/bmw/320d/2010/247233   \n",
       "4 21.0              244.4  https://www.somewebsite.com/honda/passport/201...   \n",
       "\n",
       "  Currency float_tot_spent  \n",
       "0      nan             NaN  \n",
       "1        $           67.86  \n",
       "2        £           43.53  \n",
       "3        £           54.00  \n",
       "4        $           35.29  "
      ]
     },
     "execution_count": 115,
     "metadata": {},
     "output_type": "execute_result"
    }
   ],
   "source": [
    "df[\"float_tot_spent\"] = df[\"total_spent\"].str.extract(\"(\\d*\\.?\\d+)\", expand=True)\n",
    "df.head()"
   ]
  },
  {
   "cell_type": "code",
   "execution_count": 116,
   "id": "8e837460",
   "metadata": {},
   "outputs": [
    {
     "data": {
      "text/html": [
       "<div>\n",
       "<style scoped>\n",
       "    .dataframe tbody tr th:only-of-type {\n",
       "        vertical-align: middle;\n",
       "    }\n",
       "\n",
       "    .dataframe tbody tr th {\n",
       "        vertical-align: top;\n",
       "    }\n",
       "\n",
       "    .dataframe thead th {\n",
       "        text-align: right;\n",
       "    }\n",
       "</style>\n",
       "<table border=\"1\" class=\"dataframe\">\n",
       "  <thead>\n",
       "    <tr style=\"text-align: right;\">\n",
       "      <th></th>\n",
       "      <th>date_fueled</th>\n",
       "      <th>date_captured</th>\n",
       "      <th>odometer</th>\n",
       "      <th>gallons</th>\n",
       "      <th>cost_per_gallon</th>\n",
       "      <th>total_spent</th>\n",
       "      <th>mpg</th>\n",
       "      <th>miles</th>\n",
       "      <th>user_url</th>\n",
       "      <th>Currency</th>\n",
       "      <th>float_tot_spent</th>\n",
       "      <th>float_cpg</th>\n",
       "    </tr>\n",
       "  </thead>\n",
       "  <tbody>\n",
       "    <tr>\n",
       "      <th>0</th>\n",
       "      <td>2022-04-07</td>\n",
       "      <td>2022-04-07</td>\n",
       "      <td>73370.0</td>\n",
       "      <td>NaN</td>\n",
       "      <td>NaN</td>\n",
       "      <td>NaN</td>\n",
       "      <td>NaN</td>\n",
       "      <td>NaN</td>\n",
       "      <td>https://www.somewebsite.com/suzuki/swift/2015/...</td>\n",
       "      <td>nan</td>\n",
       "      <td>NaN</td>\n",
       "      <td>NaN</td>\n",
       "    </tr>\n",
       "    <tr>\n",
       "      <th>1</th>\n",
       "      <td>2012-11-07</td>\n",
       "      <td>2016-08-30</td>\n",
       "      <td>11983.0</td>\n",
       "      <td>12.12</td>\n",
       "      <td>$5.599</td>\n",
       "      <td>$67.86</td>\n",
       "      <td>31.6</td>\n",
       "      <td>382.992</td>\n",
       "      <td>https://www.somewebsite.com/bmw/x3/2009/461150</td>\n",
       "      <td>$</td>\n",
       "      <td>67.86</td>\n",
       "      <td>5.599</td>\n",
       "    </tr>\n",
       "    <tr>\n",
       "      <th>2</th>\n",
       "      <td>2012-09-22</td>\n",
       "      <td>2012-09-28</td>\n",
       "      <td>98233.0</td>\n",
       "      <td>7.991</td>\n",
       "      <td>£5.45</td>\n",
       "      <td>£43.53</td>\n",
       "      <td>28.5</td>\n",
       "      <td>227.74349999999998</td>\n",
       "      <td>https://www.somewebsite.com/mercedes-benz/e300...</td>\n",
       "      <td>£</td>\n",
       "      <td>43.53</td>\n",
       "      <td>5.45</td>\n",
       "    </tr>\n",
       "    <tr>\n",
       "      <th>3</th>\n",
       "      <td>2019-05-04</td>\n",
       "      <td>2019-05-04</td>\n",
       "      <td>163802.0</td>\n",
       "      <td>10.575</td>\n",
       "      <td>£5.11</td>\n",
       "      <td>£54.00</td>\n",
       "      <td>46.8</td>\n",
       "      <td>494.9099999999999</td>\n",
       "      <td>https://www.somewebsite.com/bmw/320d/2010/247233</td>\n",
       "      <td>£</td>\n",
       "      <td>54.00</td>\n",
       "      <td>5.11</td>\n",
       "    </tr>\n",
       "    <tr>\n",
       "      <th>4</th>\n",
       "      <td>2022-02-15</td>\n",
       "      <td>2022-02-15</td>\n",
       "      <td>NaN</td>\n",
       "      <td>11.651</td>\n",
       "      <td>$3.029</td>\n",
       "      <td>$35.29</td>\n",
       "      <td>21.0</td>\n",
       "      <td>244.4</td>\n",
       "      <td>https://www.somewebsite.com/honda/passport/201...</td>\n",
       "      <td>$</td>\n",
       "      <td>35.29</td>\n",
       "      <td>3.029</td>\n",
       "    </tr>\n",
       "  </tbody>\n",
       "</table>\n",
       "</div>"
      ],
      "text/plain": [
       "  date_fueled date_captured  odometer  gallons cost_per_gallon total_spent  \\\n",
       "0  2022-04-07    2022-04-07   73370.0      NaN             NaN         NaN   \n",
       "1  2012-11-07    2016-08-30   11983.0    12.12          $5.599      $67.86   \n",
       "2  2012-09-22    2012-09-28   98233.0    7.991           £5.45      £43.53   \n",
       "3  2019-05-04    2019-05-04  163802.0   10.575           £5.11      £54.00   \n",
       "4  2022-02-15    2022-02-15       NaN   11.651          $3.029      $35.29   \n",
       "\n",
       "   mpg              miles                                           user_url  \\\n",
       "0  NaN                NaN  https://www.somewebsite.com/suzuki/swift/2015/...   \n",
       "1 31.6            382.992     https://www.somewebsite.com/bmw/x3/2009/461150   \n",
       "2 28.5 227.74349999999998  https://www.somewebsite.com/mercedes-benz/e300...   \n",
       "3 46.8  494.9099999999999   https://www.somewebsite.com/bmw/320d/2010/247233   \n",
       "4 21.0              244.4  https://www.somewebsite.com/honda/passport/201...   \n",
       "\n",
       "  Currency float_tot_spent float_cpg  \n",
       "0      nan             NaN       NaN  \n",
       "1        $           67.86     5.599  \n",
       "2        £           43.53      5.45  \n",
       "3        £           54.00      5.11  \n",
       "4        $           35.29     3.029  "
      ]
     },
     "execution_count": 116,
     "metadata": {},
     "output_type": "execute_result"
    }
   ],
   "source": [
    "df['float_cpg'] = df['cost_per_gallon'].str.extract(\"(\\d*\\.?\\d+)\", expand=True)\n",
    "df.head()"
   ]
  },
  {
   "cell_type": "code",
   "execution_count": 117,
   "id": "7ec20b98",
   "metadata": {},
   "outputs": [
    {
     "data": {
      "text/plain": [
       "date_fueled        datetime64[ns]\n",
       "date_captured      datetime64[ns]\n",
       "odometer                  float64\n",
       "gallons                   float64\n",
       "cost_per_gallon            object\n",
       "total_spent                object\n",
       "mpg                       float64\n",
       "miles                     float64\n",
       "user_url                   object\n",
       "Currency                   object\n",
       "float_tot_spent            object\n",
       "float_cpg                  object\n",
       "dtype: object"
      ]
     },
     "execution_count": 117,
     "metadata": {},
     "output_type": "execute_result"
    }
   ],
   "source": [
    "df.dtypes"
   ]
  },
  {
   "cell_type": "code",
   "execution_count": 118,
   "id": "00c1917c",
   "metadata": {},
   "outputs": [
    {
     "data": {
      "text/plain": [
       "date_fueled        datetime64[ns]\n",
       "date_captured      datetime64[ns]\n",
       "odometer                  float64\n",
       "gallons                   float64\n",
       "cost_per_gallon            object\n",
       "total_spent                object\n",
       "mpg                       float64\n",
       "miles                     float64\n",
       "user_url                   object\n",
       "Currency                   object\n",
       "float_tot_spent           float64\n",
       "float_cpg                 float64\n",
       "dtype: object"
      ]
     },
     "execution_count": 118,
     "metadata": {},
     "output_type": "execute_result"
    }
   ],
   "source": [
    "df['float_cpg'] = df['float_cpg'].astype(float)\n",
    "df[\"float_tot_spent\"] = df[\"float_tot_spent\"].astype(float)\n",
    "df.dtypes"
   ]
  },
  {
   "cell_type": "markdown",
   "id": "dc3f1919",
   "metadata": {},
   "source": [
    "3. Car make, model, year, User ID: use the url (the last value in the URL is\n",
    "the user ID) [4]\n"
   ]
  },
  {
   "cell_type": "code",
   "execution_count": 119,
   "id": "b2a51783",
   "metadata": {},
   "outputs": [
    {
     "data": {
      "text/plain": [
       "0          https://www.somewebsite.com/suzuki/swift/2015/674857\n",
       "1                https://www.somewebsite.com/bmw/x3/2009/461150\n",
       "2    https://www.somewebsite.com/mercedes-benz/e300/1998/133501\n",
       "3              https://www.somewebsite.com/bmw/320d/2010/247233\n",
       "4       https://www.somewebsite.com/honda/passport/2019/1038865\n",
       "5     https://www.somewebsite.com/volkswagen/passat/2004/445811\n",
       "6         https://www.somewebsite.com/mazda/3_sport/2010/529810\n",
       "7      https://www.somewebsite.com/subaru/forester/2020/1087864\n",
       "8              https://www.somewebsite.com/kianival/2009/789684\n",
       "9           https://www.somewebsite.com/lexus/rx350/2012/898688\n",
       "Name: user_url, dtype: object"
      ]
     },
     "metadata": {},
     "output_type": "display_data"
    }
   ],
   "source": [
    "with pd.option_context('display.max_colwidth', None):\n",
    "    display(df['user_url'].head(10))"
   ]
  },
  {
   "cell_type": "code",
   "execution_count": 120,
   "id": "0bf2df7e",
   "metadata": {},
   "outputs": [],
   "source": [
    "df['car_make'] = df['user_url'].str.split('/').str[3]\n",
    "df['car_model'] = df['user_url'].str.split('/').str[4]\n",
    "df['car_year'] = df['user_url'].str.split('/').str[5]\n",
    "df['user_ID'] = df['user_url'].str.split('/').str[-1]\n",
    "\n",
    "#reorder columns\n",
    "columns = ['user_ID', 'date_fueled', 'date_captured', 'odometer', 'gallons','cost_per_gallon', 'float_cpg', 'total_spent','Currency','float_tot_spent', 'mpg', 'miles', 'user_url','car_make', 'car_model', 'car_year']\n",
    "df = df.reindex(columns=columns)"
   ]
  },
  {
   "cell_type": "code",
   "execution_count": 121,
   "id": "5caa386d",
   "metadata": {},
   "outputs": [
    {
     "data": {
      "text/html": [
       "<div>\n",
       "<style scoped>\n",
       "    .dataframe tbody tr th:only-of-type {\n",
       "        vertical-align: middle;\n",
       "    }\n",
       "\n",
       "    .dataframe tbody tr th {\n",
       "        vertical-align: top;\n",
       "    }\n",
       "\n",
       "    .dataframe thead th {\n",
       "        text-align: right;\n",
       "    }\n",
       "</style>\n",
       "<table border=\"1\" class=\"dataframe\">\n",
       "  <thead>\n",
       "    <tr style=\"text-align: right;\">\n",
       "      <th></th>\n",
       "      <th>user_ID</th>\n",
       "      <th>date_fueled</th>\n",
       "      <th>date_captured</th>\n",
       "      <th>odometer</th>\n",
       "      <th>gallons</th>\n",
       "      <th>cost_per_gallon</th>\n",
       "      <th>float_cpg</th>\n",
       "      <th>total_spent</th>\n",
       "      <th>Currency</th>\n",
       "      <th>float_tot_spent</th>\n",
       "      <th>mpg</th>\n",
       "      <th>miles</th>\n",
       "      <th>user_url</th>\n",
       "      <th>car_make</th>\n",
       "      <th>car_model</th>\n",
       "      <th>car_year</th>\n",
       "    </tr>\n",
       "  </thead>\n",
       "  <tbody>\n",
       "    <tr>\n",
       "      <th>0</th>\n",
       "      <td>674857</td>\n",
       "      <td>2022-04-07</td>\n",
       "      <td>2022-04-07</td>\n",
       "      <td>73370.0</td>\n",
       "      <td>NaN</td>\n",
       "      <td>NaN</td>\n",
       "      <td>NaN</td>\n",
       "      <td>NaN</td>\n",
       "      <td>nan</td>\n",
       "      <td>NaN</td>\n",
       "      <td>NaN</td>\n",
       "      <td>NaN</td>\n",
       "      <td>https://www.somewebsite.com/suzuki/swift/2015/...</td>\n",
       "      <td>suzuki</td>\n",
       "      <td>swift</td>\n",
       "      <td>2015</td>\n",
       "    </tr>\n",
       "    <tr>\n",
       "      <th>1</th>\n",
       "      <td>461150</td>\n",
       "      <td>2012-11-07</td>\n",
       "      <td>2016-08-30</td>\n",
       "      <td>11983.0</td>\n",
       "      <td>12.12</td>\n",
       "      <td>$5.599</td>\n",
       "      <td>5.599</td>\n",
       "      <td>$67.86</td>\n",
       "      <td>$</td>\n",
       "      <td>67.86</td>\n",
       "      <td>31.6</td>\n",
       "      <td>382.992</td>\n",
       "      <td>https://www.somewebsite.com/bmw/x3/2009/461150</td>\n",
       "      <td>bmw</td>\n",
       "      <td>x3</td>\n",
       "      <td>2009</td>\n",
       "    </tr>\n",
       "    <tr>\n",
       "      <th>2</th>\n",
       "      <td>133501</td>\n",
       "      <td>2012-09-22</td>\n",
       "      <td>2012-09-28</td>\n",
       "      <td>98233.0</td>\n",
       "      <td>7.991</td>\n",
       "      <td>£5.45</td>\n",
       "      <td>5.45</td>\n",
       "      <td>£43.53</td>\n",
       "      <td>£</td>\n",
       "      <td>43.53</td>\n",
       "      <td>28.5</td>\n",
       "      <td>227.74349999999998</td>\n",
       "      <td>https://www.somewebsite.com/mercedes-benz/e300...</td>\n",
       "      <td>mercedes-benz</td>\n",
       "      <td>e300</td>\n",
       "      <td>1998</td>\n",
       "    </tr>\n",
       "    <tr>\n",
       "      <th>3</th>\n",
       "      <td>247233</td>\n",
       "      <td>2019-05-04</td>\n",
       "      <td>2019-05-04</td>\n",
       "      <td>163802.0</td>\n",
       "      <td>10.575</td>\n",
       "      <td>£5.11</td>\n",
       "      <td>5.11</td>\n",
       "      <td>£54.00</td>\n",
       "      <td>£</td>\n",
       "      <td>54.0</td>\n",
       "      <td>46.8</td>\n",
       "      <td>494.9099999999999</td>\n",
       "      <td>https://www.somewebsite.com/bmw/320d/2010/247233</td>\n",
       "      <td>bmw</td>\n",
       "      <td>320d</td>\n",
       "      <td>2010</td>\n",
       "    </tr>\n",
       "    <tr>\n",
       "      <th>4</th>\n",
       "      <td>1038865</td>\n",
       "      <td>2022-02-15</td>\n",
       "      <td>2022-02-15</td>\n",
       "      <td>NaN</td>\n",
       "      <td>11.651</td>\n",
       "      <td>$3.029</td>\n",
       "      <td>3.029</td>\n",
       "      <td>$35.29</td>\n",
       "      <td>$</td>\n",
       "      <td>35.29</td>\n",
       "      <td>21.0</td>\n",
       "      <td>244.4</td>\n",
       "      <td>https://www.somewebsite.com/honda/passport/201...</td>\n",
       "      <td>honda</td>\n",
       "      <td>passport</td>\n",
       "      <td>2019</td>\n",
       "    </tr>\n",
       "  </tbody>\n",
       "</table>\n",
       "</div>"
      ],
      "text/plain": [
       "   user_ID date_fueled date_captured  odometer  gallons cost_per_gallon  \\\n",
       "0   674857  2022-04-07    2022-04-07   73370.0      NaN             NaN   \n",
       "1   461150  2012-11-07    2016-08-30   11983.0    12.12          $5.599   \n",
       "2   133501  2012-09-22    2012-09-28   98233.0    7.991           £5.45   \n",
       "3   247233  2019-05-04    2019-05-04  163802.0   10.575           £5.11   \n",
       "4  1038865  2022-02-15    2022-02-15       NaN   11.651          $3.029   \n",
       "\n",
       "   float_cpg total_spent Currency  float_tot_spent  mpg              miles  \\\n",
       "0        NaN         NaN      nan              NaN  NaN                NaN   \n",
       "1      5.599      $67.86        $            67.86 31.6            382.992   \n",
       "2       5.45      £43.53        £            43.53 28.5 227.74349999999998   \n",
       "3       5.11      £54.00        £             54.0 46.8  494.9099999999999   \n",
       "4      3.029      $35.29        $            35.29 21.0              244.4   \n",
       "\n",
       "                                            user_url       car_make car_model  \\\n",
       "0  https://www.somewebsite.com/suzuki/swift/2015/...         suzuki     swift   \n",
       "1     https://www.somewebsite.com/bmw/x3/2009/461150            bmw        x3   \n",
       "2  https://www.somewebsite.com/mercedes-benz/e300...  mercedes-benz      e300   \n",
       "3   https://www.somewebsite.com/bmw/320d/2010/247233            bmw      320d   \n",
       "4  https://www.somewebsite.com/honda/passport/201...          honda  passport   \n",
       "\n",
       "  car_year  \n",
       "0     2015  \n",
       "1     2009  \n",
       "2     1998  \n",
       "3     2010  \n",
       "4     2019  "
      ]
     },
     "execution_count": 121,
     "metadata": {},
     "output_type": "execute_result"
    }
   ],
   "source": [
    "df.head()"
   ]
  },
  {
   "cell_type": "markdown",
   "id": "528bb1e4",
   "metadata": {},
   "source": [
    "The data is given in imperial units, and in SA, we use proper measurement\n",
    "standards.\n",
    "1. litres filled: use the gallons - consider whether to use UK or US gallons.\n",
    "[2]"
   ]
  },
  {
   "cell_type": "code",
   "execution_count": 122,
   "id": "fc55ee9d",
   "metadata": {},
   "outputs": [],
   "source": [
    "# Formula to convert to litres from gallons: gallons*3.785411784\n",
    "# US Standard: 1 US liquid gallon = 3,78541 Liter\n",
    "# UK Standard: 1 UK Gallon  = 4.54609 Litres\n",
    "\n",
    "df['litres_filled'] = df['gallons']*3.785411784"
   ]
  },
  {
   "cell_type": "markdown",
   "id": "faf4f746",
   "metadata": {},
   "source": [
    "2. km driven: use the miles driven to compute this [1]"
   ]
  },
  {
   "cell_type": "code",
   "execution_count": 124,
   "id": "3dc8c91f",
   "metadata": {},
   "outputs": [],
   "source": [
    "# Formula to convert from miles to km: miles*1.6\n",
    "df['km_driven'] = df['miles']*1.6"
   ]
  },
  {
   "cell_type": "markdown",
   "id": "d3f9ee2c",
   "metadata": {},
   "source": [
    "\n",
    "3. litres per 100km: use the two new features to calculate this. [1]"
   ]
  },
  {
   "cell_type": "code",
   "execution_count": 125,
   "id": "bddebcb7",
   "metadata": {},
   "outputs": [],
   "source": [
    "# Formula for litres per 100km: (litres_filled/km_driven)*100\n",
    "df['litres_per_100km'] = (df['litres_filled']/df['km_driven'])*100"
   ]
  },
  {
   "cell_type": "code",
   "execution_count": 126,
   "id": "50bb3e47",
   "metadata": {},
   "outputs": [
    {
     "data": {
      "text/html": [
       "<div>\n",
       "<style scoped>\n",
       "    .dataframe tbody tr th:only-of-type {\n",
       "        vertical-align: middle;\n",
       "    }\n",
       "\n",
       "    .dataframe tbody tr th {\n",
       "        vertical-align: top;\n",
       "    }\n",
       "\n",
       "    .dataframe thead th {\n",
       "        text-align: right;\n",
       "    }\n",
       "</style>\n",
       "<table border=\"1\" class=\"dataframe\">\n",
       "  <thead>\n",
       "    <tr style=\"text-align: right;\">\n",
       "      <th></th>\n",
       "      <th>user_ID</th>\n",
       "      <th>date_fueled</th>\n",
       "      <th>date_captured</th>\n",
       "      <th>odometer</th>\n",
       "      <th>gallons</th>\n",
       "      <th>cost_per_gallon</th>\n",
       "      <th>float_cpg</th>\n",
       "      <th>total_spent</th>\n",
       "      <th>Currency</th>\n",
       "      <th>float_tot_spent</th>\n",
       "      <th>mpg</th>\n",
       "      <th>miles</th>\n",
       "      <th>user_url</th>\n",
       "      <th>car_make</th>\n",
       "      <th>car_model</th>\n",
       "      <th>car_year</th>\n",
       "      <th>litres_filled</th>\n",
       "      <th>km_driven</th>\n",
       "      <th>litres_per_100km</th>\n",
       "    </tr>\n",
       "  </thead>\n",
       "  <tbody>\n",
       "    <tr>\n",
       "      <th>0</th>\n",
       "      <td>674857</td>\n",
       "      <td>2022-04-07</td>\n",
       "      <td>2022-04-07</td>\n",
       "      <td>73370.0</td>\n",
       "      <td>NaN</td>\n",
       "      <td>NaN</td>\n",
       "      <td>NaN</td>\n",
       "      <td>NaN</td>\n",
       "      <td>nan</td>\n",
       "      <td>NaN</td>\n",
       "      <td>NaN</td>\n",
       "      <td>NaN</td>\n",
       "      <td>https://www.somewebsite.com/suzuki/swift/2015/...</td>\n",
       "      <td>suzuki</td>\n",
       "      <td>swift</td>\n",
       "      <td>2015</td>\n",
       "      <td>NaN</td>\n",
       "      <td>NaN</td>\n",
       "      <td>NaN</td>\n",
       "    </tr>\n",
       "    <tr>\n",
       "      <th>1</th>\n",
       "      <td>461150</td>\n",
       "      <td>2012-11-07</td>\n",
       "      <td>2016-08-30</td>\n",
       "      <td>11983.0</td>\n",
       "      <td>12.12</td>\n",
       "      <td>$5.599</td>\n",
       "      <td>5.599</td>\n",
       "      <td>$67.86</td>\n",
       "      <td>$</td>\n",
       "      <td>67.86</td>\n",
       "      <td>31.6</td>\n",
       "      <td>382.992</td>\n",
       "      <td>https://www.somewebsite.com/bmw/x3/2009/461150</td>\n",
       "      <td>bmw</td>\n",
       "      <td>x3</td>\n",
       "      <td>2009</td>\n",
       "      <td>45.87919082208</td>\n",
       "      <td>612.7872000000001</td>\n",
       "      <td>7.48696950949367</td>\n",
       "    </tr>\n",
       "    <tr>\n",
       "      <th>2</th>\n",
       "      <td>133501</td>\n",
       "      <td>2012-09-22</td>\n",
       "      <td>2012-09-28</td>\n",
       "      <td>98233.0</td>\n",
       "      <td>7.991</td>\n",
       "      <td>£5.45</td>\n",
       "      <td>5.45</td>\n",
       "      <td>£43.53</td>\n",
       "      <td>£</td>\n",
       "      <td>43.53</td>\n",
       "      <td>28.5</td>\n",
       "      <td>227.74349999999998</td>\n",
       "      <td>https://www.somewebsite.com/mercedes-benz/e300...</td>\n",
       "      <td>mercedes-benz</td>\n",
       "      <td>e300</td>\n",
       "      <td>1998</td>\n",
       "      <td>30.249225565944</td>\n",
       "      <td>364.3896</td>\n",
       "      <td>8.301341631578946</td>\n",
       "    </tr>\n",
       "    <tr>\n",
       "      <th>3</th>\n",
       "      <td>247233</td>\n",
       "      <td>2019-05-04</td>\n",
       "      <td>2019-05-04</td>\n",
       "      <td>163802.0</td>\n",
       "      <td>10.575</td>\n",
       "      <td>£5.11</td>\n",
       "      <td>5.11</td>\n",
       "      <td>£54.00</td>\n",
       "      <td>£</td>\n",
       "      <td>54.0</td>\n",
       "      <td>46.8</td>\n",
       "      <td>494.9099999999999</td>\n",
       "      <td>https://www.somewebsite.com/bmw/320d/2010/247233</td>\n",
       "      <td>bmw</td>\n",
       "      <td>320d</td>\n",
       "      <td>2010</td>\n",
       "      <td>40.0307296158</td>\n",
       "      <td>791.8559999999999</td>\n",
       "      <td>5.055304198717949</td>\n",
       "    </tr>\n",
       "    <tr>\n",
       "      <th>4</th>\n",
       "      <td>1038865</td>\n",
       "      <td>2022-02-15</td>\n",
       "      <td>2022-02-15</td>\n",
       "      <td>NaN</td>\n",
       "      <td>11.651</td>\n",
       "      <td>$3.029</td>\n",
       "      <td>3.029</td>\n",
       "      <td>$35.29</td>\n",
       "      <td>$</td>\n",
       "      <td>35.29</td>\n",
       "      <td>21.0</td>\n",
       "      <td>244.4</td>\n",
       "      <td>https://www.somewebsite.com/honda/passport/201...</td>\n",
       "      <td>honda</td>\n",
       "      <td>passport</td>\n",
       "      <td>2019</td>\n",
       "      <td>44.103832695384</td>\n",
       "      <td>391.04</td>\n",
       "      <td>11.278598786667347</td>\n",
       "    </tr>\n",
       "  </tbody>\n",
       "</table>\n",
       "</div>"
      ],
      "text/plain": [
       "   user_ID date_fueled date_captured  odometer  gallons cost_per_gallon  \\\n",
       "0   674857  2022-04-07    2022-04-07   73370.0      NaN             NaN   \n",
       "1   461150  2012-11-07    2016-08-30   11983.0    12.12          $5.599   \n",
       "2   133501  2012-09-22    2012-09-28   98233.0    7.991           £5.45   \n",
       "3   247233  2019-05-04    2019-05-04  163802.0   10.575           £5.11   \n",
       "4  1038865  2022-02-15    2022-02-15       NaN   11.651          $3.029   \n",
       "\n",
       "   float_cpg total_spent Currency  float_tot_spent  mpg              miles  \\\n",
       "0        NaN         NaN      nan              NaN  NaN                NaN   \n",
       "1      5.599      $67.86        $            67.86 31.6            382.992   \n",
       "2       5.45      £43.53        £            43.53 28.5 227.74349999999998   \n",
       "3       5.11      £54.00        £             54.0 46.8  494.9099999999999   \n",
       "4      3.029      $35.29        $            35.29 21.0              244.4   \n",
       "\n",
       "                                            user_url       car_make car_model  \\\n",
       "0  https://www.somewebsite.com/suzuki/swift/2015/...         suzuki     swift   \n",
       "1     https://www.somewebsite.com/bmw/x3/2009/461150            bmw        x3   \n",
       "2  https://www.somewebsite.com/mercedes-benz/e300...  mercedes-benz      e300   \n",
       "3   https://www.somewebsite.com/bmw/320d/2010/247233            bmw      320d   \n",
       "4  https://www.somewebsite.com/honda/passport/201...          honda  passport   \n",
       "\n",
       "  car_year   litres_filled         km_driven   litres_per_100km  \n",
       "0     2015             NaN               NaN                NaN  \n",
       "1     2009  45.87919082208 612.7872000000001   7.48696950949367  \n",
       "2     1998 30.249225565944          364.3896  8.301341631578946  \n",
       "3     2010   40.0307296158 791.8559999999999  5.055304198717949  \n",
       "4     2019 44.103832695384            391.04 11.278598786667347  "
      ]
     },
     "execution_count": 126,
     "metadata": {},
     "output_type": "execute_result"
    }
   ],
   "source": [
    "df.head()"
   ]
  },
  {
   "cell_type": "code",
   "execution_count": 127,
   "id": "347d55f9",
   "metadata": {},
   "outputs": [
    {
     "data": {
      "text/plain": [
       "user_ID                     object\n",
       "date_fueled         datetime64[ns]\n",
       "date_captured       datetime64[ns]\n",
       "odometer                   float64\n",
       "gallons                    float64\n",
       "cost_per_gallon             object\n",
       "float_cpg                  float64\n",
       "total_spent                 object\n",
       "Currency                    object\n",
       "float_tot_spent            float64\n",
       "mpg                        float64\n",
       "miles                      float64\n",
       "user_url                    object\n",
       "car_make                    object\n",
       "car_model                   object\n",
       "car_year                    object\n",
       "litres_filled              float64\n",
       "km_driven                  float64\n",
       "litres_per_100km           float64\n",
       "dtype: object"
      ]
     },
     "execution_count": 127,
     "metadata": {},
     "output_type": "execute_result"
    }
   ],
   "source": [
    "df.dtypes"
   ]
  },
  {
   "cell_type": "markdown",
   "id": "227367ca",
   "metadata": {},
   "source": [
    "### 3. Vehicle Exploration"
   ]
  },
  {
   "cell_type": "markdown",
   "id": "47462082",
   "metadata": {},
   "source": [
    "1. Plot the number of unique users per country (remember, we proxy this by\n",
    "currency). [2]"
   ]
  },
  {
   "cell_type": "code",
   "execution_count": 128,
   "id": "82c6aa17",
   "metadata": {},
   "outputs": [
    {
     "data": {
      "text/plain": [
       "121"
      ]
     },
     "execution_count": 128,
     "metadata": {},
     "output_type": "execute_result"
    }
   ],
   "source": [
    "# Number of unique currencies \n",
    "df['Currency'].nunique()"
   ]
  },
  {
   "cell_type": "code",
   "execution_count": 129,
   "id": "30701584",
   "metadata": {},
   "outputs": [
    {
     "data": {
      "text/plain": [
       "1174300"
      ]
     },
     "execution_count": 129,
     "metadata": {},
     "output_type": "execute_result"
    }
   ],
   "source": [
    "len(df)"
   ]
  },
  {
   "cell_type": "code",
   "execution_count": 137,
   "id": "23c2be40",
   "metadata": {},
   "outputs": [
    {
     "data": {
      "text/plain": [
       "120201"
      ]
     },
     "execution_count": 137,
     "metadata": {},
     "output_type": "execute_result"
    }
   ],
   "source": [
    "# Number of unique users\n",
    "df['user_ID'].nunique()"
   ]
  },
  {
   "cell_type": "code",
   "execution_count": 138,
   "id": "d379399c",
   "metadata": {},
   "outputs": [],
   "source": [
    "# Number of unique users per country: Unsure\n",
    "unq_users_per_country = df.groupby(['user_ID', 'Currency']).Currency.count().reset_index(name='count')"
   ]
  },
  {
   "cell_type": "code",
   "execution_count": 139,
   "id": "c167794a",
   "metadata": {},
   "outputs": [
    {
     "data": {
      "text/plain": [
       "152856"
      ]
     },
     "execution_count": 139,
     "metadata": {},
     "output_type": "execute_result"
    }
   ],
   "source": [
    "len(unq_users_per_country)"
   ]
  },
  {
   "cell_type": "code",
   "execution_count": 140,
   "id": "aa9861e6",
   "metadata": {},
   "outputs": [
    {
     "data": {
      "text/plain": [
       "Currency\n",
       "$      78723\n",
       "nan    32933\n",
       "£      10847\n",
       "€       6758\n",
       "CA$     5074\n",
       "       ...  \n",
       "L$         1\n",
       "CU$        1\n",
       "YR         1\n",
       "TMT        1\n",
       "KGS        1\n",
       "Name: count, Length: 121, dtype: int64"
      ]
     },
     "execution_count": 140,
     "metadata": {},
     "output_type": "execute_result"
    }
   ],
   "source": [
    "# Unique users per currency\n",
    "unq_users_per_country['Currency'].value_counts()"
   ]
  },
  {
   "cell_type": "code",
   "execution_count": 141,
   "id": "1f1e629e",
   "metadata": {},
   "outputs": [
    {
     "data": {
      "text/plain": [
       "Currency\n",
       "$      741953\n",
       "£       87587\n",
       "nan     74171\n",
       "€       59273\n",
       "CA$     46848\n",
       "        ...  \n",
       "TMT        11\n",
       "CV$        11\n",
       "KGS         9\n",
       "L$          9\n",
       "IQD         8\n",
       "Name: count, Length: 121, dtype: int64"
      ]
     },
     "execution_count": 141,
     "metadata": {},
     "output_type": "execute_result"
    }
   ],
   "source": [
    "# Users per currency\n",
    "df['Currency'].value_counts()"
   ]
  },
  {
   "cell_type": "code",
   "execution_count": 142,
   "id": "a0ffe0aa",
   "metadata": {},
   "outputs": [
    {
     "data": {
      "text/plain": [
       "10.235970365324022"
      ]
     },
     "execution_count": 142,
     "metadata": {},
     "output_type": "execute_result"
    }
   ],
   "source": [
    "# Percentage of unique users\n",
    "df['user_ID'].nunique()/len(df) * 100"
   ]
  },
  {
   "cell_type": "code",
   "execution_count": 143,
   "id": "8c749d08",
   "metadata": {},
   "outputs": [
    {
     "data": {
      "text/plain": [
       "array(['nan', '$', '£', 'RON', '€', 'NZ$', 'zł', 'AU$', '₩', 'Ft', 'Nkr',\n",
       "       'R$', 'CA$', 'RUB', '₪', 'Rp', 'RM', 'R', 'Skr', 'AR$', 'TL',\n",
       "       'din', 'Ikr', '฿', 'CN¥', 'HK$', 'Dkr', '₡', '₴', 'IRR', 'S$',\n",
       "       'Rs', 'BGN', '¥', 'AED', 'MKD', '₱', 'BD', 'CL$', 'EC$', '$U',\n",
       "       'LE', 'MXN', 'CO$', 'CFPF', 'Kč', 'kn', 'JD', 'FCFA', 'NT$', 'BN$',\n",
       "       'RD$', 'S/', 'J$', 'PKRs', 'Ksh', 'GY$', 'KM', 'Fr', 'CFA', 'MDL',\n",
       "       'MMK', 'N$', '₦', 'ZWL', 'USh', 'MURs', 'BYN', 'TT$', 'KD', 'B/',\n",
       "       'Bs', 'SLRs', 'SR', 'GTQ', 'QR', 'Br', 'C$', 'BWP', 'GH₵', 'Tk',\n",
       "       'SR$', 'man', 'KHR', 'BZ$', 'Bds$', 'Kz', 'NPRs', 'OMR', '₲',\n",
       "       'LB£', 'HNL', 'AMD', 'GEL', '₮', 'MTn', 'ZMW', 'SH£', '₫', 'RWF',\n",
       "       'MGA', 'DT', 'VT', 'MOP$', 'TMT', 'SY£', 'BS$', 'Af', 'ALL', 'DA',\n",
       "       'TSh', 'KY$', 'NAf', 'KZT', 'YR', 'MAD', 'CV$', 'IQD', 'CU$',\n",
       "       'KGS', 'L$'], dtype=object)"
      ]
     },
     "execution_count": 143,
     "metadata": {},
     "output_type": "execute_result"
    }
   ],
   "source": [
    "# Unique currencies\n",
    "df['Currency'].unique()"
   ]
  },
  {
   "cell_type": "code",
   "execution_count": 144,
   "id": "8870c4a7",
   "metadata": {},
   "outputs": [
    {
     "data": {
      "image/png": "[encoded data removed]",
      "text/plain": [
       "<Figure size 1200x600 with 1 Axes>"
      ]
     },
     "metadata": {},
     "output_type": "display_data"
    }
   ],
   "source": [
    "unq_users_per_country['Currency'].value_counts()[:20].plot(kind='barh')\n",
    "plt.title(\"Number of Unique Users Per Country\")\n",
    "plt.xlabel(\"Number of Unique Users\")\n",
    "plt.ylabel(\"Currency\")\n",
    "plt.show()"
   ]
  },
  {
   "cell_type": "code",
   "execution_count": 145,
   "id": "d49e14c6",
   "metadata": {},
   "outputs": [
    {
     "data": {
      "image/png": "[encoded data removed]",
      "text/plain": [
       "<Figure size 1200x600 with 1 Axes>"
      ]
     },
     "metadata": {},
     "output_type": "display_data"
    }
   ],
   "source": [
    "unq_users_per_country['Currency'].value_counts()[20:40].plot(kind='barh')\n",
    "plt.title(\"Number of Unique Users Per Country\")\n",
    "plt.xlabel(\"Number of Unique Users\")\n",
    "plt.ylabel(\"Currency\")\n",
    "plt.show()"
   ]
  },
  {
   "cell_type": "code",
   "execution_count": 146,
   "id": "c13110cf",
   "metadata": {},
   "outputs": [
    {
     "data": {
      "image/png": "[encoded data removed]",
      "text/plain": [
       "<Figure size 1200x600 with 1 Axes>"
      ]
     },
     "metadata": {},
     "output_type": "display_data"
    }
   ],
   "source": [
    "unq_users_per_country['Currency'].value_counts()[40:60].plot(kind='barh')\n",
    "plt.title(\"Number of Unique Users Per Country\")\n",
    "plt.xlabel(\"Number of Unique Users\")\n",
    "plt.ylabel(\"Currency\")\n",
    "plt.show()"
   ]
  },
  {
   "cell_type": "code",
   "execution_count": 147,
   "id": "eedebf02",
   "metadata": {},
   "outputs": [
    {
     "data": {
      "image/png": "[encoded data removed]",
      "text/plain": [
       "<Figure size 1200x600 with 1 Axes>"
      ]
     },
     "metadata": {},
     "output_type": "display_data"
    }
   ],
   "source": [
    "unq_users_per_country['Currency'].value_counts()[60:80].plot(kind='barh')\n",
    "plt.title(\"Number of Unique Users Per Country\")\n",
    "plt.xlabel(\"Number of Unique Users\")\n",
    "plt.ylabel(\"Currency\")\n",
    "plt.show()"
   ]
  },
  {
   "cell_type": "code",
   "execution_count": 148,
   "id": "fc9fd0f3",
   "metadata": {},
   "outputs": [
    {
     "data": {
      "image/png": "[encoded data removed]",
      "text/plain": [
       "<Figure size 1200x600 with 1 Axes>"
      ]
     },
     "metadata": {},
     "output_type": "display_data"
    }
   ],
   "source": [
    "unq_users_per_country['Currency'].value_counts()[80:100].plot(kind='barh')\n",
    "plt.title(\"Number of Unique Users Per Country\")\n",
    "plt.xlabel(\"Number of Unique Users\")\n",
    "plt.ylabel(\"Currency\")\n",
    "plt.show()"
   ]
  },
  {
   "cell_type": "code",
   "execution_count": 149,
   "id": "7062ddeb",
   "metadata": {},
   "outputs": [
    {
     "data": {
      "image/png": "[encoded data removed]",
      "text/plain": [
       "<Figure size 1200x600 with 1 Axes>"
      ]
     },
     "metadata": {},
     "output_type": "display_data"
    }
   ],
   "source": [
    "unq_users_per_country['Currency'].value_counts()[100:121].plot(kind='barh')\n",
    "plt.title(\"Number of Unique Users Per Country\")\n",
    "plt.xlabel(\"Number of Unique Users\")\n",
    "plt.ylabel(\"Currency\")\n",
    "plt.show()"
   ]
  },
  {
   "cell_type": "markdown",
   "id": "cff3958e",
   "metadata": {},
   "source": [
    "2. Look at the popularity of the app: plot the number of unique users per\n",
    "day. [2]\n"
   ]
  },
  {
   "cell_type": "code",
   "execution_count": 150,
   "id": "44cef731",
   "metadata": {},
   "outputs": [
    {
     "data": {
      "text/html": [
       "<div>\n",
       "<style scoped>\n",
       "    .dataframe tbody tr th:only-of-type {\n",
       "        vertical-align: middle;\n",
       "    }\n",
       "\n",
       "    .dataframe tbody tr th {\n",
       "        vertical-align: top;\n",
       "    }\n",
       "\n",
       "    .dataframe thead th {\n",
       "        text-align: right;\n",
       "    }\n",
       "</style>\n",
       "<table border=\"1\" class=\"dataframe\">\n",
       "  <thead>\n",
       "    <tr style=\"text-align: right;\">\n",
       "      <th></th>\n",
       "      <th>user_ID</th>\n",
       "      <th>date_fueled</th>\n",
       "      <th>date_captured</th>\n",
       "      <th>odometer</th>\n",
       "      <th>gallons</th>\n",
       "      <th>cost_per_gallon</th>\n",
       "      <th>float_cpg</th>\n",
       "      <th>total_spent</th>\n",
       "      <th>Currency</th>\n",
       "      <th>float_tot_spent</th>\n",
       "      <th>mpg</th>\n",
       "      <th>miles</th>\n",
       "      <th>user_url</th>\n",
       "      <th>car_make</th>\n",
       "      <th>car_model</th>\n",
       "      <th>car_year</th>\n",
       "      <th>litres_filled</th>\n",
       "      <th>km_driven</th>\n",
       "      <th>litres_per_100km</th>\n",
       "    </tr>\n",
       "  </thead>\n",
       "  <tbody>\n",
       "    <tr>\n",
       "      <th>0</th>\n",
       "      <td>674857</td>\n",
       "      <td>2022-04-07</td>\n",
       "      <td>2022-04-07</td>\n",
       "      <td>73370.0</td>\n",
       "      <td>NaN</td>\n",
       "      <td>NaN</td>\n",
       "      <td>NaN</td>\n",
       "      <td>NaN</td>\n",
       "      <td>nan</td>\n",
       "      <td>NaN</td>\n",
       "      <td>NaN</td>\n",
       "      <td>NaN</td>\n",
       "      <td>https://www.somewebsite.com/suzuki/swift/2015/...</td>\n",
       "      <td>suzuki</td>\n",
       "      <td>swift</td>\n",
       "      <td>2015</td>\n",
       "      <td>NaN</td>\n",
       "      <td>NaN</td>\n",
       "      <td>NaN</td>\n",
       "    </tr>\n",
       "    <tr>\n",
       "      <th>1</th>\n",
       "      <td>461150</td>\n",
       "      <td>2012-11-07</td>\n",
       "      <td>2016-08-30</td>\n",
       "      <td>11983.0</td>\n",
       "      <td>12.12</td>\n",
       "      <td>$5.599</td>\n",
       "      <td>5.599</td>\n",
       "      <td>$67.86</td>\n",
       "      <td>$</td>\n",
       "      <td>67.86</td>\n",
       "      <td>31.6</td>\n",
       "      <td>382.992</td>\n",
       "      <td>https://www.somewebsite.com/bmw/x3/2009/461150</td>\n",
       "      <td>bmw</td>\n",
       "      <td>x3</td>\n",
       "      <td>2009</td>\n",
       "      <td>45.87919082208</td>\n",
       "      <td>612.7872000000001</td>\n",
       "      <td>7.48696950949367</td>\n",
       "    </tr>\n",
       "    <tr>\n",
       "      <th>2</th>\n",
       "      <td>133501</td>\n",
       "      <td>2012-09-22</td>\n",
       "      <td>2012-09-28</td>\n",
       "      <td>98233.0</td>\n",
       "      <td>7.991</td>\n",
       "      <td>£5.45</td>\n",
       "      <td>5.45</td>\n",
       "      <td>£43.53</td>\n",
       "      <td>£</td>\n",
       "      <td>43.53</td>\n",
       "      <td>28.5</td>\n",
       "      <td>227.74349999999998</td>\n",
       "      <td>https://www.somewebsite.com/mercedes-benz/e300...</td>\n",
       "      <td>mercedes-benz</td>\n",
       "      <td>e300</td>\n",
       "      <td>1998</td>\n",
       "      <td>30.249225565944</td>\n",
       "      <td>364.3896</td>\n",
       "      <td>8.301341631578946</td>\n",
       "    </tr>\n",
       "    <tr>\n",
       "      <th>3</th>\n",
       "      <td>247233</td>\n",
       "      <td>2019-05-04</td>\n",
       "      <td>2019-05-04</td>\n",
       "      <td>163802.0</td>\n",
       "      <td>10.575</td>\n",
       "      <td>£5.11</td>\n",
       "      <td>5.11</td>\n",
       "      <td>£54.00</td>\n",
       "      <td>£</td>\n",
       "      <td>54.0</td>\n",
       "      <td>46.8</td>\n",
       "      <td>494.9099999999999</td>\n",
       "      <td>https://www.somewebsite.com/bmw/320d/2010/247233</td>\n",
       "      <td>bmw</td>\n",
       "      <td>320d</td>\n",
       "      <td>2010</td>\n",
       "      <td>40.0307296158</td>\n",
       "      <td>791.8559999999999</td>\n",
       "      <td>5.055304198717949</td>\n",
       "    </tr>\n",
       "    <tr>\n",
       "      <th>4</th>\n",
       "      <td>1038865</td>\n",
       "      <td>2022-02-15</td>\n",
       "      <td>2022-02-15</td>\n",
       "      <td>NaN</td>\n",
       "      <td>11.651</td>\n",
       "      <td>$3.029</td>\n",
       "      <td>3.029</td>\n",
       "      <td>$35.29</td>\n",
       "      <td>$</td>\n",
       "      <td>35.29</td>\n",
       "      <td>21.0</td>\n",
       "      <td>244.4</td>\n",
       "      <td>https://www.somewebsite.com/honda/passport/201...</td>\n",
       "      <td>honda</td>\n",
       "      <td>passport</td>\n",
       "      <td>2019</td>\n",
       "      <td>44.103832695384</td>\n",
       "      <td>391.04</td>\n",
       "      <td>11.278598786667347</td>\n",
       "    </tr>\n",
       "  </tbody>\n",
       "</table>\n",
       "</div>"
      ],
      "text/plain": [
       "   user_ID date_fueled date_captured  odometer  gallons cost_per_gallon  \\\n",
       "0   674857  2022-04-07    2022-04-07   73370.0      NaN             NaN   \n",
       "1   461150  2012-11-07    2016-08-30   11983.0    12.12          $5.599   \n",
       "2   133501  2012-09-22    2012-09-28   98233.0    7.991           £5.45   \n",
       "3   247233  2019-05-04    2019-05-04  163802.0   10.575           £5.11   \n",
       "4  1038865  2022-02-15    2022-02-15       NaN   11.651          $3.029   \n",
       "\n",
       "   float_cpg total_spent Currency  float_tot_spent  mpg              miles  \\\n",
       "0        NaN         NaN      nan              NaN  NaN                NaN   \n",
       "1      5.599      $67.86        $            67.86 31.6            382.992   \n",
       "2       5.45      £43.53        £            43.53 28.5 227.74349999999998   \n",
       "3       5.11      £54.00        £             54.0 46.8  494.9099999999999   \n",
       "4      3.029      $35.29        $            35.29 21.0              244.4   \n",
       "\n",
       "                                            user_url       car_make car_model  \\\n",
       "0  https://www.somewebsite.com/suzuki/swift/2015/...         suzuki     swift   \n",
       "1     https://www.somewebsite.com/bmw/x3/2009/461150            bmw        x3   \n",
       "2  https://www.somewebsite.com/mercedes-benz/e300...  mercedes-benz      e300   \n",
       "3   https://www.somewebsite.com/bmw/320d/2010/247233            bmw      320d   \n",
       "4  https://www.somewebsite.com/honda/passport/201...          honda  passport   \n",
       "\n",
       "  car_year   litres_filled         km_driven   litres_per_100km  \n",
       "0     2015             NaN               NaN                NaN  \n",
       "1     2009  45.87919082208 612.7872000000001   7.48696950949367  \n",
       "2     1998 30.249225565944          364.3896  8.301341631578946  \n",
       "3     2010   40.0307296158 791.8559999999999  5.055304198717949  \n",
       "4     2019 44.103832695384            391.04 11.278598786667347  "
      ]
     },
     "execution_count": 150,
     "metadata": {},
     "output_type": "execute_result"
    }
   ],
   "source": [
    "df.head()"
   ]
  },
  {
   "cell_type": "code",
   "execution_count": 151,
   "id": "7d396f72",
   "metadata": {},
   "outputs": [],
   "source": [
    "un_users_per_day = df.groupby(['user_ID', 'date_captured']).date_captured.count().reset_index(name='count')"
   ]
  },
  {
   "cell_type": "code",
   "execution_count": 152,
   "id": "a15cd38b",
   "metadata": {},
   "outputs": [
    {
     "data": {
      "text/plain": [
       "<Axes: xlabel='date_captured', ylabel='count'>"
      ]
     },
     "execution_count": 152,
     "metadata": {},
     "output_type": "execute_result"
    },
    {
     "data": {
      "image/png": "[encoded data removed]",
      "text/plain": [
       "<Figure size 1200x600 with 1 Axes>"
      ]
     },
     "metadata": {},
     "output_type": "display_data"
    }
   ],
   "source": [
    "sns.countplot(x=un_users_per_day['date_captured'].dt.day, data=un_users_per_day)"
   ]
  },
  {
   "cell_type": "markdown",
   "id": "0f735a96",
   "metadata": {},
   "source": [
    "The number of unique users per day is generally lower for the 31st and the highest from the 8th to the 10th"
   ]
  },
  {
   "cell_type": "code",
   "execution_count": 153,
   "id": "1fed8e6b",
   "metadata": {},
   "outputs": [
    {
     "name": "stdout",
     "output_type": "stream",
     "text": [
      "<class 'pandas.core.frame.DataFrame'>\n",
      "Index: 1174300 entries, 0 to 1174869\n",
      "Data columns (total 19 columns):\n",
      " #   Column            Non-Null Count    Dtype         \n",
      "---  ------            --------------    -----         \n",
      " 0   user_ID           1174300 non-null  object        \n",
      " 1   date_fueled       1174300 non-null  datetime64[ns]\n",
      " 2   date_captured     1174300 non-null  datetime64[ns]\n",
      " 3   odometer          1025263 non-null  float64       \n",
      " 4   gallons           1100129 non-null  float64       \n",
      " 5   cost_per_gallon   1093581 non-null  object        \n",
      " 6   float_cpg         1093581 non-null  float64       \n",
      " 7   total_spent       1100129 non-null  object        \n",
      " 8   Currency          1174300 non-null  object        \n",
      " 9   float_tot_spent   1100129 non-null  float64       \n",
      " 10  mpg               1100129 non-null  float64       \n",
      " 11  miles             1100129 non-null  float64       \n",
      " 12  user_url          1174300 non-null  object        \n",
      " 13  car_make          1174300 non-null  object        \n",
      " 14  car_model         1174300 non-null  object        \n",
      " 15  car_year          1174300 non-null  object        \n",
      " 16  litres_filled     1100129 non-null  float64       \n",
      " 17  km_driven         1100129 non-null  float64       \n",
      " 18  litres_per_100km  1099560 non-null  float64       \n",
      "dtypes: datetime64[ns](2), float64(9), object(8)\n",
      "memory usage: 179.2+ MB\n"
     ]
    }
   ],
   "source": [
    "df.info()"
   ]
  },
  {
   "cell_type": "markdown",
   "id": "79e3c1a0",
   "metadata": {},
   "source": [
    "3. Look at the distribution of age of the vehicles per country - look at the\n",
    "year of the vehicle. Remember to look at the date it was refuelled, not\n",
    "the current date. [3]\n"
   ]
  },
  {
   "cell_type": "code",
   "execution_count": 154,
   "id": "d8881bf1",
   "metadata": {},
   "outputs": [],
   "source": [
    "df['car_year'] = pd.to_numeric(df['car_year'], errors='coerce')"
   ]
  },
  {
   "cell_type": "code",
   "execution_count": 155,
   "id": "e098f689",
   "metadata": {},
   "outputs": [],
   "source": [
    "df['vehicle_age'] = df['date_fueled'].dt.year - df['car_year']"
   ]
  },
  {
   "cell_type": "code",
   "execution_count": 156,
   "id": "cffbc5c9",
   "metadata": {},
   "outputs": [
    {
     "data": {
      "text/plain": [
       "np.float64(0.005861364216980329)"
      ]
     },
     "execution_count": 156,
     "metadata": {},
     "output_type": "execute_result"
    }
   ],
   "source": [
    "# percent of negative values\n",
    "np.sum((df['vehicle_age'] < 0).values.ravel())/len(df)"
   ]
  },
  {
   "cell_type": "code",
   "execution_count": 157,
   "id": "0a092746",
   "metadata": {},
   "outputs": [],
   "source": [
    "df['vehicle_age'] = np.where(df['vehicle_age'] < 0, np.nan, df['vehicle_age'])"
   ]
  },
  {
   "cell_type": "code",
   "execution_count": 158,
   "id": "a04c4b17",
   "metadata": {},
   "outputs": [
    {
     "data": {
      "text/plain": [
       "<seaborn.axisgrid.FacetGrid at 0x7e0e261ac4f0>"
      ]
     },
     "execution_count": 158,
     "metadata": {},
     "output_type": "execute_result"
    },
    {
     "data": {
      "image/png": "[encoded data removed]",
      "text/plain": [
       "<Figure size 500x500 with 1 Axes>"
      ]
     },
     "metadata": {},
     "output_type": "display_data"
    }
   ],
   "source": [
    "sns.displot(data=df, x= df['vehicle_age'], bins=40)"
   ]
  },
  {
   "cell_type": "markdown",
   "id": "7b0cebd2",
   "metadata": {},
   "source": [
    "4. Which makes and models of vehicles are the most popular? [2]"
   ]
  },
  {
   "cell_type": "code",
   "execution_count": 161,
   "id": "48442c85",
   "metadata": {},
   "outputs": [
    {
     "data": {
      "text/html": [
       "<div>\n",
       "<style scoped>\n",
       "    .dataframe tbody tr th:only-of-type {\n",
       "        vertical-align: middle;\n",
       "    }\n",
       "\n",
       "    .dataframe tbody tr th {\n",
       "        vertical-align: top;\n",
       "    }\n",
       "\n",
       "    .dataframe thead th {\n",
       "        text-align: right;\n",
       "    }\n",
       "</style>\n",
       "<table border=\"1\" class=\"dataframe\">\n",
       "  <thead>\n",
       "    <tr style=\"text-align: right;\">\n",
       "      <th></th>\n",
       "      <th>car_make</th>\n",
       "      <th>car_model</th>\n",
       "      <th>count</th>\n",
       "    </tr>\n",
       "  </thead>\n",
       "  <tbody>\n",
       "    <tr>\n",
       "      <th>692</th>\n",
       "      <td>honda</td>\n",
       "      <td>civic</td>\n",
       "      <td>8082</td>\n",
       "    </tr>\n",
       "    <tr>\n",
       "      <th>1937</th>\n",
       "      <td>toyota</td>\n",
       "      <td>4runner</td>\n",
       "      <td>7810</td>\n",
       "    </tr>\n",
       "    <tr>\n",
       "      <th>1972</th>\n",
       "      <td>toyota</td>\n",
       "      <td>corolla</td>\n",
       "      <td>7737</td>\n",
       "    </tr>\n",
       "    <tr>\n",
       "      <th>565</th>\n",
       "      <td>ford</td>\n",
       "      <td>f-150</td>\n",
       "      <td>7661</td>\n",
       "    </tr>\n",
       "    <tr>\n",
       "      <th>676</th>\n",
       "      <td>honda</td>\n",
       "      <td>accord</td>\n",
       "      <td>7633</td>\n",
       "    </tr>\n",
       "    <tr>\n",
       "      <th>627</th>\n",
       "      <td>ford</td>\n",
       "      <td>mustang</td>\n",
       "      <td>7520</td>\n",
       "    </tr>\n",
       "    <tr>\n",
       "      <th>642</th>\n",
       "      <td>ford</td>\n",
       "      <td>ranger</td>\n",
       "      <td>7424</td>\n",
       "    </tr>\n",
       "    <tr>\n",
       "      <th>2013</th>\n",
       "      <td>toyota</td>\n",
       "      <td>land_cruiser</td>\n",
       "      <td>7388</td>\n",
       "    </tr>\n",
       "    <tr>\n",
       "      <th>1964</th>\n",
       "      <td>toyota</td>\n",
       "      <td>camry</td>\n",
       "      <td>7316</td>\n",
       "    </tr>\n",
       "    <tr>\n",
       "      <th>888</th>\n",
       "      <td>jeep</td>\n",
       "      <td>wrangler</td>\n",
       "      <td>7061</td>\n",
       "    </tr>\n",
       "    <tr>\n",
       "      <th>2154</th>\n",
       "      <td>volkswagen</td>\n",
       "      <td>jetta</td>\n",
       "      <td>6882</td>\n",
       "    </tr>\n",
       "    <tr>\n",
       "      <th>2137</th>\n",
       "      <td>volkswagen</td>\n",
       "      <td>golf</td>\n",
       "      <td>6576</td>\n",
       "    </tr>\n",
       "    <tr>\n",
       "      <th>1840</th>\n",
       "      <td>subaru</td>\n",
       "      <td>legacy</td>\n",
       "      <td>6501</td>\n",
       "    </tr>\n",
       "    <tr>\n",
       "      <th>560</th>\n",
       "      <td>ford</td>\n",
       "      <td>explorer</td>\n",
       "      <td>6336</td>\n",
       "    </tr>\n",
       "    <tr>\n",
       "      <th>1105</th>\n",
       "      <td>mazda</td>\n",
       "      <td>mx-5_miata</td>\n",
       "      <td>6324</td>\n",
       "    </tr>\n",
       "  </tbody>\n",
       "</table>\n",
       "</div>"
      ],
      "text/plain": [
       "        car_make     car_model  count\n",
       "692        honda         civic   8082\n",
       "1937      toyota       4runner   7810\n",
       "1972      toyota       corolla   7737\n",
       "565         ford         f-150   7661\n",
       "676        honda        accord   7633\n",
       "627         ford       mustang   7520\n",
       "642         ford        ranger   7424\n",
       "2013      toyota  land_cruiser   7388\n",
       "1964      toyota         camry   7316\n",
       "888         jeep      wrangler   7061\n",
       "2154  volkswagen         jetta   6882\n",
       "2137  volkswagen          golf   6576\n",
       "1840      subaru        legacy   6501\n",
       "560         ford      explorer   6336\n",
       "1105       mazda    mx-5_miata   6324"
      ]
     },
     "execution_count": 161,
     "metadata": {},
     "output_type": "execute_result"
    }
   ],
   "source": [
    "most_popular_vehicle = df.groupby(['car_make', 'car_model']).car_make.count().reset_index(name='count')\n",
    "most_popular_vehicle.nlargest(n=15, columns=['count'])"
   ]
  },
  {
   "cell_type": "markdown",
   "id": "2cf7547a",
   "metadata": {},
   "source": [
    "### 4. Fuel Usage"
   ]
  },
  {
   "cell_type": "markdown",
   "id": "04a9c593",
   "metadata": {},
   "source": [
    "#### 4.1. Outlier Removal"
   ]
  },
  {
   "cell_type": "markdown",
   "id": "5877f5ec",
   "metadata": {},
   "source": [
    "1. Identify the top 5 currencies by number of transactions. [2]"
   ]
  },
  {
   "cell_type": "code",
   "execution_count": 166,
   "id": "be631219",
   "metadata": {},
   "outputs": [],
   "source": [
    "# consistency reasons - cost per gallon is converted to cost per litre\n",
    "# divide fuel price (U.S. gallon) by 3.785411784 to get cost per litre\n",
    "df['float_cpl'] = df['float_cpg']/3.785411784"
   ]
  },
  {
   "cell_type": "code",
   "execution_count": 174,
   "id": "5fc4388e",
   "metadata": {},
   "outputs": [
    {
     "data": {
      "text/html": [
       "<div>\n",
       "<style scoped>\n",
       "    .dataframe tbody tr th:only-of-type {\n",
       "        vertical-align: middle;\n",
       "    }\n",
       "\n",
       "    .dataframe tbody tr th {\n",
       "        vertical-align: top;\n",
       "    }\n",
       "\n",
       "    .dataframe thead th {\n",
       "        text-align: right;\n",
       "    }\n",
       "</style>\n",
       "<table border=\"1\" class=\"dataframe\">\n",
       "  <thead>\n",
       "    <tr style=\"text-align: right;\">\n",
       "      <th></th>\n",
       "      <th>Currency</th>\n",
       "      <th>count</th>\n",
       "    </tr>\n",
       "  </thead>\n",
       "  <tbody>\n",
       "    <tr>\n",
       "      <th>0</th>\n",
       "      <td>$</td>\n",
       "      <td>741953</td>\n",
       "    </tr>\n",
       "    <tr>\n",
       "      <th>1</th>\n",
       "      <td>£</td>\n",
       "      <td>87587</td>\n",
       "    </tr>\n",
       "    <tr>\n",
       "      <th>2</th>\n",
       "      <td>€</td>\n",
       "      <td>59273</td>\n",
       "    </tr>\n",
       "    <tr>\n",
       "      <th>3</th>\n",
       "      <td>CA$</td>\n",
       "      <td>46848</td>\n",
       "    </tr>\n",
       "    <tr>\n",
       "      <th>4</th>\n",
       "      <td>R</td>\n",
       "      <td>36424</td>\n",
       "    </tr>\n",
       "  </tbody>\n",
       "</table>\n",
       "</div>"
      ],
      "text/plain": [
       "  Currency   count\n",
       "0        $  741953\n",
       "1        £   87587\n",
       "2        €   59273\n",
       "3      CA$   46848\n",
       "4        R   36424"
      ]
     },
     "execution_count": 174,
     "metadata": {},
     "output_type": "execute_result"
    }
   ],
   "source": [
    "# top 5 currencies with most entries\n",
    "df['Currency'].value_counts().rename_axis('Currency')[:5].reset_index(name='count')"
   ]
  },
  {
   "cell_type": "code",
   "execution_count": 169,
   "id": "f7ad4de0",
   "metadata": {},
   "outputs": [
    {
     "name": "stdout",
     "output_type": "stream",
     "text": [
      "  Currency   count\n",
      "0        $  741953\n",
      "1        £   87587\n",
      "2        €   59273\n",
      "3      CA$   46848\n",
      "4        R   36424\n"
     ]
    }
   ],
   "source": [
    "# Replace the string 'nan' with real NaN\n",
    "df['Currency'] = df['Currency'].replace('nan', np.nan)\n",
    "\n",
    "# Now count top 5 currencies ignoring NaNs\n",
    "top_currencies = df['Currency'].value_counts(dropna=True).head(5).rename_axis('Currency').reset_index(name='count')\n",
    "\n",
    "print(top_currencies)"
   ]
  },
  {
   "cell_type": "code",
   "execution_count": 171,
   "id": "80d4875d",
   "metadata": {},
   "outputs": [],
   "source": [
    "# top 5 countries\n",
    "top_5_currency_data = df[df['Currency'].isin(['$', '£', '€', 'CA$', 'R'])] "
   ]
  },
  {
   "cell_type": "code",
   "execution_count": 172,
   "id": "22584858",
   "metadata": {},
   "outputs": [
    {
     "data": {
      "text/plain": [
       "1174300"
      ]
     },
     "execution_count": 172,
     "metadata": {},
     "output_type": "execute_result"
    }
   ],
   "source": [
    "len(df)"
   ]
  },
  {
   "cell_type": "code",
   "execution_count": 173,
   "id": "5430c613",
   "metadata": {},
   "outputs": [
    {
     "data": {
      "text/plain": [
       "972085"
      ]
     },
     "execution_count": 173,
     "metadata": {},
     "output_type": "execute_result"
    }
   ],
   "source": [
    "len(top_5_currency_data)"
   ]
  },
  {
   "cell_type": "markdown",
   "id": "8c319d96",
   "metadata": {},
   "source": [
    "2. For each of the top 5 currencies separately, remove outliers by considering\n",
    "the total spend, litres, cost per litre, gallons, etc. Choose values you\n",
    "believe are reasonable and provide your reasoning. As an example of\n",
    "something you would want to look out for, there are some SA users that\n",
    "have their currency set to dollars. This will show a user refuelling with\n",
    "several hundred dollars, but only putting in tens of litres, which is clearly\n",
    "wrong. [10]"
   ]
  },
  {
   "cell_type": "code",
   "execution_count": 175,
   "id": "2b7b45b1",
   "metadata": {},
   "outputs": [
    {
     "data": {
      "text/html": [
       "<div>\n",
       "<style scoped>\n",
       "    .dataframe tbody tr th:only-of-type {\n",
       "        vertical-align: middle;\n",
       "    }\n",
       "\n",
       "    .dataframe tbody tr th {\n",
       "        vertical-align: top;\n",
       "    }\n",
       "\n",
       "    .dataframe thead th {\n",
       "        text-align: right;\n",
       "    }\n",
       "</style>\n",
       "<table border=\"1\" class=\"dataframe\">\n",
       "  <thead>\n",
       "    <tr style=\"text-align: right;\">\n",
       "      <th></th>\n",
       "      <th>user_ID</th>\n",
       "      <th>date_fueled</th>\n",
       "      <th>date_captured</th>\n",
       "      <th>odometer</th>\n",
       "      <th>gallons</th>\n",
       "      <th>cost_per_gallon</th>\n",
       "      <th>float_cpg</th>\n",
       "      <th>total_spent</th>\n",
       "      <th>Currency</th>\n",
       "      <th>float_tot_spent</th>\n",
       "      <th>...</th>\n",
       "      <th>miles</th>\n",
       "      <th>user_url</th>\n",
       "      <th>car_make</th>\n",
       "      <th>car_model</th>\n",
       "      <th>car_year</th>\n",
       "      <th>litres_filled</th>\n",
       "      <th>km_driven</th>\n",
       "      <th>litres_per_100km</th>\n",
       "      <th>vehicle_age</th>\n",
       "      <th>float_cpl</th>\n",
       "    </tr>\n",
       "  </thead>\n",
       "  <tbody>\n",
       "    <tr>\n",
       "      <th>0</th>\n",
       "      <td>674857</td>\n",
       "      <td>2022-04-07</td>\n",
       "      <td>2022-04-07</td>\n",
       "      <td>73370.0</td>\n",
       "      <td>NaN</td>\n",
       "      <td>NaN</td>\n",
       "      <td>NaN</td>\n",
       "      <td>NaN</td>\n",
       "      <td>NaN</td>\n",
       "      <td>NaN</td>\n",
       "      <td>...</td>\n",
       "      <td>NaN</td>\n",
       "      <td>https://www.somewebsite.com/suzuki/swift/2015/...</td>\n",
       "      <td>suzuki</td>\n",
       "      <td>swift</td>\n",
       "      <td>2015.0</td>\n",
       "      <td>NaN</td>\n",
       "      <td>NaN</td>\n",
       "      <td>NaN</td>\n",
       "      <td>7.0</td>\n",
       "      <td>NaN</td>\n",
       "    </tr>\n",
       "    <tr>\n",
       "      <th>1</th>\n",
       "      <td>461150</td>\n",
       "      <td>2012-11-07</td>\n",
       "      <td>2016-08-30</td>\n",
       "      <td>11983.0</td>\n",
       "      <td>12.12</td>\n",
       "      <td>$5.599</td>\n",
       "      <td>5.599</td>\n",
       "      <td>$67.86</td>\n",
       "      <td>$</td>\n",
       "      <td>67.86</td>\n",
       "      <td>...</td>\n",
       "      <td>382.992</td>\n",
       "      <td>https://www.somewebsite.com/bmw/x3/2009/461150</td>\n",
       "      <td>bmw</td>\n",
       "      <td>x3</td>\n",
       "      <td>2009.0</td>\n",
       "      <td>45.87919082208</td>\n",
       "      <td>612.7872000000001</td>\n",
       "      <td>7.48696950949367</td>\n",
       "      <td>3.0</td>\n",
       "      <td>1.479099321153273</td>\n",
       "    </tr>\n",
       "    <tr>\n",
       "      <th>2</th>\n",
       "      <td>133501</td>\n",
       "      <td>2012-09-22</td>\n",
       "      <td>2012-09-28</td>\n",
       "      <td>98233.0</td>\n",
       "      <td>7.991</td>\n",
       "      <td>£5.45</td>\n",
       "      <td>5.45</td>\n",
       "      <td>£43.53</td>\n",
       "      <td>£</td>\n",
       "      <td>43.53</td>\n",
       "      <td>...</td>\n",
       "      <td>227.74349999999998</td>\n",
       "      <td>https://www.somewebsite.com/mercedes-benz/e300...</td>\n",
       "      <td>mercedes-benz</td>\n",
       "      <td>e300</td>\n",
       "      <td>1998.0</td>\n",
       "      <td>30.249225565944</td>\n",
       "      <td>364.3896</td>\n",
       "      <td>8.301341631578946</td>\n",
       "      <td>14.0</td>\n",
       "      <td>1.439737685351909</td>\n",
       "    </tr>\n",
       "    <tr>\n",
       "      <th>3</th>\n",
       "      <td>247233</td>\n",
       "      <td>2019-05-04</td>\n",
       "      <td>2019-05-04</td>\n",
       "      <td>163802.0</td>\n",
       "      <td>10.575</td>\n",
       "      <td>£5.11</td>\n",
       "      <td>5.11</td>\n",
       "      <td>£54.00</td>\n",
       "      <td>£</td>\n",
       "      <td>54.0</td>\n",
       "      <td>...</td>\n",
       "      <td>494.9099999999999</td>\n",
       "      <td>https://www.somewebsite.com/bmw/320d/2010/247233</td>\n",
       "      <td>bmw</td>\n",
       "      <td>320d</td>\n",
       "      <td>2010.0</td>\n",
       "      <td>40.0307296158</td>\n",
       "      <td>791.8559999999999</td>\n",
       "      <td>5.055304198717949</td>\n",
       "      <td>9.0</td>\n",
       "      <td>1.3499191875501386</td>\n",
       "    </tr>\n",
       "    <tr>\n",
       "      <th>4</th>\n",
       "      <td>1038865</td>\n",
       "      <td>2022-02-15</td>\n",
       "      <td>2022-02-15</td>\n",
       "      <td>NaN</td>\n",
       "      <td>11.651</td>\n",
       "      <td>$3.029</td>\n",
       "      <td>3.029</td>\n",
       "      <td>$35.29</td>\n",
       "      <td>$</td>\n",
       "      <td>35.29</td>\n",
       "      <td>...</td>\n",
       "      <td>244.4</td>\n",
       "      <td>https://www.somewebsite.com/honda/passport/201...</td>\n",
       "      <td>honda</td>\n",
       "      <td>passport</td>\n",
       "      <td>2019.0</td>\n",
       "      <td>44.103832695384</td>\n",
       "      <td>391.04</td>\n",
       "      <td>11.278598786667347</td>\n",
       "      <td>3.0</td>\n",
       "      <td>0.8001771465928316</td>\n",
       "    </tr>\n",
       "  </tbody>\n",
       "</table>\n",
       "<p>5 rows × 21 columns</p>\n",
       "</div>"
      ],
      "text/plain": [
       "   user_ID date_fueled date_captured  odometer  gallons cost_per_gallon  \\\n",
       "0   674857  2022-04-07    2022-04-07   73370.0      NaN             NaN   \n",
       "1   461150  2012-11-07    2016-08-30   11983.0    12.12          $5.599   \n",
       "2   133501  2012-09-22    2012-09-28   98233.0    7.991           £5.45   \n",
       "3   247233  2019-05-04    2019-05-04  163802.0   10.575           £5.11   \n",
       "4  1038865  2022-02-15    2022-02-15       NaN   11.651          $3.029   \n",
       "\n",
       "   float_cpg total_spent Currency  float_tot_spent  ...              miles  \\\n",
       "0        NaN         NaN      NaN              NaN  ...                NaN   \n",
       "1      5.599      $67.86        $            67.86  ...            382.992   \n",
       "2       5.45      £43.53        £            43.53  ... 227.74349999999998   \n",
       "3       5.11      £54.00        £             54.0  ...  494.9099999999999   \n",
       "4      3.029      $35.29        $            35.29  ...              244.4   \n",
       "\n",
       "                                            user_url       car_make car_model  \\\n",
       "0  https://www.somewebsite.com/suzuki/swift/2015/...         suzuki     swift   \n",
       "1     https://www.somewebsite.com/bmw/x3/2009/461150            bmw        x3   \n",
       "2  https://www.somewebsite.com/mercedes-benz/e300...  mercedes-benz      e300   \n",
       "3   https://www.somewebsite.com/bmw/320d/2010/247233            bmw      320d   \n",
       "4  https://www.somewebsite.com/honda/passport/201...          honda  passport   \n",
       "\n",
       "  car_year   litres_filled         km_driven   litres_per_100km  vehicle_age  \\\n",
       "0   2015.0             NaN               NaN                NaN          7.0   \n",
       "1   2009.0  45.87919082208 612.7872000000001   7.48696950949367          3.0   \n",
       "2   1998.0 30.249225565944          364.3896  8.301341631578946         14.0   \n",
       "3   2010.0   40.0307296158 791.8559999999999  5.055304198717949          9.0   \n",
       "4   2019.0 44.103832695384            391.04 11.278598786667347          3.0   \n",
       "\n",
       "           float_cpl  \n",
       "0                NaN  \n",
       "1  1.479099321153273  \n",
       "2  1.439737685351909  \n",
       "3 1.3499191875501386  \n",
       "4 0.8001771465928316  \n",
       "\n",
       "[5 rows x 21 columns]"
      ]
     },
     "execution_count": 175,
     "metadata": {},
     "output_type": "execute_result"
    }
   ],
   "source": [
    "df.head()"
   ]
  },
  {
   "cell_type": "markdown",
   "id": "4a90eaa1",
   "metadata": {},
   "source": [
    "Boxplot for outlier detection\n",
    "\n",
    "The boxplot captures the summary of the data effectively and efficiently with only a simple box and whiskers. The whiskers can be used to represent one standard deviation from the mean, or the top and bottom percentiles which is great for highlighting outliers. In this case an outlier is defined as a data point that is located outside the whiskers of the box plot"
   ]
  },
  {
   "cell_type": "markdown",
   "id": "d028f2ec",
   "metadata": {},
   "source": [
    "Before removal of outliers"
   ]
  },
  {
   "cell_type": "code",
   "execution_count": 176,
   "id": "cefd6662",
   "metadata": {},
   "outputs": [
    {
     "data": {
      "image/png": "[encoded data removed]",
      "text/plain": [
       "<Figure size 1200x600 with 1 Axes>"
      ]
     },
     "metadata": {},
     "output_type": "display_data"
    },
    {
     "data": {
      "image/png": "[encoded data removed]",
      "text/plain": [
       "<Figure size 1200x600 with 1 Axes>"
      ]
     },
     "metadata": {},
     "output_type": "display_data"
    },
    {
     "data": {
      "image/png": "[encoded data removed]",
      "text/plain": [
       "<Figure size 1200x600 with 1 Axes>"
      ]
     },
     "metadata": {},
     "output_type": "display_data"
    },
    {
     "data": {
      "image/png": "[encoded data removed]",
      "text/plain": [
       "<Figure size 1200x600 with 1 Axes>"
      ]
     },
     "metadata": {},
     "output_type": "display_data"
    },
    {
     "data": {
      "image/png": "[encoded data removed]",
      "text/plain": [
       "<Figure size 1200x600 with 1 Axes>"
      ]
     },
     "metadata": {},
     "output_type": "display_data"
    }
   ],
   "source": [
    "columns = ['litres_filled', 'float_tot_spent', 'float_cpl', 'km_driven', 'litres_per_100km']\n",
    "for value in columns:\n",
    "    plt.figure()             \n",
    "    sns.boxplot(x=\"Currency\", y=value, data=top_5_currency_data)\n",
    "    plt.title(value)"
   ]
  },
  {
   "cell_type": "markdown",
   "id": "7033cb15",
   "metadata": {},
   "source": [
    "IQR (Inter Quartile Range)\n",
    "\n",
    "IQR is commonly used and most trusted to find outliers in statistics"
   ]
  },
  {
   "cell_type": "markdown",
   "id": "710b3a75",
   "metadata": {},
   "source": [
    "For Dollars - $"
   ]
  },
  {
   "cell_type": "code",
   "execution_count": 178,
   "id": "8a174009",
   "metadata": {},
   "outputs": [
    {
     "data": {
      "text/plain": [
       "741953"
      ]
     },
     "execution_count": 178,
     "metadata": {},
     "output_type": "execute_result"
    }
   ],
   "source": [
    "df1 = top_5_currency_data[top_5_currency_data['Currency'].isin(['$'])]\n",
    "len(df1)"
   ]
  },
  {
   "cell_type": "code",
   "execution_count": 179,
   "id": "fbcff8c0",
   "metadata": {},
   "outputs": [
    {
     "name": "stderr",
     "output_type": "stream",
     "text": [
      "/home/tarunaidoo/.local/lib/python3.10/site-packages/pandas/core/nanops.py:1016: RuntimeWarning: invalid value encountered in subtract\n",
      "  sqr = _ensure_numeric((avg - values) ** 2)\n",
      "/home/tarunaidoo/.local/lib/python3.10/site-packages/pandas/core/nanops.py:1016: RuntimeWarning: invalid value encountered in subtract\n",
      "  sqr = _ensure_numeric((avg - values) ** 2)\n"
     ]
    }
   ],
   "source": [
    "for column in df1[columns]:\n",
    "    df1_Q1 = df1[column].describe()['25%']\n",
    " \n",
    "    df1_Q3 = df1[column].describe()['75%']\n",
    "    df1_IQR = df1_Q3 - df1_Q1\n",
    "\n",
    "    # Any number greater than this is a suspected outlier.\n",
    "    df1_ub = (df1_Q3 +1.5*df1_IQR)\n",
    "\n",
    "    # Any number less than this is a suspected outlier.\n",
    "    df1_lb = (df1_Q1 -1.5*df1_IQR)\n",
    "\n",
    "    # remove outliers by taking values within the bounds\n",
    "    df1 = df1[(df1[column] <= df1_ub) & (df1[column] >= df1_lb)]"
   ]
  },
  {
   "cell_type": "code",
   "execution_count": 180,
   "id": "d5d18a94",
   "metadata": {},
   "outputs": [
    {
     "data": {
      "text/html": [
       "<div>\n",
       "<style scoped>\n",
       "    .dataframe tbody tr th:only-of-type {\n",
       "        vertical-align: middle;\n",
       "    }\n",
       "\n",
       "    .dataframe tbody tr th {\n",
       "        vertical-align: top;\n",
       "    }\n",
       "\n",
       "    .dataframe thead th {\n",
       "        text-align: right;\n",
       "    }\n",
       "</style>\n",
       "<table border=\"1\" class=\"dataframe\">\n",
       "  <thead>\n",
       "    <tr style=\"text-align: right;\">\n",
       "      <th></th>\n",
       "      <th>litres_filled</th>\n",
       "      <th>float_tot_spent</th>\n",
       "      <th>float_cpl</th>\n",
       "      <th>km_driven</th>\n",
       "      <th>litres_per_100km</th>\n",
       "    </tr>\n",
       "  </thead>\n",
       "  <tbody>\n",
       "    <tr>\n",
       "      <th>count</th>\n",
       "      <td>552309.0</td>\n",
       "      <td>552309.0</td>\n",
       "      <td>552309.0</td>\n",
       "      <td>552309.0</td>\n",
       "      <td>552309.0</td>\n",
       "    </tr>\n",
       "    <tr>\n",
       "      <th>mean</th>\n",
       "      <td>47.36771443219849</td>\n",
       "      <td>40.62532194840207</td>\n",
       "      <td>0.8634975190724042</td>\n",
       "      <td>439.4000743835787</td>\n",
       "      <td>11.354905291410047</td>\n",
       "    </tr>\n",
       "    <tr>\n",
       "      <th>std</th>\n",
       "      <td>14.744710462195219</td>\n",
       "      <td>15.203271745994414</td>\n",
       "      <td>0.2043151587777024</td>\n",
       "      <td>138.7343754183753</td>\n",
       "      <td>3.5975601619692505</td>\n",
       "    </tr>\n",
       "    <tr>\n",
       "      <th>min</th>\n",
       "      <td>2.751994366968</td>\n",
       "      <td>1.54</td>\n",
       "      <td>0.28239992397086067</td>\n",
       "      <td>16.0</td>\n",
       "      <td>0.5243173960366329</td>\n",
       "    </tr>\n",
       "    <tr>\n",
       "      <th>25%</th>\n",
       "      <td>37.17274371888</td>\n",
       "      <td>29.66</td>\n",
       "      <td>0.7262089719325501</td>\n",
       "      <td>347.5489600000001</td>\n",
       "      <td>8.82791927238806</td>\n",
       "    </tr>\n",
       "    <tr>\n",
       "      <th>50%</th>\n",
       "      <td>47.094308004744</td>\n",
       "      <td>39.24</td>\n",
       "      <td>0.8450863954937168</td>\n",
       "      <td>437.12</td>\n",
       "      <td>10.803115821917809</td>\n",
       "    </tr>\n",
       "    <tr>\n",
       "      <th>75%</th>\n",
       "      <td>56.978018172767996</td>\n",
       "      <td>50.09</td>\n",
       "      <td>0.9932869168666381</td>\n",
       "      <td>526.3104000000001</td>\n",
       "      <td>13.366567033898304</td>\n",
       "    </tr>\n",
       "    <tr>\n",
       "      <th>max</th>\n",
       "      <td>91.107290817312</td>\n",
       "      <td>88.72</td>\n",
       "      <td>1.4658907185353658</td>\n",
       "      <td>850.22784</td>\n",
       "      <td>24.211973611394363</td>\n",
       "    </tr>\n",
       "  </tbody>\n",
       "</table>\n",
       "</div>"
      ],
      "text/plain": [
       "           litres_filled    float_tot_spent           float_cpl  \\\n",
       "count           552309.0           552309.0            552309.0   \n",
       "mean   47.36771443219849  40.62532194840207  0.8634975190724042   \n",
       "std   14.744710462195219 15.203271745994414  0.2043151587777024   \n",
       "min       2.751994366968               1.54 0.28239992397086067   \n",
       "25%       37.17274371888              29.66  0.7262089719325501   \n",
       "50%      47.094308004744              39.24  0.8450863954937168   \n",
       "75%   56.978018172767996              50.09  0.9932869168666381   \n",
       "max      91.107290817312              88.72  1.4658907185353658   \n",
       "\n",
       "              km_driven   litres_per_100km  \n",
       "count          552309.0           552309.0  \n",
       "mean  439.4000743835787 11.354905291410047  \n",
       "std   138.7343754183753 3.5975601619692505  \n",
       "min                16.0 0.5243173960366329  \n",
       "25%   347.5489600000001   8.82791927238806  \n",
       "50%              437.12 10.803115821917809  \n",
       "75%   526.3104000000001 13.366567033898304  \n",
       "max           850.22784 24.211973611394363  "
      ]
     },
     "execution_count": 180,
     "metadata": {},
     "output_type": "execute_result"
    }
   ],
   "source": [
    "df1[columns].describe()"
   ]
  },
  {
   "cell_type": "code",
   "execution_count": 181,
   "id": "42e3b003",
   "metadata": {},
   "outputs": [
    {
     "data": {
      "text/plain": [
       "552309"
      ]
     },
     "execution_count": 181,
     "metadata": {},
     "output_type": "execute_result"
    }
   ],
   "source": [
    "len(df1)"
   ]
  },
  {
   "cell_type": "markdown",
   "id": "6a94887c",
   "metadata": {},
   "source": [
    "For Pounds £"
   ]
  },
  {
   "cell_type": "code",
   "execution_count": 182,
   "id": "8569fba3",
   "metadata": {},
   "outputs": [
    {
     "data": {
      "text/plain": [
       "87587"
      ]
     },
     "execution_count": 182,
     "metadata": {},
     "output_type": "execute_result"
    }
   ],
   "source": [
    "df2 = top_5_currency_data[top_5_currency_data['Currency'].isin(['£'])] \n",
    "len(df2)"
   ]
  },
  {
   "cell_type": "code",
   "execution_count": 183,
   "id": "7eba318d",
   "metadata": {},
   "outputs": [
    {
     "name": "stderr",
     "output_type": "stream",
     "text": [
      "/home/tarunaidoo/.local/lib/python3.10/site-packages/pandas/core/nanops.py:1016: RuntimeWarning: invalid value encountered in subtract\n",
      "  sqr = _ensure_numeric((avg - values) ** 2)\n",
      "/home/tarunaidoo/.local/lib/python3.10/site-packages/pandas/core/nanops.py:1016: RuntimeWarning: invalid value encountered in subtract\n",
      "  sqr = _ensure_numeric((avg - values) ** 2)\n"
     ]
    },
    {
     "data": {
      "text/html": [
       "<div>\n",
       "<style scoped>\n",
       "    .dataframe tbody tr th:only-of-type {\n",
       "        vertical-align: middle;\n",
       "    }\n",
       "\n",
       "    .dataframe tbody tr th {\n",
       "        vertical-align: top;\n",
       "    }\n",
       "\n",
       "    .dataframe thead th {\n",
       "        text-align: right;\n",
       "    }\n",
       "</style>\n",
       "<table border=\"1\" class=\"dataframe\">\n",
       "  <thead>\n",
       "    <tr style=\"text-align: right;\">\n",
       "      <th></th>\n",
       "      <th>litres_filled</th>\n",
       "      <th>float_tot_spent</th>\n",
       "      <th>float_cpl</th>\n",
       "      <th>km_driven</th>\n",
       "      <th>litres_per_100km</th>\n",
       "    </tr>\n",
       "  </thead>\n",
       "  <tbody>\n",
       "    <tr>\n",
       "      <th>count</th>\n",
       "      <td>70409.0</td>\n",
       "      <td>70409.0</td>\n",
       "      <td>70409.0</td>\n",
       "      <td>70409.0</td>\n",
       "      <td>70409.0</td>\n",
       "    </tr>\n",
       "    <tr>\n",
       "      <th>mean</th>\n",
       "      <td>43.191129747789354</td>\n",
       "      <td>54.68891689982814</td>\n",
       "      <td>1.2667528473615985</td>\n",
       "      <td>574.9539471510744</td>\n",
       "      <td>7.960410890334079</td>\n",
       "    </tr>\n",
       "    <tr>\n",
       "      <th>std</th>\n",
       "      <td>14.212582553238526</td>\n",
       "      <td>18.846143117721166</td>\n",
       "      <td>0.13016726961201275</td>\n",
       "      <td>210.99932130194622</td>\n",
       "      <td>2.4638825101668824</td>\n",
       "    </tr>\n",
       "    <tr>\n",
       "      <th>min</th>\n",
       "      <td>0.098420706384</td>\n",
       "      <td>0.13</td>\n",
       "      <td>0.8638426112111454</td>\n",
       "      <td>1.6</td>\n",
       "      <td>0.06600101018240342</td>\n",
       "    </tr>\n",
       "    <tr>\n",
       "      <th>25%</th>\n",
       "      <td>32.959580403288</td>\n",
       "      <td>40.8</td>\n",
       "      <td>1.167640471423016</td>\n",
       "      <td>424.0</td>\n",
       "      <td>6.177238550913837</td>\n",
       "    </tr>\n",
       "    <tr>\n",
       "      <th>50%</th>\n",
       "      <td>43.36189198572</td>\n",
       "      <td>54.19</td>\n",
       "      <td>1.2680258513191123</td>\n",
       "      <td>555.2012800000001</td>\n",
       "      <td>7.439881650943395</td>\n",
       "    </tr>\n",
       "    <tr>\n",
       "      <th>75%</th>\n",
       "      <td>53.10932732952</td>\n",
       "      <td>67.62</td>\n",
       "      <td>1.357844349120883</td>\n",
       "      <td>718.6508800000001</td>\n",
       "      <td>9.301885323260867</td>\n",
       "    </tr>\n",
       "    <tr>\n",
       "      <th>max</th>\n",
       "      <td>85.78878726079199</td>\n",
       "      <td>111.59</td>\n",
       "      <td>1.6537170477620091</td>\n",
       "      <td>1197.42</td>\n",
       "      <td>16.881371160789474</td>\n",
       "    </tr>\n",
       "  </tbody>\n",
       "</table>\n",
       "</div>"
      ],
      "text/plain": [
       "           litres_filled    float_tot_spent           float_cpl  \\\n",
       "count            70409.0            70409.0             70409.0   \n",
       "mean  43.191129747789354  54.68891689982814  1.2667528473615985   \n",
       "std   14.212582553238526 18.846143117721166 0.13016726961201275   \n",
       "min       0.098420706384               0.13  0.8638426112111454   \n",
       "25%      32.959580403288               40.8   1.167640471423016   \n",
       "50%       43.36189198572              54.19  1.2680258513191123   \n",
       "75%       53.10932732952              67.62   1.357844349120883   \n",
       "max    85.78878726079199             111.59  1.6537170477620091   \n",
       "\n",
       "               km_driven    litres_per_100km  \n",
       "count            70409.0             70409.0  \n",
       "mean   574.9539471510744   7.960410890334079  \n",
       "std   210.99932130194622  2.4638825101668824  \n",
       "min                  1.6 0.06600101018240342  \n",
       "25%                424.0   6.177238550913837  \n",
       "50%    555.2012800000001   7.439881650943395  \n",
       "75%    718.6508800000001   9.301885323260867  \n",
       "max              1197.42  16.881371160789474  "
      ]
     },
     "execution_count": 183,
     "metadata": {},
     "output_type": "execute_result"
    }
   ],
   "source": [
    "for column in df2[columns]:\n",
    "    df2_Q1 = df2[column].describe()['25%']\n",
    " \n",
    "    df2_Q3 = df2[column].describe()['75%']\n",
    "    df2_IQR = df2_Q3 - df2_Q1\n",
    "\n",
    "    # Any number greater than this is a suspected outlier.\n",
    "    df2_ub = (df2_Q3 +1.5*df2_IQR)\n",
    "\n",
    "    # Any number less than this is a suspected outlier.\n",
    "    df2_lb = (df2_Q1 -1.5*df2_IQR)\n",
    "\n",
    "    # remove outliers by taking values within the bounds\n",
    "    df2 = df2[(df2[column] <= df2_ub) & (df2[column] >= df2_lb)]\n",
    "\n",
    "df2[columns].describe()"
   ]
  },
  {
   "cell_type": "markdown",
   "id": "ce24e3e6",
   "metadata": {},
   "source": [
    "For Euro - €"
   ]
  },
  {
   "cell_type": "code",
   "execution_count": 185,
   "id": "fc9fe6df",
   "metadata": {},
   "outputs": [
    {
     "data": {
      "text/plain": [
       "59273"
      ]
     },
     "execution_count": 185,
     "metadata": {},
     "output_type": "execute_result"
    }
   ],
   "source": [
    "df3 = top_5_currency_data[top_5_currency_data['Currency'].isin(['€'])] \n",
    "len(df3)"
   ]
  },
  {
   "cell_type": "code",
   "execution_count": 189,
   "id": "94d4718f",
   "metadata": {},
   "outputs": [
    {
     "data": {
      "text/html": [
       "<div>\n",
       "<style scoped>\n",
       "    .dataframe tbody tr th:only-of-type {\n",
       "        vertical-align: middle;\n",
       "    }\n",
       "\n",
       "    .dataframe tbody tr th {\n",
       "        vertical-align: top;\n",
       "    }\n",
       "\n",
       "    .dataframe thead th {\n",
       "        text-align: right;\n",
       "    }\n",
       "</style>\n",
       "<table border=\"1\" class=\"dataframe\">\n",
       "  <thead>\n",
       "    <tr style=\"text-align: right;\">\n",
       "      <th></th>\n",
       "      <th>litres_filled</th>\n",
       "      <th>float_tot_spent</th>\n",
       "      <th>float_cpl</th>\n",
       "      <th>km_driven</th>\n",
       "      <th>litres_per_100km</th>\n",
       "    </tr>\n",
       "  </thead>\n",
       "  <tbody>\n",
       "    <tr>\n",
       "      <th>count</th>\n",
       "      <td>39781.0</td>\n",
       "      <td>39781.0</td>\n",
       "      <td>39781.0</td>\n",
       "      <td>39781.0</td>\n",
       "      <td>39781.0</td>\n",
       "    </tr>\n",
       "    <tr>\n",
       "      <th>mean</th>\n",
       "      <td>41.94128901362312</td>\n",
       "      <td>57.618255448580975</td>\n",
       "      <td>1.386213177605674</td>\n",
       "      <td>601.0210397526457</td>\n",
       "      <td>7.219741500404939</td>\n",
       "    </tr>\n",
       "    <tr>\n",
       "      <th>std</th>\n",
       "      <td>13.436826719994409</td>\n",
       "      <td>18.989211357428122</td>\n",
       "      <td>0.2128929459825429</td>\n",
       "      <td>206.02177626497306</td>\n",
       "      <td>1.7078967968143088</td>\n",
       "    </tr>\n",
       "    <tr>\n",
       "      <th>min</th>\n",
       "      <td>5.496417910368</td>\n",
       "      <td>6.5</td>\n",
       "      <td>0.8057247596923527</td>\n",
       "      <td>62.726400000000005</td>\n",
       "      <td>2.503579222222222</td>\n",
       "    </tr>\n",
       "    <tr>\n",
       "      <th>25%</th>\n",
       "      <td>32.978507462208</td>\n",
       "      <td>45.02</td>\n",
       "      <td>1.2389669255597162</td>\n",
       "      <td>458.18512000000004</td>\n",
       "      <td>5.9744504166666665</td>\n",
       "    </tr>\n",
       "    <tr>\n",
       "      <th>50%</th>\n",
       "      <td>42.135418567704</td>\n",
       "      <td>57.61</td>\n",
       "      <td>1.3789781133095347</td>\n",
       "      <td>592.076</td>\n",
       "      <td>6.986498259060402</td>\n",
       "    </tr>\n",
       "    <tr>\n",
       "      <th>75%</th>\n",
       "      <td>51.341540026392</td>\n",
       "      <td>70.69</td>\n",
       "      <td>1.5295561831536795</td>\n",
       "      <td>741.4046400000001</td>\n",
       "      <td>8.301341631578946</td>\n",
       "    </tr>\n",
       "    <tr>\n",
       "      <th>max</th>\n",
       "      <td>78.97126063780799</td>\n",
       "      <td>109.23</td>\n",
       "      <td>1.9654400695446244</td>\n",
       "      <td>1166.24</td>\n",
       "      <td>11.78949663172546</td>\n",
       "    </tr>\n",
       "  </tbody>\n",
       "</table>\n",
       "</div>"
      ],
      "text/plain": [
       "           litres_filled    float_tot_spent          float_cpl  \\\n",
       "count            39781.0            39781.0            39781.0   \n",
       "mean   41.94128901362312 57.618255448580975  1.386213177605674   \n",
       "std   13.436826719994409 18.989211357428122 0.2128929459825429   \n",
       "min       5.496417910368                6.5 0.8057247596923527   \n",
       "25%      32.978507462208              45.02 1.2389669255597162   \n",
       "50%      42.135418567704              57.61 1.3789781133095347   \n",
       "75%      51.341540026392              70.69 1.5295561831536795   \n",
       "max    78.97126063780799             109.23 1.9654400695446244   \n",
       "\n",
       "               km_driven   litres_per_100km  \n",
       "count            39781.0            39781.0  \n",
       "mean   601.0210397526457  7.219741500404939  \n",
       "std   206.02177626497306 1.7078967968143088  \n",
       "min   62.726400000000005  2.503579222222222  \n",
       "25%   458.18512000000004 5.9744504166666665  \n",
       "50%              592.076  6.986498259060402  \n",
       "75%    741.4046400000001  8.301341631578946  \n",
       "max              1166.24  11.78949663172546  "
      ]
     },
     "execution_count": 189,
     "metadata": {},
     "output_type": "execute_result"
    }
   ],
   "source": [
    "for column in df3[columns]:\n",
    "    df3_Q1 = df3[column].describe()['25%']\n",
    " \n",
    "    df3_Q3 = df3[column].describe()['75%']\n",
    "    df3_IQR = df3_Q3 - df3_Q1\n",
    "\n",
    "    # Any number greater than this is a suspected outlier.\n",
    "    df3_ub = (df3_Q3 +1.5*df3_IQR)\n",
    "\n",
    "    # Any number less than this is a suspected outlier.\n",
    "    df3_lb = (df3_Q1 -1.5*df3_IQR)\n",
    "\n",
    "    # remove outliers by taking values within the bounds\n",
    "    df3 = df3[(df3[column] <= df3_ub) & (df3[column] >= df3_lb)]\n",
    "\n",
    "df3[columns].describe()\n",
    "# len(df3)"
   ]
  },
  {
   "cell_type": "markdown",
   "id": "11b6fc2f",
   "metadata": {},
   "source": [
    "For CA"
   ]
  },
  {
   "cell_type": "code",
   "execution_count": 192,
   "id": "0ec99e1f",
   "metadata": {},
   "outputs": [
    {
     "data": {
      "text/plain": [
       "46848"
      ]
     },
     "execution_count": 192,
     "metadata": {},
     "output_type": "execute_result"
    }
   ],
   "source": [
    "df4 = top_5_currency_data[top_5_currency_data['Currency'].isin(['CA$'])] \n",
    "len(df4)"
   ]
  },
  {
   "cell_type": "code",
   "execution_count": 193,
   "id": "3214a7b4",
   "metadata": {},
   "outputs": [
    {
     "name": "stderr",
     "output_type": "stream",
     "text": [
      "/home/tarunaidoo/.local/lib/python3.10/site-packages/pandas/core/nanops.py:1016: RuntimeWarning: invalid value encountered in subtract\n",
      "  sqr = _ensure_numeric((avg - values) ** 2)\n",
      "/home/tarunaidoo/.local/lib/python3.10/site-packages/pandas/core/nanops.py:1016: RuntimeWarning: invalid value encountered in subtract\n",
      "  sqr = _ensure_numeric((avg - values) ** 2)\n"
     ]
    },
    {
     "data": {
      "text/html": [
       "<div>\n",
       "<style scoped>\n",
       "    .dataframe tbody tr th:only-of-type {\n",
       "        vertical-align: middle;\n",
       "    }\n",
       "\n",
       "    .dataframe tbody tr th {\n",
       "        vertical-align: top;\n",
       "    }\n",
       "\n",
       "    .dataframe thead th {\n",
       "        text-align: right;\n",
       "    }\n",
       "</style>\n",
       "<table border=\"1\" class=\"dataframe\">\n",
       "  <thead>\n",
       "    <tr style=\"text-align: right;\">\n",
       "      <th></th>\n",
       "      <th>litres_filled</th>\n",
       "      <th>float_tot_spent</th>\n",
       "      <th>float_cpl</th>\n",
       "      <th>km_driven</th>\n",
       "      <th>litres_per_100km</th>\n",
       "    </tr>\n",
       "  </thead>\n",
       "  <tbody>\n",
       "    <tr>\n",
       "      <th>count</th>\n",
       "      <td>37846.0</td>\n",
       "      <td>37846.0</td>\n",
       "      <td>37846.0</td>\n",
       "      <td>37846.0</td>\n",
       "      <td>37846.0</td>\n",
       "    </tr>\n",
       "    <tr>\n",
       "      <th>mean</th>\n",
       "      <td>44.0330564173655</td>\n",
       "      <td>57.39868968979549</td>\n",
       "      <td>1.3090742207188526</td>\n",
       "      <td>423.02273671193785</td>\n",
       "      <td>10.935978851399524</td>\n",
       "    </tr>\n",
       "    <tr>\n",
       "      <th>std</th>\n",
       "      <td>13.69295841667708</td>\n",
       "      <td>19.8702651390208</td>\n",
       "      <td>0.23130306886437732</td>\n",
       "      <td>137.12281101193625</td>\n",
       "      <td>3.2783349447502106</td>\n",
       "    </tr>\n",
       "    <tr>\n",
       "      <th>min</th>\n",
       "      <td>3.573428724096</td>\n",
       "      <td>4.8</td>\n",
       "      <td>0.6683552924661155</td>\n",
       "      <td>26.758080000000003</td>\n",
       "      <td>0.9457562543568726</td>\n",
       "    </tr>\n",
       "    <tr>\n",
       "      <th>25%</th>\n",
       "      <td>34.738723941768</td>\n",
       "      <td>43.1125</td>\n",
       "      <td>1.1491484277579456</td>\n",
       "      <td>331.22880000000004</td>\n",
       "      <td>8.55073832717888</td>\n",
       "    </tr>\n",
       "    <tr>\n",
       "      <th>50%</th>\n",
       "      <td>43.869137164776</td>\n",
       "      <td>56.25</td>\n",
       "      <td>1.3102933796964162</td>\n",
       "      <td>420.04584</td>\n",
       "      <td>10.515032733333332</td>\n",
       "    </tr>\n",
       "    <tr>\n",
       "      <th>75%</th>\n",
       "      <td>53.29859791872</td>\n",
       "      <td>70.62</td>\n",
       "      <td>1.4529462879698163</td>\n",
       "      <td>509.72212</td>\n",
       "      <td>12.866210263703653</td>\n",
       "    </tr>\n",
       "    <tr>\n",
       "      <th>max</th>\n",
       "      <td>84.83107807944</td>\n",
       "      <td>115.22</td>\n",
       "      <td>1.9284559822144833</td>\n",
       "      <td>823.68</td>\n",
       "      <td>22.11105014018692</td>\n",
       "    </tr>\n",
       "  </tbody>\n",
       "</table>\n",
       "</div>"
      ],
      "text/plain": [
       "          litres_filled   float_tot_spent           float_cpl  \\\n",
       "count           37846.0           37846.0             37846.0   \n",
       "mean   44.0330564173655 57.39868968979549  1.3090742207188526   \n",
       "std   13.69295841667708  19.8702651390208 0.23130306886437732   \n",
       "min      3.573428724096               4.8  0.6683552924661155   \n",
       "25%     34.738723941768           43.1125  1.1491484277579456   \n",
       "50%     43.869137164776             56.25  1.3102933796964162   \n",
       "75%      53.29859791872             70.62  1.4529462879698163   \n",
       "max      84.83107807944            115.22  1.9284559822144833   \n",
       "\n",
       "               km_driven   litres_per_100km  \n",
       "count            37846.0            37846.0  \n",
       "mean  423.02273671193785 10.935978851399524  \n",
       "std   137.12281101193625 3.2783349447502106  \n",
       "min   26.758080000000003 0.9457562543568726  \n",
       "25%   331.22880000000004   8.55073832717888  \n",
       "50%            420.04584 10.515032733333332  \n",
       "75%            509.72212 12.866210263703653  \n",
       "max               823.68  22.11105014018692  "
      ]
     },
     "execution_count": 193,
     "metadata": {},
     "output_type": "execute_result"
    }
   ],
   "source": [
    "for column in df4[columns]:\n",
    "    df4_Q1 = df4[column].describe()['25%']\n",
    " \n",
    "    df4_Q3 = df4[column].describe()['75%']\n",
    "    df4_IQR = df4_Q3 - df4_Q1\n",
    "\n",
    "    # Any number greater than this is a suspected outlier.\n",
    "    df4_ub = (df4_Q3 +1.5*df4_IQR)\n",
    "\n",
    "    # Any number less than this is a suspected outlier.\n",
    "    df4_lb = (df4_Q1 -1.5*df4_IQR)\n",
    "\n",
    "    # remove outliers by taking values within the bounds\n",
    "    df4 = df4[(df4[column] <= df4_ub) & (df4[column] >= df4_lb)]\n",
    "\n",
    "df4[columns].describe()"
   ]
  },
  {
   "cell_type": "markdown",
   "id": "00f64644",
   "metadata": {},
   "source": [
    "For Rands - R"
   ]
  },
  {
   "cell_type": "code",
   "execution_count": 195,
   "id": "10c6834a",
   "metadata": {},
   "outputs": [
    {
     "data": {
      "text/plain": [
       "36424"
      ]
     },
     "execution_count": 195,
     "metadata": {},
     "output_type": "execute_result"
    }
   ],
   "source": [
    "df5 = top_5_currency_data[top_5_currency_data['Currency'].isin(['R'])] \n",
    "len(df5)"
   ]
  },
  {
   "cell_type": "code",
   "execution_count": 196,
   "id": "683360a4",
   "metadata": {},
   "outputs": [
    {
     "name": "stderr",
     "output_type": "stream",
     "text": [
      "/home/tarunaidoo/.local/lib/python3.10/site-packages/pandas/core/nanops.py:1016: RuntimeWarning: invalid value encountered in subtract\n",
      "  sqr = _ensure_numeric((avg - values) ** 2)\n",
      "/home/tarunaidoo/.local/lib/python3.10/site-packages/pandas/core/nanops.py:1016: RuntimeWarning: invalid value encountered in subtract\n",
      "  sqr = _ensure_numeric((avg - values) ** 2)\n"
     ]
    },
    {
     "data": {
      "text/html": [
       "<div>\n",
       "<style scoped>\n",
       "    .dataframe tbody tr th:only-of-type {\n",
       "        vertical-align: middle;\n",
       "    }\n",
       "\n",
       "    .dataframe tbody tr th {\n",
       "        vertical-align: top;\n",
       "    }\n",
       "\n",
       "    .dataframe thead th {\n",
       "        text-align: right;\n",
       "    }\n",
       "</style>\n",
       "<table border=\"1\" class=\"dataframe\">\n",
       "  <thead>\n",
       "    <tr style=\"text-align: right;\">\n",
       "      <th></th>\n",
       "      <th>litres_filled</th>\n",
       "      <th>float_tot_spent</th>\n",
       "      <th>float_cpl</th>\n",
       "      <th>km_driven</th>\n",
       "      <th>litres_per_100km</th>\n",
       "    </tr>\n",
       "  </thead>\n",
       "  <tbody>\n",
       "    <tr>\n",
       "      <th>count</th>\n",
       "      <td>27758.0</td>\n",
       "      <td>27758.0</td>\n",
       "      <td>27758.0</td>\n",
       "      <td>27758.0</td>\n",
       "      <td>27758.0</td>\n",
       "    </tr>\n",
       "    <tr>\n",
       "      <th>mean</th>\n",
       "      <td>49.458911337496644</td>\n",
       "      <td>519.1328154045681</td>\n",
       "      <td>14.842777709877543</td>\n",
       "      <td>517.5495200576411</td>\n",
       "      <td>10.013229064304351</td>\n",
       "    </tr>\n",
       "    <tr>\n",
       "      <th>std</th>\n",
       "      <td>17.534207907771137</td>\n",
       "      <td>301.5040572399834</td>\n",
       "      <td>2.685194495309373</td>\n",
       "      <td>178.15433512579548</td>\n",
       "      <td>3.219721483328888</td>\n",
       "    </tr>\n",
       "    <tr>\n",
       "      <th>min</th>\n",
       "      <td>0.060566588544</td>\n",
       "      <td>0.79</td>\n",
       "      <td>7.299073806655641</td>\n",
       "      <td>0.96</td>\n",
       "      <td>0.17737596562293276</td>\n",
       "    </tr>\n",
       "    <tr>\n",
       "      <th>25%</th>\n",
       "      <td>36.941833600056</td>\n",
       "      <td>349.03999999999996</td>\n",
       "      <td>12.84932862670034</td>\n",
       "      <td>397.6386</td>\n",
       "      <td>7.771101191702154</td>\n",
       "    </tr>\n",
       "    <tr>\n",
       "      <th>50%</th>\n",
       "      <td>48.987013896743996</td>\n",
       "      <td>576.565</td>\n",
       "      <td>14.471345028179371</td>\n",
       "      <td>513.3688</td>\n",
       "      <td>9.539848245967741</td>\n",
       "    </tr>\n",
       "    <tr>\n",
       "      <th>75%</th>\n",
       "      <td>60.899704780992</td>\n",
       "      <td>750.5174999999999</td>\n",
       "      <td>16.4790526261013</td>\n",
       "      <td>632.9946000000001</td>\n",
       "      <td>11.597462573529413</td>\n",
       "    </tr>\n",
       "    <tr>\n",
       "      <th>max</th>\n",
       "      <td>102.21368899156799</td>\n",
       "      <td>999.99</td>\n",
       "      <td>21.96854787410362</td>\n",
       "      <td>1093.928</td>\n",
       "      <td>24.0445302565723</td>\n",
       "    </tr>\n",
       "  </tbody>\n",
       "</table>\n",
       "</div>"
      ],
      "text/plain": [
       "           litres_filled    float_tot_spent          float_cpl  \\\n",
       "count            27758.0            27758.0            27758.0   \n",
       "mean  49.458911337496644  519.1328154045681 14.842777709877543   \n",
       "std   17.534207907771137  301.5040572399834  2.685194495309373   \n",
       "min       0.060566588544               0.79  7.299073806655641   \n",
       "25%      36.941833600056 349.03999999999996  12.84932862670034   \n",
       "50%   48.987013896743996            576.565 14.471345028179371   \n",
       "75%      60.899704780992  750.5174999999999   16.4790526261013   \n",
       "max   102.21368899156799             999.99  21.96854787410362   \n",
       "\n",
       "               km_driven    litres_per_100km  \n",
       "count            27758.0             27758.0  \n",
       "mean   517.5495200576411  10.013229064304351  \n",
       "std   178.15433512579548   3.219721483328888  \n",
       "min                 0.96 0.17737596562293276  \n",
       "25%             397.6386   7.771101191702154  \n",
       "50%             513.3688   9.539848245967741  \n",
       "75%    632.9946000000001  11.597462573529413  \n",
       "max             1093.928    24.0445302565723  "
      ]
     },
     "execution_count": 196,
     "metadata": {},
     "output_type": "execute_result"
    }
   ],
   "source": [
    "for column in df5[columns]:\n",
    "    df5_Q1 = df5[column].describe()['25%']\n",
    " \n",
    "    df5_Q3 = df5[column].describe()['75%']\n",
    "    df5_IQR = df5_Q3 - df5_Q1\n",
    "\n",
    "    # Any number greater than this is a suspected outlier.\n",
    "    df5_ub = (df5_Q3 +1.5*df5_IQR)\n",
    "\n",
    "    # Any number less than this is a suspected outlier.\n",
    "    df5_lb = (df5_Q1 -1.5*df5_IQR)\n",
    "\n",
    "    # remove outliers by taking values within the bounds\n",
    "    df5 = df5[(df5[column] <= df5_ub) & (df5[column] >= df5_lb)]\n",
    "    \n",
    "df5[columns].describe()"
   ]
  },
  {
   "cell_type": "markdown",
   "id": "8b4b0814",
   "metadata": {},
   "source": [
    "After removing outliers"
   ]
  },
  {
   "cell_type": "code",
   "execution_count": 198,
   "id": "d2255473",
   "metadata": {},
   "outputs": [
    {
     "data": {
      "image/png": "[encoded data removed]",
      "text/plain": [
       "<Figure size 1200x600 with 1 Axes>"
      ]
     },
     "metadata": {},
     "output_type": "display_data"
    },
    {
     "data": {
      "image/png": "[encoded data removed]",
      "text/plain": [
       "<Figure size 1200x600 with 1 Axes>"
      ]
     },
     "metadata": {},
     "output_type": "display_data"
    },
    {
     "data": {
      "image/png": "[encoded data removed]",
      "text/plain": [
       "<Figure size 1200x600 with 1 Axes>"
      ]
     },
     "metadata": {},
     "output_type": "display_data"
    },
    {
     "data": {
      "image/png": "[encoded data removed]",
      "text/plain": [
       "<Figure size 1200x600 with 1 Axes>"
      ]
     },
     "metadata": {},
     "output_type": "display_data"
    },
    {
     "data": {
      "image/png": "[encoded data removed]",
      "text/plain": [
       "<Figure size 1200x600 with 1 Axes>"
      ]
     },
     "metadata": {},
     "output_type": "display_data"
    }
   ],
   "source": [
    "top_5_currency_data_removed_outliers = pd.concat([df1, df2, df3, df4, df5], axis=0)\n",
    "\n",
    "for value in columns:\n",
    "    plt.figure()             \n",
    "    sns.boxplot(x=\"Currency\", y=value, data=top_5_currency_data_removed_outliers)\n",
    "    plt.title(value)"
   ]
  },
  {
   "cell_type": "markdown",
   "id": "47452c3d",
   "metadata": {},
   "source": [
    "3. How many values have been removed after accounting for outliers? [1]"
   ]
  },
  {
   "cell_type": "code",
   "execution_count": 200,
   "id": "05c765dd",
   "metadata": {},
   "outputs": [
    {
     "name": "stdout",
     "output_type": "stream",
     "text": [
      "Number of Values removed after accounting for outliers: 243982\n"
     ]
    }
   ],
   "source": [
    "values_removed = len(top_5_currency_data) - len(top_5_currency_data_removed_outliers)\n",
    "print(\"Number of Values removed after accounting for outliers:\", values_removed)"
   ]
  },
  {
   "cell_type": "code",
   "execution_count": 201,
   "id": "81c970a5",
   "metadata": {},
   "outputs": [
    {
     "name": "stdout",
     "output_type": "stream",
     "text": [
      "Percentage of removed values: 25.098833949706044\n"
     ]
    }
   ],
   "source": [
    "print(\"Percentage of removed values:\", values_removed/len(top_5_currency_data) * 100)"
   ]
  },
  {
   "cell_type": "markdown",
   "id": "d028c9b1",
   "metadata": {},
   "source": [
    "#### 4.2. Fuel Efficiency"
   ]
  },
  {
   "cell_type": "code",
   "execution_count": 202,
   "id": "774d36c6",
   "metadata": {},
   "outputs": [
    {
     "data": {
      "text/plain": [
       "728103"
      ]
     },
     "execution_count": 202,
     "metadata": {},
     "output_type": "execute_result"
    }
   ],
   "source": [
    "len(top_5_currency_data_removed_outliers)"
   ]
  },
  {
   "cell_type": "code",
   "execution_count": 203,
   "id": "5ee64a22",
   "metadata": {},
   "outputs": [
    {
     "data": {
      "text/html": [
       "<div>\n",
       "<style scoped>\n",
       "    .dataframe tbody tr th:only-of-type {\n",
       "        vertical-align: middle;\n",
       "    }\n",
       "\n",
       "    .dataframe tbody tr th {\n",
       "        vertical-align: top;\n",
       "    }\n",
       "\n",
       "    .dataframe thead th {\n",
       "        text-align: right;\n",
       "    }\n",
       "</style>\n",
       "<table border=\"1\" class=\"dataframe\">\n",
       "  <thead>\n",
       "    <tr style=\"text-align: right;\">\n",
       "      <th></th>\n",
       "      <th>user_ID</th>\n",
       "      <th>date_fueled</th>\n",
       "      <th>date_captured</th>\n",
       "      <th>odometer</th>\n",
       "      <th>gallons</th>\n",
       "      <th>cost_per_gallon</th>\n",
       "      <th>float_cpg</th>\n",
       "      <th>total_spent</th>\n",
       "      <th>Currency</th>\n",
       "      <th>float_tot_spent</th>\n",
       "      <th>...</th>\n",
       "      <th>miles</th>\n",
       "      <th>user_url</th>\n",
       "      <th>car_make</th>\n",
       "      <th>car_model</th>\n",
       "      <th>car_year</th>\n",
       "      <th>litres_filled</th>\n",
       "      <th>km_driven</th>\n",
       "      <th>litres_per_100km</th>\n",
       "      <th>vehicle_age</th>\n",
       "      <th>float_cpl</th>\n",
       "    </tr>\n",
       "  </thead>\n",
       "  <tbody>\n",
       "    <tr>\n",
       "      <th>4</th>\n",
       "      <td>1038865</td>\n",
       "      <td>2022-02-15</td>\n",
       "      <td>2022-02-15</td>\n",
       "      <td>NaN</td>\n",
       "      <td>11.651</td>\n",
       "      <td>$3.029</td>\n",
       "      <td>3.029</td>\n",
       "      <td>$35.29</td>\n",
       "      <td>$</td>\n",
       "      <td>35.29</td>\n",
       "      <td>...</td>\n",
       "      <td>244.4</td>\n",
       "      <td>https://www.somewebsite.com/honda/passport/201...</td>\n",
       "      <td>honda</td>\n",
       "      <td>passport</td>\n",
       "      <td>2019.0</td>\n",
       "      <td>44.103832695384</td>\n",
       "      <td>391.04</td>\n",
       "      <td>11.278598786667347</td>\n",
       "      <td>3.0</td>\n",
       "      <td>0.8001771465928316</td>\n",
       "    </tr>\n",
       "    <tr>\n",
       "      <th>5</th>\n",
       "      <td>445811</td>\n",
       "      <td>2021-10-23</td>\n",
       "      <td>2021-10-23</td>\n",
       "      <td>147567.0</td>\n",
       "      <td>3.413</td>\n",
       "      <td>$3.739</td>\n",
       "      <td>3.739</td>\n",
       "      <td>$12.76</td>\n",
       "      <td>$</td>\n",
       "      <td>12.76</td>\n",
       "      <td>...</td>\n",
       "      <td>98.97699999999999</td>\n",
       "      <td>https://www.somewebsite.com/volkswagen/passat/...</td>\n",
       "      <td>volkswagen</td>\n",
       "      <td>passat</td>\n",
       "      <td>2004.0</td>\n",
       "      <td>12.919610418791999</td>\n",
       "      <td>158.3632</td>\n",
       "      <td>8.158215051724136</td>\n",
       "      <td>17.0</td>\n",
       "      <td>0.9877393037671169</td>\n",
       "    </tr>\n",
       "    <tr>\n",
       "      <th>6</th>\n",
       "      <td>529810</td>\n",
       "      <td>2021-11-20</td>\n",
       "      <td>2021-12-12</td>\n",
       "      <td>105929.0</td>\n",
       "      <td>9.044</td>\n",
       "      <td>$4.639</td>\n",
       "      <td>4.639</td>\n",
       "      <td>$41.96</td>\n",
       "      <td>$</td>\n",
       "      <td>41.96</td>\n",
       "      <td>...</td>\n",
       "      <td>266.798</td>\n",
       "      <td>https://www.somewebsite.com/mazda/3_sport/2010...</td>\n",
       "      <td>mazda</td>\n",
       "      <td>3_sport</td>\n",
       "      <td>2010.0</td>\n",
       "      <td>34.235264174496</td>\n",
       "      <td>426.8768</td>\n",
       "      <td>8.019940220338984</td>\n",
       "      <td>11.0</td>\n",
       "      <td>1.2254941508894506</td>\n",
       "    </tr>\n",
       "    <tr>\n",
       "      <th>7</th>\n",
       "      <td>1087864</td>\n",
       "      <td>2022-01-20</td>\n",
       "      <td>2022-01-20</td>\n",
       "      <td>59475.0</td>\n",
       "      <td>14.962</td>\n",
       "      <td>$2.929</td>\n",
       "      <td>2.929</td>\n",
       "      <td>$43.82</td>\n",
       "      <td>$</td>\n",
       "      <td>43.82</td>\n",
       "      <td>...</td>\n",
       "      <td>408.4626</td>\n",
       "      <td>https://www.somewebsite.com/subaru/forester/20...</td>\n",
       "      <td>subaru</td>\n",
       "      <td>forester</td>\n",
       "      <td>2020.0</td>\n",
       "      <td>56.637331112207995</td>\n",
       "      <td>653.54016</td>\n",
       "      <td>8.666235769230768</td>\n",
       "      <td>2.0</td>\n",
       "      <td>0.7737599413570166</td>\n",
       "    </tr>\n",
       "    <tr>\n",
       "      <th>11</th>\n",
       "      <td>968116</td>\n",
       "      <td>2022-01-14</td>\n",
       "      <td>2022-01-14</td>\n",
       "      <td>22823.0</td>\n",
       "      <td>13.761</td>\n",
       "      <td>$2.599</td>\n",
       "      <td>2.599</td>\n",
       "      <td>$35.76</td>\n",
       "      <td>$</td>\n",
       "      <td>35.76</td>\n",
       "      <td>...</td>\n",
       "      <td>288.981</td>\n",
       "      <td>https://www.somewebsite.com/honda/pilot/2019/9...</td>\n",
       "      <td>honda</td>\n",
       "      <td>pilot</td>\n",
       "      <td>2019.0</td>\n",
       "      <td>52.091051559624</td>\n",
       "      <td>462.3696</td>\n",
       "      <td>11.266106500000001</td>\n",
       "      <td>3.0</td>\n",
       "      <td>0.6865831640788278</td>\n",
       "    </tr>\n",
       "  </tbody>\n",
       "</table>\n",
       "<p>5 rows × 21 columns</p>\n",
       "</div>"
      ],
      "text/plain": [
       "    user_ID date_fueled date_captured  odometer  gallons cost_per_gallon  \\\n",
       "4   1038865  2022-02-15    2022-02-15       NaN   11.651          $3.029   \n",
       "5    445811  2021-10-23    2021-10-23  147567.0    3.413          $3.739   \n",
       "6    529810  2021-11-20    2021-12-12  105929.0    9.044          $4.639   \n",
       "7   1087864  2022-01-20    2022-01-20   59475.0   14.962          $2.929   \n",
       "11   968116  2022-01-14    2022-01-14   22823.0   13.761          $2.599   \n",
       "\n",
       "    float_cpg total_spent Currency  float_tot_spent  ...             miles  \\\n",
       "4       3.029      $35.29        $            35.29  ...             244.4   \n",
       "5       3.739      $12.76        $            12.76  ... 98.97699999999999   \n",
       "6       4.639      $41.96        $            41.96  ...           266.798   \n",
       "7       2.929      $43.82        $            43.82  ...          408.4626   \n",
       "11      2.599      $35.76        $            35.76  ...           288.981   \n",
       "\n",
       "                                             user_url    car_make car_model  \\\n",
       "4   https://www.somewebsite.com/honda/passport/201...       honda  passport   \n",
       "5   https://www.somewebsite.com/volkswagen/passat/...  volkswagen    passat   \n",
       "6   https://www.somewebsite.com/mazda/3_sport/2010...       mazda   3_sport   \n",
       "7   https://www.somewebsite.com/subaru/forester/20...      subaru  forester   \n",
       "11  https://www.somewebsite.com/honda/pilot/2019/9...       honda     pilot   \n",
       "\n",
       "   car_year      litres_filled  km_driven   litres_per_100km  vehicle_age  \\\n",
       "4    2019.0    44.103832695384     391.04 11.278598786667347          3.0   \n",
       "5    2004.0 12.919610418791999   158.3632  8.158215051724136         17.0   \n",
       "6    2010.0    34.235264174496   426.8768  8.019940220338984         11.0   \n",
       "7    2020.0 56.637331112207995  653.54016  8.666235769230768          2.0   \n",
       "11   2019.0    52.091051559624   462.3696 11.266106500000001          3.0   \n",
       "\n",
       "            float_cpl  \n",
       "4  0.8001771465928316  \n",
       "5  0.9877393037671169  \n",
       "6  1.2254941508894506  \n",
       "7  0.7737599413570166  \n",
       "11 0.6865831640788278  \n",
       "\n",
       "[5 rows x 21 columns]"
      ]
     },
     "execution_count": 203,
     "metadata": {},
     "output_type": "execute_result"
    }
   ],
   "source": [
    "top_5_currency_data_removed_outliers.head()"
   ]
  },
  {
   "cell_type": "markdown",
   "id": "e2cd58ae",
   "metadata": {},
   "source": [
    "1. Look at the difference in cost per litre per country for January 2022 -\n",
    "use the average currency conversion rate to Rands (quote your values and\n",
    "source). Are there any notable differences? Discuss reasons why this\n",
    "may/may not be the case. [5]"
   ]
  },
  {
   "cell_type": "code",
   "execution_count": 205,
   "id": "3a0065bd",
   "metadata": {},
   "outputs": [],
   "source": [
    "# copying top 5 currency dataframe\n",
    "df_copy = top_5_currency_data_removed_outliers.copy()"
   ]
  },
  {
   "cell_type": "code",
   "execution_count": 206,
   "id": "b950d550",
   "metadata": {},
   "outputs": [],
   "source": [
    "# Creating a rands conversion column \n",
    "df_copy['cpl_rands'] = df_copy['float_cpl']"
   ]
  },
  {
   "cell_type": "code",
   "execution_count": 210,
   "id": "8840128b",
   "metadata": {},
   "outputs": [],
   "source": [
    "# Converting currencies to Rands using the  average currency conversion rate to Rands\n",
    "# These are the exchange rates as off 2 Sept 2025 @ 14:55\n",
    "\n",
    "# average dollar rand exchange rate: 17.62 ZAR\n",
    "df_copy['cpl_rands'][df_copy['Currency'].isin(['$'])] = df_copy['cpl_rands']*17.62\n",
    "\n",
    "# average Pound Sterling rand exchange rate: 23,71 ZAR\n",
    "df_copy['cpl_rands'][df_copy['Currency'].isin(['£'])] = df_copy['cpl_rands']*23.71\n",
    "\n",
    "# average Euro rand exchange rate: 20,64 ZAR\n",
    "df_copy['cpl_rands'][df_copy['Currency'].isin(['€'])] = df_copy['cpl_rands']*20.64 \n",
    "\n",
    "# average Canadian dollar rand exchange rate: 12,87 ZAR\n",
    "df_copy['cpl_rands'][df_copy['Currency'].isin(['CA$'])] = df_copy['cpl_rands']*12.87"
   ]
  },
  {
   "cell_type": "code",
   "execution_count": 211,
   "id": "b4131bc3",
   "metadata": {},
   "outputs": [],
   "source": [
    "currency_values = ['R', '$', '£', '€', 'CA$']"
   ]
  },
  {
   "cell_type": "markdown",
   "id": "52592fd0",
   "metadata": {},
   "source": [
    "January 2022"
   ]
  },
  {
   "cell_type": "code",
   "execution_count": 212,
   "id": "604ec36f",
   "metadata": {},
   "outputs": [],
   "source": [
    "# Filtering out January 2022\n",
    "jan_22_df = df_copy[df_copy['date_fueled'].dt.to_period('M') == '2022-01']"
   ]
  },
  {
   "cell_type": "code",
   "execution_count": 213,
   "id": "c04ed3e9",
   "metadata": {},
   "outputs": [
    {
     "data": {
      "text/plain": [
       "<Axes: xlabel='Currency', ylabel='cpl_rands'>"
      ]
     },
     "execution_count": 213,
     "metadata": {},
     "output_type": "execute_result"
    },
    {
     "data": {
      "image/png": "[encoded data removed]",
      "text/plain": [
       "<Figure size 1200x600 with 1 Axes>"
      ]
     },
     "metadata": {},
     "output_type": "display_data"
    }
   ],
   "source": [
    "# Boxplot to observe the difference in cost per litre per country for January 2022\n",
    "sns.boxplot(x=\"Currency\", y='cpl_rands', data=jan_22_df)"
   ]
  },
  {
   "cell_type": "code",
   "execution_count": 214,
   "id": "1511d2ac",
   "metadata": {},
   "outputs": [
    {
     "name": "stdout",
     "output_type": "stream",
     "text": [
      "R \n",
      " count                730.0\n",
      "mean    18.912974689538817\n",
      "std     0.8352445540143704\n",
      "min     15.150267202739812\n",
      "25%      18.58450388339574\n",
      "50%      19.05473013659325\n",
      "75%     19.515049937827317\n",
      "max      20.79034052058628\n",
      "Name: cpl_rands, dtype: float64\n",
      "$ \n",
      " count              30552.0\n",
      "mean      74183.9966421989\n",
      "std     12966.399438685026\n",
      "min     33110.017452966145\n",
      "25%      64958.90448002848\n",
      "50%      70516.42839079103\n",
      "75%      80562.72161409259\n",
      "max      118610.3853108516\n",
      "Name: cpl_rands, dtype: float64\n",
      "£ \n",
      " count                897.0\n",
      "mean     16713.47694524005\n",
      "std      774.5342825208747\n",
      "min     10268.051107344996\n",
      "25%     16338.281320804834\n",
      "50%     16670.482974277762\n",
      "75%     17032.884778066407\n",
      "max     18844.893797009645\n",
      "Name: cpl_rands, dtype: float64\n",
      "€ \n",
      " count                812.0\n",
      "mean     11779.67379405422\n",
      "std     1686.6384904483323\n",
      "min      6100.401568190396\n",
      "25%     10980.722822742711\n",
      "50%     11984.337274283711\n",
      "75%     12869.879437408124\n",
      "max      14640.96376365695\n",
      "Name: cpl_rands, dtype: float64\n",
      "CA$ \n",
      " count               1479.0\n",
      "mean    2865.2701570532054\n",
      "std      311.9099952453824\n",
      "min      1439.933482901077\n",
      "25%      2673.424889400566\n",
      "50%     2792.1290833314793\n",
      "75%      3045.020626923425\n",
      "max      3767.567894328982\n",
      "Name: cpl_rands, dtype: float64\n"
     ]
    }
   ],
   "source": [
    "for cv in currency_values:\n",
    "    print(cv, \"\\n\",jan_22_df['cpl_rands'][jan_22_df['Currency'].isin([cv])].describe())"
   ]
  },
  {
   "cell_type": "markdown",
   "id": "c13048ad",
   "metadata": {},
   "source": [
    "2. Looking at the odometer readings, find examples of where users have\n",
    "missed logging a fill-up. Give a basic rule for identifying this, and es-\n",
    "timate how many there are in the dataset. [5]"
   ]
  },
  {
   "cell_type": "markdown",
   "id": "d3f37a4c",
   "metadata": {},
   "source": [
    "3. Plot the average distance (in km) per tank per country. Which country\n",
    "has the largest average distance? Provide some explanations for why this\n",
    "might be the case. [5]\n"
   ]
  },
  {
   "cell_type": "markdown",
   "id": "c30f63b2",
   "metadata": {},
   "source": [
    "4. Do newer vehicles drive further distances between fill-ups? Provide a plot\n",
    "to show this. [4]"
   ]
  },
  {
   "cell_type": "markdown",
   "id": "ab19171d",
   "metadata": {},
   "source": [
    "5. Take the top 5 most popular vehicles in SA (ie, those with currency set\n",
    "to R). Compute their fuel efficiency and discuss whether these values are\n",
    "realistic. [3]\n"
   ]
  },
  {
   "cell_type": "markdown",
   "id": "4534e1cb",
   "metadata": {},
   "source": [
    "6. Which vehicles are the most fuel efficient in each country? (Make sure the\n",
    "values are reasonable!!! You can look up values of fuel efficiency online\n",
    "to do a sanity check, but a value of 1l per 100km, or 100l per 100km are\n",
    "clearly wrong). [5]"
   ]
  },
  {
   "cell_type": "markdown",
   "id": "e867b77d",
   "metadata": {},
   "source": [
    "#### 4.3. Fuel Usage in SA"
   ]
  },
  {
   "cell_type": "markdown",
   "id": "714a0f36",
   "metadata": {},
   "source": [
    "1. Filter the above dataset to focus on SA drivers. [1]\n",
    "2. Plot the fuel prices over time for SA. [2]\n",
    "3. Using a suitable plot, show if the difference in the number of people refu-\n",
    "eling on a Tuesday vs other days. [3]\n",
    "4. Now reduce your dataset to only the entries on the 1st Tuesday and 1st\n",
    "Wednesday in SA every month. [2]\n",
    "5. For each Tuesday and Wednesday, add an indicator for whether the price\n",
    "goes up or the price goes down that month. [4]\n",
    "6. Do more people refuel on the first Wednesday of the month when the\n",
    "prices goes down? [2]\n",
    "7. Do more people refuel on the first Tuesday of the month when the prices\n",
    "goes up? [2]"
   ]
  }
 ],
 "metadata": {
  "kernelspec": {
   "display_name": "Python 3",
   "language": "python",
   "name": "python3"
  },
  "language_info": {
   "codemirror_mode": {
    "name": "ipython",
    "version": 3
   },
   "file_extension": ".py",
   "mimetype": "text/x-python",
   "name": "python",
   "nbconvert_exporter": "python",
   "pygments_lexer": "ipython3",
   "version": "3.10.12"
  }
 },
 "nbformat": 4,
 "nbformat_minor": 5
}
