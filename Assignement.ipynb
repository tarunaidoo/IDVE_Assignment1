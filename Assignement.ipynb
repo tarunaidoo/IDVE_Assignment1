{
 "cells": [
  {
   "cell_type": "markdown",
   "id": "ca32b5a3",
   "metadata": {},
   "source": [
    "### Question 1 - Data Cleaning"
   ]
  },
  {
   "cell_type": "markdown",
   "id": "5f3f89e8",
   "metadata": {},
   "source": [
    "### Question 2 - Feature Engineering"
   ]
  },
  {
   "cell_type": "markdown",
   "id": "e7ac32c1",
   "metadata": {},
   "source": [
    "### Question 3 - Vehicle Exploration"
   ]
  },
  {
   "cell_type": "markdown",
   "id": "2b735f49",
   "metadata": {},
   "source": [
    "### Question 4 - Fuel Usage"
   ]
  }
 ],
 "metadata": {
  "language_info": {
   "name": "python"
  }
 },
 "nbformat": 4,
 "nbformat_minor": 5
}
