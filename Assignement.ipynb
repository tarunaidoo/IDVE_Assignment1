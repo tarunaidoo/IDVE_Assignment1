{
 "cells": [
  {
   "cell_type": "markdown",
   "id": "ca32b5a3",
   "metadata": {},
   "source": [
    "### Question 1 - Data Cleaning"
   ]
  },
  {
   "cell_type": "markdown",
   "id": "b3966f5b",
   "metadata": {
    "vscode": {
     "languageId": "plaintext"
    }
   },
   "source": [
    "#### Date Fields"
   ]
  },
  {
   "cell_type": "markdown",
   "id": "5033bb3d",
   "metadata": {},
   "source": [
    "1. Identify what percentage of date fueled entries that are not proper dates.\n",
    "[1]"
   ]
  },
  {
   "cell_type": "code",
   "execution_count": 1,
   "id": "6c83e0c0",
   "metadata": {},
   "outputs": [
    {
     "ename": "ModuleNotFoundError",
     "evalue": "No module named 'pandas'",
     "output_type": "error",
     "traceback": [
      "\u001b[31m---------------------------------------------------------------------------\u001b[39m",
      "\u001b[31mModuleNotFoundError\u001b[39m                       Traceback (most recent call last)",
      "\u001b[36mCell\u001b[39m\u001b[36m \u001b[39m\u001b[32mIn[1]\u001b[39m\u001b[32m, line 1\u001b[39m\n\u001b[32m----> \u001b[39m\u001b[32m1\u001b[39m \u001b[38;5;28;01mimport\u001b[39;00m\u001b[38;5;250m \u001b[39m\u001b[34;01mpandas\u001b[39;00m\u001b[38;5;250m \u001b[39m\u001b[38;5;28;01mas\u001b[39;00m\u001b[38;5;250m \u001b[39m\u001b[34;01mpd\u001b[39;00m\n\u001b[32m      2\u001b[39m \u001b[38;5;28;01mimport\u001b[39;00m\u001b[38;5;250m \u001b[39m\u001b[34;01mnumpy\u001b[39;00m\u001b[38;5;250m \u001b[39m\u001b[38;5;28;01mas\u001b[39;00m\u001b[38;5;250m \u001b[39m\u001b[34;01mnp\u001b[39;00m\n\u001b[32m      4\u001b[39m \u001b[38;5;66;03m# Load the dataset\u001b[39;00m\n",
      "\u001b[31mModuleNotFoundError\u001b[39m: No module named 'pandas'"
     ]
    }
   ],
   "source": [
    "import pandas as pd\n",
    "import numpy as np\n",
    "\n",
    "# Load the dataset\n",
    "df = pd.read_csv('logbook.assignment1.csv')\n",
    "\n",
    "# Convert the 'date fueled' column to datetime, setting invalid dates to NaT\n",
    "df['date fueled_converted'] = pd.to_datetime(df['date fueled'], errors='coerce')\n",
    "\n",
    "# Count the number of invalid dates\n",
    "invalid_dates_count = df['date fueled_converted'].isna().sum()\n",
    "\n",
    "# Calculate the percentage of invalid dates\n",
    "total_entries = len(df)\n",
    "percentage_invalid = (invalid_dates_count / total_entries) * 100\n",
    "\n",
    "print(f\"Percentage of 'date fueled' entries that are not proper dates: {percentage_invalid:.2f}%\")"
   ]
  },
  {
   "cell_type": "markdown",
   "id": "b49c847a",
   "metadata": {},
   "source": [
    "2. If date fueled is not entered correctly (or is not a date), and the date\n",
    "captured is a valid date, then fill in this value as a proxy. [1]"
   ]
  },
  {
   "cell_type": "code",
   "execution_count": 2,
   "id": "fa33f751",
   "metadata": {},
   "outputs": [
    {
     "ename": "NameError",
     "evalue": "name 'pd' is not defined",
     "output_type": "error",
     "traceback": [
      "\u001b[31m---------------------------------------------------------------------------\u001b[39m",
      "\u001b[31mNameError\u001b[39m                                 Traceback (most recent call last)",
      "\u001b[36mCell\u001b[39m\u001b[36m \u001b[39m\u001b[32mIn[2]\u001b[39m\u001b[32m, line 2\u001b[39m\n\u001b[32m      1\u001b[39m \u001b[38;5;66;03m# Convert 'date captured' to datetime\u001b[39;00m\n\u001b[32m----> \u001b[39m\u001b[32m2\u001b[39m df[\u001b[33m'\u001b[39m\u001b[33mdate_captured_converted\u001b[39m\u001b[33m'\u001b[39m] = \u001b[43mpd\u001b[49m.to_datetime(df[\u001b[33m'\u001b[39m\u001b[33mdate_captured\u001b[39m\u001b[33m'\u001b[39m], errors=\u001b[33m'\u001b[39m\u001b[33mcoerce\u001b[39m\u001b[33m'\u001b[39m)\n\u001b[32m      4\u001b[39m \u001b[38;5;66;03m# Fill NaT values in 'date fueled_converted' with 'date_captured_converted'\u001b[39;00m\n\u001b[32m      5\u001b[39m df[\u001b[33m'\u001b[39m\u001b[33mdate fueled_cleaned\u001b[39m\u001b[33m'\u001b[39m] = df[\u001b[33m'\u001b[39m\u001b[33mdate fueled_converted\u001b[39m\u001b[33m'\u001b[39m].fillna(df[\u001b[33m'\u001b[39m\u001b[33mdate_captured_converted\u001b[39m\u001b[33m'\u001b[39m])\n",
      "\u001b[31mNameError\u001b[39m: name 'pd' is not defined"
     ]
    }
   ],
   "source": [
    "# Convert 'date captured' to datetime\n",
    "df['date_captured_converted'] = pd.to_datetime(df['date_captured'], errors='coerce')\n",
    "\n",
    "# Fill NaT values in 'date fueled_converted' with 'date_captured_converted'\n",
    "df['date fueled_cleaned'] = df['date fueled_converted'].fillna(df['date_captured_converted'])\n",
    "\n",
    "# You can drop the intermediate columns if you want\n",
    "# df.drop(columns=['date fueled_converted', 'date_captured_converted'], inplace=True)"
   ]
  },
  {
   "cell_type": "markdown",
   "id": "6b900aaf",
   "metadata": {},
   "source": [
    "3. Convert the column to a date format, setting any invalid date fueled entries\n",
    "to NaT. [2]"
   ]
  },
  {
   "cell_type": "code",
   "execution_count": 3,
   "id": "8a94f972",
   "metadata": {},
   "outputs": [
    {
     "ename": "NameError",
     "evalue": "name 'pd' is not defined",
     "output_type": "error",
     "traceback": [
      "\u001b[31m---------------------------------------------------------------------------\u001b[39m",
      "\u001b[31mNameError\u001b[39m                                 Traceback (most recent call last)",
      "\u001b[36mCell\u001b[39m\u001b[36m \u001b[39m\u001b[32mIn[3]\u001b[39m\u001b[32m, line 3\u001b[39m\n\u001b[32m      1\u001b[39m \u001b[38;5;66;03m# Re-apply the conversion to the column to ensure any remaining invalid dates are NaT\u001b[39;00m\n\u001b[32m      2\u001b[39m \u001b[38;5;66;03m# This is a good practice to ensure consistency\u001b[39;00m\n\u001b[32m----> \u001b[39m\u001b[32m3\u001b[39m df[\u001b[33m'\u001b[39m\u001b[33mdate fueled\u001b[39m\u001b[33m'\u001b[39m] = \u001b[43mpd\u001b[49m.to_datetime(df[\u001b[33m'\u001b[39m\u001b[33mdate fueled\u001b[39m\u001b[33m'\u001b[39m], errors=\u001b[33m'\u001b[39m\u001b[33mcoerce\u001b[39m\u001b[33m'\u001b[39m)\n",
      "\u001b[31mNameError\u001b[39m: name 'pd' is not defined"
     ]
    }
   ],
   "source": [
    "# Re-apply the conversion to the column to ensure any remaining invalid dates are NaT\n",
    "# This is a good practice to ensure consistency\n",
    "df['date fueled'] = pd.to_datetime(df['date fueled'], errors='coerce')"
   ]
  },
  {
   "cell_type": "markdown",
   "id": "cbd246df",
   "metadata": {
    "vscode": {
     "languageId": "plaintext"
    }
   },
   "source": [
    "4. Remove dates that are in the future, or dates that are earlier than 2005.\n",
    "[1]"
   ]
  },
  {
   "cell_type": "code",
   "execution_count": 4,
   "id": "5c97555e",
   "metadata": {},
   "outputs": [
    {
     "ename": "NameError",
     "evalue": "name 'pd' is not defined",
     "output_type": "error",
     "traceback": [
      "\u001b[31m---------------------------------------------------------------------------\u001b[39m",
      "\u001b[31mNameError\u001b[39m                                 Traceback (most recent call last)",
      "\u001b[36mCell\u001b[39m\u001b[36m \u001b[39m\u001b[32mIn[4]\u001b[39m\u001b[32m, line 2\u001b[39m\n\u001b[32m      1\u001b[39m \u001b[38;5;66;03m# Define the date boundaries\u001b[39;00m\n\u001b[32m----> \u001b[39m\u001b[32m2\u001b[39m min_date = \u001b[43mpd\u001b[49m.to_datetime(\u001b[33m'\u001b[39m\u001b[33m2005-01-01\u001b[39m\u001b[33m'\u001b[39m)\n\u001b[32m      3\u001b[39m current_date = pd.to_datetime(\u001b[33m'\u001b[39m\u001b[33mnow\u001b[39m\u001b[33m'\u001b[39m)\n\u001b[32m      5\u001b[39m \u001b[38;5;66;03m# Filter out dates that are in the future or earlier than 2005\u001b[39;00m\n",
      "\u001b[31mNameError\u001b[39m: name 'pd' is not defined"
     ]
    }
   ],
   "source": [
    "# Define the date boundaries\n",
    "min_date = pd.to_datetime('2005-01-01')\n",
    "current_date = pd.to_datetime('now')\n",
    "\n",
    "# Filter out dates that are in the future or earlier than 2005\n",
    "df = df[(df['date fueled'] >= min_date) & (df['date fueled'] <= current_date)]"
   ]
  },
  {
   "cell_type": "markdown",
   "id": "f4c418ad",
   "metadata": {},
   "source": [
    "5. Plot the distribution of fueling dates and comment on the results. [2]"
   ]
  },
  {
   "cell_type": "code",
   "execution_count": 5,
   "id": "2b412481",
   "metadata": {},
   "outputs": [
    {
     "ename": "ModuleNotFoundError",
     "evalue": "No module named 'matplotlib'",
     "output_type": "error",
     "traceback": [
      "\u001b[31m---------------------------------------------------------------------------\u001b[39m",
      "\u001b[31mModuleNotFoundError\u001b[39m                       Traceback (most recent call last)",
      "\u001b[36mCell\u001b[39m\u001b[36m \u001b[39m\u001b[32mIn[5]\u001b[39m\u001b[32m, line 1\u001b[39m\n\u001b[32m----> \u001b[39m\u001b[32m1\u001b[39m \u001b[38;5;28;01mimport\u001b[39;00m\u001b[38;5;250m \u001b[39m\u001b[34;01mmatplotlib\u001b[39;00m\u001b[34;01m.\u001b[39;00m\u001b[34;01mpyplot\u001b[39;00m\u001b[38;5;250m \u001b[39m\u001b[38;5;28;01mas\u001b[39;00m\u001b[38;5;250m \u001b[39m\u001b[34;01mplt\u001b[39;00m\n\u001b[32m      2\u001b[39m \u001b[38;5;28;01mimport\u001b[39;00m\u001b[38;5;250m \u001b[39m\u001b[34;01mseaborn\u001b[39;00m\u001b[38;5;250m \u001b[39m\u001b[38;5;28;01mas\u001b[39;00m\u001b[38;5;250m \u001b[39m\u001b[34;01msns\u001b[39;00m\n\u001b[32m      4\u001b[39m \u001b[38;5;66;03m# Set the style of the plots\u001b[39;00m\n",
      "\u001b[31mModuleNotFoundError\u001b[39m: No module named 'matplotlib'"
     ]
    }
   ],
   "source": [
    "import matplotlib.pyplot as plt\n",
    "import seaborn as sns\n",
    "\n",
    "# Set the style of the plots\n",
    "sns.set_style('whitegrid')\n",
    "\n",
    "# Extract the year and month for plotting\n",
    "df['fueling_year'] = df['date fueled'].dt.year\n",
    "df['fueling_month_year'] = df['date fueled'].dt.to_period('M')\n",
    "\n",
    "# Plot the distribution over the years\n",
    "plt.figure(figsize=(10, 6))\n",
    "sns.histplot(df['fueling_year'], bins=range(df['fueling_year'].min(), df['fueling_year'].max() + 2), kde=False)\n",
    "plt.title('Distribution of Fueling Dates by Year')\n",
    "plt.xlabel('Year')\n",
    "plt.ylabel('Number of Entries')\n",
    "plt.show()\n",
    "\n",
    "# Plot the distribution over time (by month-year)\n",
    "# Convert to a DataFrame for easier plotting with seaborn\n",
    "fueling_counts = df['fueling_month_year'].value_counts().sort_index().reset_index()\n",
    "fueling_counts.columns = ['Date', 'Count']\n",
    "fueling_counts['Date'] = fueling_counts['Date'].astype(str)\n",
    "\n",
    "plt.figure(figsize=(15, 7))\n",
    "sns.lineplot(data=fueling_counts, x='Date', y='Count')\n",
    "plt.title('Fueling Activity Over Time')\n",
    "plt.xlabel('Date')\n",
    "plt.ylabel('Number of Fueling Logs')\n",
    "plt.xticks(rotation=45)\n",
    "plt.tight_layout()\n",
    "plt.show()"
   ]
  },
  {
   "cell_type": "markdown",
   "id": "eceb00b3",
   "metadata": {},
   "source": [
    "#### Numeric Fields"
   ]
  },
  {
   "cell_type": "markdown",
   "id": "5f3f89e8",
   "metadata": {},
   "source": [
    "### Question 2 - Feature Engineering"
   ]
  },
  {
   "cell_type": "markdown",
   "id": "e7ac32c1",
   "metadata": {},
   "source": [
    "### Question 3 - Vehicle Exploration"
   ]
  },
  {
   "cell_type": "markdown",
   "id": "2b735f49",
   "metadata": {},
   "source": [
    "### Question 4 - Fuel Usage"
   ]
  }
 ],
 "metadata": {
  "kernelspec": {
   "display_name": "Python 3",
   "language": "python",
   "name": "python3"
  },
  "language_info": {
   "codemirror_mode": {
    "name": "ipython",
    "version": 3
   },
   "file_extension": ".py",
   "mimetype": "text/x-python",
   "name": "python",
   "nbconvert_exporter": "python",
   "pygments_lexer": "ipython3",
   "version": "3.12.1"
  }
 },
 "nbformat": 4,
 "nbformat_minor": 5
}
